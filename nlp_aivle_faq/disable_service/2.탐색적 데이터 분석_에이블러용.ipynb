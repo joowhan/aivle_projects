{
 "cells": [
  {
   "cell_type": "markdown",
   "metadata": {
    "id": "qsIsGzftJuH9"
   },
   "source": [
    "# 장애인콜택시 대기시간 예측\n",
    "## 단계2. 탐색적 데이터 분석"
   ]
  },
  {
   "cell_type": "markdown",
   "metadata": {
    "id": "Dh02CX03JuES"
   },
   "source": [
    "## 0.미션\n",
    "\n",
    "* 1.개별 변수 분석하기\n",
    "    * 앞서 생성된 각 변수들 특히 추가로 생성한 변수들에 대해서 단변량 분석을 수행합니다. \n",
    "    * 시각화 : Histogram, Boxplot, Barplot\n",
    "    * 통계량 : 기초 통계량.\n",
    "    * [옵션] 날짜 요소 관점을 추가해서 EDA 를 수행하시오.\n",
    "* 2.Features와 Target의 관계 분석하기\n",
    "    * Target은 숫자입니다.\n",
    "    * 숫자형 feature들과 Target 과의 관계\n",
    "        * 한꺼번에 상관관계를 확인하는 방법을 이용하여 분석합시다.\n",
    "    * 범주형 feature들과 Target\n",
    "        * sns.barplot, t-검정, 분산분석 등을 이용하여 분석합니다.\n",
    "    * Target과 관련이 높은 feature와 그렇지 않은 feature를 정리해 봅시다."
   ]
  },
  {
   "cell_type": "markdown",
   "metadata": {
    "id": "dWToio0hXNVS"
   },
   "source": [
    "## 1.환경설정"
   ]
  },
  {
   "cell_type": "markdown",
   "metadata": {
    "id": "KnzVh2LmkLDU"
   },
   "source": [
    "### (1) 라이브러리 불러오기"
   ]
  },
  {
   "cell_type": "markdown",
   "metadata": {
    "id": "I_rCs78QJZmI"
   },
   "source": [
    "* **세부 요구사항**\n",
    "    - 기본적으로 필요한 라이브러리를 import 하도록 코드가 작성되어 있습니다.\n",
    "    - 필요하다고 판단되는 라이브러리를 추가하세요."
   ]
  },
  {
   "cell_type": "code",
   "execution_count": 1,
   "metadata": {
    "id": "3rsQerEaELwI"
   },
   "outputs": [],
   "source": [
    "import pandas as pd\n",
    "import numpy as np\n",
    "import matplotlib.pyplot as plt\n",
    "import seaborn as sns\n",
    "import scipy.stats as spst\n",
    "import joblib\n",
    "\n",
    "# 필요하다고 판단되는 라이브러리를 추가하세요.\n",
    "\n",
    "\n"
   ]
  },
  {
   "cell_type": "markdown",
   "metadata": {
    "id": "wsLDv9tZc_i1"
   },
   "source": [
    "### (2) 데이터 로딩\n",
    "* 주어진 데이터셋\n",
    "    * [1.전처리 단계]에서 저장한 파일 : data1pkl\n",
    "* 다음의 두가지 방법 중 하나를 선택하시오.\n",
    "    * 1) 로컬 수행(Ananconda)\n",
    "    * 2) 구글콜랩"
   ]
  },
  {
   "cell_type": "markdown",
   "metadata": {
    "id": "HYi9O2rNdBU_"
   },
   "source": [
    "#### 1) 로컬 수행(Anaconda)\n",
    "* project 폴더에 필요한 파일들을 넣고, 본 파일을 열었다면, 별도 경로 지정이 필요하지 않습니다."
   ]
  },
  {
   "cell_type": "code",
   "execution_count": null,
   "metadata": {
    "id": "876cuCbEd4j_"
   },
   "outputs": [],
   "source": [
    "path = ''"
   ]
  },
  {
   "cell_type": "markdown",
   "metadata": {
    "id": "S0yzHcH6fdzJ"
   },
   "source": [
    "#### 2) 구글 콜랩 수행"
   ]
  },
  {
   "cell_type": "markdown",
   "metadata": {
    "id": "Uc_kIeeJeDgi"
   },
   "source": [
    "* 구글 드라이브 연결"
   ]
  },
  {
   "cell_type": "code",
   "execution_count": null,
   "metadata": {
    "id": "dd0SPbYdfhS9"
   },
   "outputs": [],
   "source": [
    "from google.colab import drive\n",
    "drive.mount('/content/drive')"
   ]
  },
  {
   "cell_type": "code",
   "execution_count": null,
   "metadata": {
    "id": "y5OIDazoeIN4"
   },
   "outputs": [],
   "source": [
    "path = '/content/drive/MyDrive/project/'"
   ]
  },
  {
   "cell_type": "markdown",
   "metadata": {
    "id": "GH3ApIzofYPb"
   },
   "source": [
    "#### 3) 데이터 읽어오기"
   ]
  },
  {
   "cell_type": "code",
   "execution_count": 3,
   "metadata": {
    "id": "FT_JFnclfcQ4"
   },
   "outputs": [],
   "source": [
    "file1 = 'data1.pkl'"
   ]
  },
  {
   "cell_type": "code",
   "execution_count": 4,
   "metadata": {
    "id": "ZpMoNMpcQoQ5"
   },
   "outputs": [],
   "source": [
    "data1 = joblib.load(file1)"
   ]
  },
  {
   "cell_type": "markdown",
   "metadata": {
    "id": "OQsk3V6hXSjE"
   },
   "source": [
    "## 2.EDA : 1단계 - 개별 정보 분석하기\n",
    "\n",
    "* **세부요구사항**\n",
    "    * 의미 있는 변수들을 7개 이상 선정하고 단변량분석을 수행합니다. \n",
    "    * [옵션] 각 변수에 대한 탐색시, 요일별, 월별, 연도별로 나눠서도 확인해보세요.\n",
    "    * 단변량 분석을 위한 코드를 함수로 작성하고 수행하세요."
   ]
  },
  {
   "cell_type": "markdown",
   "metadata": {
    "id": "6YvLSA5wEv4s"
   },
   "source": [
    "### (1) 단변량 분석 함수 작성\n",
    "* **세부요구사항**\n",
    "    * 코드가 반복되므로, 시각화와 기초통계량을 한꺼번에 처리하는 함수를 생성합시다.\n",
    "    * 포함되어야 할 내용 : \n",
    "        * 기초통계량\n",
    "            * 숫자 : .describe()\n",
    "            * 범주 : 범주별 빈도수/비율\n",
    "        * 시각화\n"
   ]
  },
  {
   "cell_type": "code",
   "execution_count": 5,
   "metadata": {
    "id": "h1HxWlMdwnlr"
   },
   "outputs": [
    {
     "data": {
      "text/html": [
       "<div>\n",
       "<style scoped>\n",
       "    .dataframe tbody tr th:only-of-type {\n",
       "        vertical-align: middle;\n",
       "    }\n",
       "\n",
       "    .dataframe tbody tr th {\n",
       "        vertical-align: top;\n",
       "    }\n",
       "\n",
       "    .dataframe thead th {\n",
       "        text-align: right;\n",
       "    }\n",
       "</style>\n",
       "<table border=\"1\" class=\"dataframe\">\n",
       "  <thead>\n",
       "    <tr style=\"text-align: right;\">\n",
       "      <th></th>\n",
       "      <th>driving_car</th>\n",
       "      <th>reception</th>\n",
       "      <th>boarding</th>\n",
       "      <th>avg_waiting</th>\n",
       "      <th>avg_fee</th>\n",
       "      <th>avg_distance</th>\n",
       "      <th>week</th>\n",
       "      <th>year</th>\n",
       "      <th>month</th>\n",
       "      <th>weekday</th>\n",
       "      <th>day</th>\n",
       "      <th>temp_max</th>\n",
       "      <th>temp_min</th>\n",
       "      <th>rain(mm)</th>\n",
       "      <th>humidity_max(%)</th>\n",
       "      <th>humidity_min(%)</th>\n",
       "      <th>sunshine(MJ/m2)</th>\n",
       "      <th>is_holiday</th>\n",
       "      <th>boarding_rate</th>\n",
       "    </tr>\n",
       "  </thead>\n",
       "  <tbody>\n",
       "    <tr>\n",
       "      <th>count</th>\n",
       "      <td>2921.000000</td>\n",
       "      <td>2921.000000</td>\n",
       "      <td>2921.000000</td>\n",
       "      <td>2921.000000</td>\n",
       "      <td>2921.000000</td>\n",
       "      <td>2921.000000</td>\n",
       "      <td>2921.000000</td>\n",
       "      <td>2921.000000</td>\n",
       "      <td>2921.000000</td>\n",
       "      <td>2921.000000</td>\n",
       "      <td>2921.000000</td>\n",
       "      <td>2921.000000</td>\n",
       "      <td>2921.000000</td>\n",
       "      <td>2921.000000</td>\n",
       "      <td>2921.000000</td>\n",
       "      <td>2921.000000</td>\n",
       "      <td>2921.000000</td>\n",
       "      <td>2921.000000</td>\n",
       "      <td>2921.000000</td>\n",
       "    </tr>\n",
       "    <tr>\n",
       "      <th>mean</th>\n",
       "      <td>418.755221</td>\n",
       "      <td>3926.209860</td>\n",
       "      <td>3284.401232</td>\n",
       "      <td>40.307942</td>\n",
       "      <td>2304.267717</td>\n",
       "      <td>9253.437864</td>\n",
       "      <td>26.635741</td>\n",
       "      <td>2018.498459</td>\n",
       "      <td>6.521054</td>\n",
       "      <td>3.000342</td>\n",
       "      <td>15.724409</td>\n",
       "      <td>18.077405</td>\n",
       "      <td>9.414618</td>\n",
       "      <td>3.356761</td>\n",
       "      <td>79.104074</td>\n",
       "      <td>41.119411</td>\n",
       "      <td>13.497693</td>\n",
       "      <td>0.040739</td>\n",
       "      <td>0.841580</td>\n",
       "    </tr>\n",
       "    <tr>\n",
       "      <th>std</th>\n",
       "      <td>133.747019</td>\n",
       "      <td>1509.649338</td>\n",
       "      <td>1249.080267</td>\n",
       "      <td>14.100434</td>\n",
       "      <td>107.278144</td>\n",
       "      <td>1019.367122</td>\n",
       "      <td>15.062136</td>\n",
       "      <td>2.291007</td>\n",
       "      <td>3.448394</td>\n",
       "      <td>1.999743</td>\n",
       "      <td>8.798567</td>\n",
       "      <td>10.706655</td>\n",
       "      <td>10.784649</td>\n",
       "      <td>12.597807</td>\n",
       "      <td>14.024176</td>\n",
       "      <td>16.401564</td>\n",
       "      <td>6.941039</td>\n",
       "      <td>0.197720</td>\n",
       "      <td>0.052181</td>\n",
       "    </tr>\n",
       "    <tr>\n",
       "      <th>min</th>\n",
       "      <td>132.000000</td>\n",
       "      <td>527.000000</td>\n",
       "      <td>462.000000</td>\n",
       "      <td>17.200000</td>\n",
       "      <td>2131.000000</td>\n",
       "      <td>7672.000000</td>\n",
       "      <td>1.000000</td>\n",
       "      <td>2015.000000</td>\n",
       "      <td>1.000000</td>\n",
       "      <td>0.000000</td>\n",
       "      <td>1.000000</td>\n",
       "      <td>-11.200000</td>\n",
       "      <td>-18.500000</td>\n",
       "      <td>0.000000</td>\n",
       "      <td>29.000000</td>\n",
       "      <td>7.000000</td>\n",
       "      <td>0.000000</td>\n",
       "      <td>0.000000</td>\n",
       "      <td>0.596996</td>\n",
       "    </tr>\n",
       "    <tr>\n",
       "      <th>25%</th>\n",
       "      <td>278.000000</td>\n",
       "      <td>2162.000000</td>\n",
       "      <td>1779.000000</td>\n",
       "      <td>29.600000</td>\n",
       "      <td>2228.000000</td>\n",
       "      <td>8521.000000</td>\n",
       "      <td>14.000000</td>\n",
       "      <td>2016.000000</td>\n",
       "      <td>4.000000</td>\n",
       "      <td>1.000000</td>\n",
       "      <td>8.000000</td>\n",
       "      <td>9.000000</td>\n",
       "      <td>0.500000</td>\n",
       "      <td>0.000000</td>\n",
       "      <td>70.000000</td>\n",
       "      <td>29.000000</td>\n",
       "      <td>8.240000</td>\n",
       "      <td>0.000000</td>\n",
       "      <td>0.805956</td>\n",
       "    </tr>\n",
       "    <tr>\n",
       "      <th>50%</th>\n",
       "      <td>454.000000</td>\n",
       "      <td>4721.000000</td>\n",
       "      <td>3933.000000</td>\n",
       "      <td>38.200000</td>\n",
       "      <td>2257.000000</td>\n",
       "      <td>8821.000000</td>\n",
       "      <td>27.000000</td>\n",
       "      <td>2018.000000</td>\n",
       "      <td>7.000000</td>\n",
       "      <td>3.000000</td>\n",
       "      <td>16.000000</td>\n",
       "      <td>19.700000</td>\n",
       "      <td>10.000000</td>\n",
       "      <td>0.000000</td>\n",
       "      <td>82.000000</td>\n",
       "      <td>39.000000</td>\n",
       "      <td>12.680000</td>\n",
       "      <td>0.000000</td>\n",
       "      <td>0.845660</td>\n",
       "    </tr>\n",
       "    <tr>\n",
       "      <th>75%</th>\n",
       "      <td>522.000000</td>\n",
       "      <td>5110.000000</td>\n",
       "      <td>4241.000000</td>\n",
       "      <td>48.600000</td>\n",
       "      <td>2401.000000</td>\n",
       "      <td>10154.000000</td>\n",
       "      <td>40.000000</td>\n",
       "      <td>2020.000000</td>\n",
       "      <td>10.000000</td>\n",
       "      <td>5.000000</td>\n",
       "      <td>23.000000</td>\n",
       "      <td>27.400000</td>\n",
       "      <td>18.900000</td>\n",
       "      <td>0.300000</td>\n",
       "      <td>90.000000</td>\n",
       "      <td>51.000000</td>\n",
       "      <td>18.580000</td>\n",
       "      <td>0.000000</td>\n",
       "      <td>0.877722</td>\n",
       "    </tr>\n",
       "    <tr>\n",
       "      <th>max</th>\n",
       "      <td>1413.000000</td>\n",
       "      <td>6182.000000</td>\n",
       "      <td>5189.000000</td>\n",
       "      <td>96.100000</td>\n",
       "      <td>2733.000000</td>\n",
       "      <td>14136.000000</td>\n",
       "      <td>53.000000</td>\n",
       "      <td>2022.000000</td>\n",
       "      <td>12.000000</td>\n",
       "      <td>6.000000</td>\n",
       "      <td>31.000000</td>\n",
       "      <td>39.400000</td>\n",
       "      <td>30.400000</td>\n",
       "      <td>178.900000</td>\n",
       "      <td>100.000000</td>\n",
       "      <td>98.000000</td>\n",
       "      <td>30.790000</td>\n",
       "      <td>1.000000</td>\n",
       "      <td>0.968844</td>\n",
       "    </tr>\n",
       "  </tbody>\n",
       "</table>\n",
       "</div>"
      ],
      "text/plain": [
       "       driving_car    reception     boarding  avg_waiting      avg_fee  \\\n",
       "count  2921.000000  2921.000000  2921.000000  2921.000000  2921.000000   \n",
       "mean    418.755221  3926.209860  3284.401232    40.307942  2304.267717   \n",
       "std     133.747019  1509.649338  1249.080267    14.100434   107.278144   \n",
       "min     132.000000   527.000000   462.000000    17.200000  2131.000000   \n",
       "25%     278.000000  2162.000000  1779.000000    29.600000  2228.000000   \n",
       "50%     454.000000  4721.000000  3933.000000    38.200000  2257.000000   \n",
       "75%     522.000000  5110.000000  4241.000000    48.600000  2401.000000   \n",
       "max    1413.000000  6182.000000  5189.000000    96.100000  2733.000000   \n",
       "\n",
       "       avg_distance         week         year        month      weekday  \\\n",
       "count   2921.000000  2921.000000  2921.000000  2921.000000  2921.000000   \n",
       "mean    9253.437864    26.635741  2018.498459     6.521054     3.000342   \n",
       "std     1019.367122    15.062136     2.291007     3.448394     1.999743   \n",
       "min     7672.000000     1.000000  2015.000000     1.000000     0.000000   \n",
       "25%     8521.000000    14.000000  2016.000000     4.000000     1.000000   \n",
       "50%     8821.000000    27.000000  2018.000000     7.000000     3.000000   \n",
       "75%    10154.000000    40.000000  2020.000000    10.000000     5.000000   \n",
       "max    14136.000000    53.000000  2022.000000    12.000000     6.000000   \n",
       "\n",
       "               day     temp_max     temp_min     rain(mm)  humidity_max(%)  \\\n",
       "count  2921.000000  2921.000000  2921.000000  2921.000000      2921.000000   \n",
       "mean     15.724409    18.077405     9.414618     3.356761        79.104074   \n",
       "std       8.798567    10.706655    10.784649    12.597807        14.024176   \n",
       "min       1.000000   -11.200000   -18.500000     0.000000        29.000000   \n",
       "25%       8.000000     9.000000     0.500000     0.000000        70.000000   \n",
       "50%      16.000000    19.700000    10.000000     0.000000        82.000000   \n",
       "75%      23.000000    27.400000    18.900000     0.300000        90.000000   \n",
       "max      31.000000    39.400000    30.400000   178.900000       100.000000   \n",
       "\n",
       "       humidity_min(%)  sunshine(MJ/m2)   is_holiday  boarding_rate  \n",
       "count      2921.000000      2921.000000  2921.000000    2921.000000  \n",
       "mean         41.119411        13.497693     0.040739       0.841580  \n",
       "std          16.401564         6.941039     0.197720       0.052181  \n",
       "min           7.000000         0.000000     0.000000       0.596996  \n",
       "25%          29.000000         8.240000     0.000000       0.805956  \n",
       "50%          39.000000        12.680000     0.000000       0.845660  \n",
       "75%          51.000000        18.580000     0.000000       0.877722  \n",
       "max          98.000000        30.790000     1.000000       0.968844  "
      ]
     },
     "execution_count": 5,
     "metadata": {},
     "output_type": "execute_result"
    }
   ],
   "source": [
    "# 숫자형 변수 분석\n",
    "data1.describe()"
   ]
  },
  {
   "cell_type": "code",
   "execution_count": null,
   "metadata": {
    "id": "HM1kf34gKZC7"
   },
   "outputs": [],
   "source": [
    "# 범주형 변수 분석\n"
   ]
  },
  {
   "cell_type": "markdown",
   "metadata": {
    "id": "aipo3DX3H90w"
   },
   "source": [
    "### (2) 숫자형 변수\n",
    "* 이제 숫자형 변수들에 대해서 단변량 분석을 수행합니다."
   ]
  },
  {
   "cell_type": "code",
   "execution_count": null,
   "metadata": {
    "id": "AaMOYsmWsmFi"
   },
   "outputs": [],
   "source": []
  },
  {
   "cell_type": "code",
   "execution_count": null,
   "metadata": {
    "id": "Bi3agCLTsmDJ"
   },
   "outputs": [],
   "source": []
  },
  {
   "cell_type": "code",
   "execution_count": null,
   "metadata": {
    "id": "Lj-PsoL3smAP"
   },
   "outputs": [],
   "source": []
  },
  {
   "cell_type": "code",
   "execution_count": null,
   "metadata": {
    "id": "5Q-1Qatasl9g"
   },
   "outputs": [],
   "source": []
  },
  {
   "cell_type": "code",
   "execution_count": null,
   "metadata": {
    "id": "K8GsiB0-sl6t"
   },
   "outputs": [],
   "source": []
  },
  {
   "cell_type": "code",
   "execution_count": null,
   "metadata": {
    "id": "kLlPvSzqsl34"
   },
   "outputs": [],
   "source": []
  },
  {
   "cell_type": "code",
   "execution_count": null,
   "metadata": {
    "id": "NF-VSrVHsl1E"
   },
   "outputs": [],
   "source": []
  },
  {
   "cell_type": "code",
   "execution_count": null,
   "metadata": {
    "id": "IwoZW8avslyM"
   },
   "outputs": [],
   "source": []
  },
  {
   "cell_type": "code",
   "execution_count": null,
   "metadata": {
    "id": "QjKcRgt4slvR"
   },
   "outputs": [],
   "source": []
  },
  {
   "cell_type": "code",
   "execution_count": null,
   "metadata": {
    "id": "2rESxkt4slsf"
   },
   "outputs": [],
   "source": []
  },
  {
   "cell_type": "code",
   "execution_count": null,
   "metadata": {
    "id": "MnAuSqT8slpl"
   },
   "outputs": [],
   "source": []
  },
  {
   "cell_type": "code",
   "execution_count": null,
   "metadata": {
    "id": "N6IqpxZKsgKz"
   },
   "outputs": [],
   "source": []
  },
  {
   "cell_type": "code",
   "execution_count": null,
   "metadata": {
    "id": "ghrOHBtqsgKz"
   },
   "outputs": [],
   "source": []
  },
  {
   "cell_type": "code",
   "execution_count": null,
   "metadata": {
    "id": "Hw4Sm1kQsgKz"
   },
   "outputs": [],
   "source": []
  },
  {
   "cell_type": "markdown",
   "metadata": {
    "id": "9sEtFAWDJnHG"
   },
   "source": [
    "### (3) 범주형 변수\n",
    "* 범주형 변수들에 대해서 단변량 분석을 수행합니다."
   ]
  },
  {
   "cell_type": "code",
   "execution_count": null,
   "metadata": {
    "id": "jCkeTRl8shx8"
   },
   "outputs": [],
   "source": []
  },
  {
   "cell_type": "code",
   "execution_count": null,
   "metadata": {
    "id": "XoS6CZ2oshx9"
   },
   "outputs": [],
   "source": []
  },
  {
   "cell_type": "code",
   "execution_count": null,
   "metadata": {
    "id": "YG1AOMGaso6L"
   },
   "outputs": [],
   "source": []
  },
  {
   "cell_type": "code",
   "execution_count": null,
   "metadata": {
    "id": "JXyyt_Tlso3c"
   },
   "outputs": [],
   "source": []
  },
  {
   "cell_type": "code",
   "execution_count": null,
   "metadata": {
    "id": "Ew3rqoKEso0k"
   },
   "outputs": [],
   "source": []
  },
  {
   "cell_type": "markdown",
   "metadata": {
    "id": "b8ycDRamL6tQ"
   },
   "source": [
    "## 3.EDA 2단계 - feature와 target 비교 분석하기\n",
    "\n",
    "* **세부요구사항**\n",
    "    * 숫자 feature --> target\n",
    "        * 전체 상관계수 구하고 시각화(heatmap)해서 파악해봅시다.\n",
    "        * 상위 n개의 feature와 target의 상점도를 확인해봅시다.\n",
    "    * 범주 feature --> target\n",
    "        * 시각화 : 평균 비교 barplot\n",
    "        * 수치화 : t-test, anova\n",
    "    * 이번 단계에서는 함수 생성은 선택사항 입니다."
   ]
  },
  {
   "cell_type": "markdown",
   "metadata": {
    "id": "fOQ962HoVhn_"
   },
   "source": [
    "### (1) 숫자 feature --> Target\n",
    "* 전체 상관계수 시각화(heatmap)\n",
    "* 상위 n개 산점도 그리기"
   ]
  },
  {
   "cell_type": "markdown",
   "metadata": {
    "id": "Vl86EtO-QL5B"
   },
   "source": [
    "#### 1) 전체 상관계수 시각화"
   ]
  },
  {
   "cell_type": "code",
   "execution_count": null,
   "metadata": {
    "id": "kDu2vXJSSRtf"
   },
   "outputs": [],
   "source": []
  },
  {
   "cell_type": "code",
   "execution_count": null,
   "metadata": {
    "id": "7ORK2GEFSRqT"
   },
   "outputs": [],
   "source": []
  },
  {
   "cell_type": "code",
   "execution_count": null,
   "metadata": {
    "id": "MGo46lWrs0M0"
   },
   "outputs": [],
   "source": []
  },
  {
   "cell_type": "code",
   "execution_count": null,
   "metadata": {
    "id": "2_bLIu9gs0Fa"
   },
   "outputs": [],
   "source": []
  },
  {
   "cell_type": "markdown",
   "metadata": {
    "id": "1T_VtFqiBKQ-"
   },
   "source": [
    "#### 2) 산점도"
   ]
  },
  {
   "cell_type": "code",
   "execution_count": null,
   "metadata": {
    "id": "6ZtYDAqPBejR"
   },
   "outputs": [],
   "source": []
  },
  {
   "cell_type": "code",
   "execution_count": null,
   "metadata": {
    "id": "Jh84l_Oiszo0"
   },
   "outputs": [],
   "source": []
  },
  {
   "cell_type": "code",
   "execution_count": null,
   "metadata": {
    "id": "zf_RoihtszmP"
   },
   "outputs": [],
   "source": []
  },
  {
   "cell_type": "code",
   "execution_count": null,
   "metadata": {
    "id": "q-ELoxyzszjb"
   },
   "outputs": [],
   "source": []
  },
  {
   "cell_type": "markdown",
   "metadata": {
    "id": "fhbOxXcoVqg9"
   },
   "source": [
    "### (2) 범주 feature --> Target\n",
    "\n",
    "* 범주형 변수들과 target 간의 관계를 살펴봅시다.\n",
    "    * 시각화 : 평균비교 barplot\n",
    "    * 수치화 : t-검정, anova"
   ]
  },
  {
   "cell_type": "code",
   "execution_count": null,
   "metadata": {
    "id": "7Op5jUOys3PX"
   },
   "outputs": [],
   "source": []
  },
  {
   "cell_type": "code",
   "execution_count": null,
   "metadata": {
    "id": "vA3I3vvbs3Mv"
   },
   "outputs": [],
   "source": []
  },
  {
   "cell_type": "code",
   "execution_count": null,
   "metadata": {
    "id": "OpY3zIqWs3KK"
   },
   "outputs": [],
   "source": []
  },
  {
   "cell_type": "code",
   "execution_count": null,
   "metadata": {
    "id": "W5-6G0c7s3HT"
   },
   "outputs": [],
   "source": []
  },
  {
   "cell_type": "code",
   "execution_count": null,
   "metadata": {
    "id": "8axmDDBms3Ek"
   },
   "outputs": [],
   "source": []
  },
  {
   "cell_type": "markdown",
   "metadata": {
    "id": "hu1KlM-hW4nz"
   },
   "source": [
    "## 4.변수 정리\n",
    "\n",
    "* Target과 관련성이 높은 feature와 그렇지 않은 feature를 정리합니다.\n",
    "* 여기서의 판단은 다소 주관적입니다. 조금 정확하지 않아도 괜찮습니다.\n",
    "* 다음 단계 모델링에서 관련이 적은 변수는 포함시키거나, 제외를 고려할때 활용합니다."
   ]
  },
  {
   "cell_type": "markdown",
   "metadata": {
    "id": "MuOW__knXBlu"
   },
   "source": [
    "* 강한 관계의 변수"
   ]
  },
  {
   "cell_type": "code",
   "execution_count": null,
   "metadata": {
    "id": "rOsr5zscXQJT"
   },
   "outputs": [],
   "source": []
  },
  {
   "cell_type": "markdown",
   "metadata": {
    "id": "42TkfmQDXQvx"
   },
   "source": [
    "* 중간(약한) 관계의 변수"
   ]
  },
  {
   "cell_type": "code",
   "execution_count": null,
   "metadata": {
    "id": "50e5CtOqXQvy"
   },
   "outputs": [],
   "source": []
  },
  {
   "cell_type": "markdown",
   "metadata": {
    "id": "2WZJJ19fXQ2a"
   },
   "source": [
    "* (거의) 관계가 없는 변수"
   ]
  },
  {
   "cell_type": "code",
   "execution_count": null,
   "metadata": {
    "id": "NUUnoXZOXQ2b"
   },
   "outputs": [],
   "source": []
  },
  {
   "cell_type": "markdown",
   "metadata": {
    "id": "Jlyc2I63a7o0"
   },
   "source": [
    "## 5.데이터 저장"
   ]
  },
  {
   "cell_type": "markdown",
   "metadata": {
    "id": "rPKwF9wlyK0D"
   },
   "source": [
    "* **세부 요구사항**\n",
    "    * 혹시 데이터에 변경이 발생할 수 있으니, 저장해 놓읍시다.\n",
    "    * joblib.dump를 이용하시오.\n",
    "    * 저장할 파일 이름 : data2.pkl"
   ]
  },
  {
   "cell_type": "code",
   "execution_count": null,
   "metadata": {
    "id": "_LL7IYfSSTHB"
   },
   "outputs": [],
   "source": []
  },
  {
   "cell_type": "code",
   "execution_count": null,
   "metadata": {
    "id": "XyHvPE-Ms6L6"
   },
   "outputs": [],
   "source": []
  }
 ],
 "metadata": {
  "colab": {
   "provenance": [
    {
     "file_id": "1rAhFiA-Ujmt8relY5oG0amSLXnIVJ7Fu",
     "timestamp": 1676287923203
    }
   ],
   "toc_visible": true
  },
  "kernelspec": {
   "display_name": "Python 3 (ipykernel)",
   "language": "python",
   "name": "python3"
  },
  "language_info": {
   "codemirror_mode": {
    "name": "ipython",
    "version": 3
   },
   "file_extension": ".py",
   "mimetype": "text/x-python",
   "name": "python",
   "nbconvert_exporter": "python",
   "pygments_lexer": "ipython3",
   "version": "3.9.13"
  }
 },
 "nbformat": 4,
 "nbformat_minor": 4
}
