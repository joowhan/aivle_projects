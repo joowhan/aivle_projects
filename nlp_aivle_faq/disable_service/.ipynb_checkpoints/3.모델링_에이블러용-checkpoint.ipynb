{
 "cells": [
  {
   "cell_type": "markdown",
   "metadata": {
    "id": "qsIsGzftJuH9"
   },
   "source": [
    "# 장애인콜택시 대기시간 예측\n",
    "## 단계3. 모델링"
   ]
  },
  {
   "cell_type": "markdown",
   "metadata": {
    "id": "Dh02CX03JuES"
   },
   "source": [
    "## 0.미션\n",
    "\n",
    "* 1.시계열 데이터에 맞는 전처리\n",
    "    * 데이터가 2015 ~ 2022년까지 데이터 입니다.\n",
    "    * 이 중 2022년 10월 ~ 2022년 12월까지(3개월)의 데이터는 성능 검증용으로 사용합니다.\n",
    "    * 나머지 데이터를 이용하여 학습 및 튜닝을 수행합니다.\n",
    "    * 이를 위한 데이터 전처리를 수행하시오.\n",
    "* 2.모델 최적화\n",
    "    * 머신러닝 \n",
    "        * 알고리즘 중 3가지 이상을 선정하여 모델링을 수행합니다.\n",
    "        * 각각 알고리즘에 맞는 튜닝 방법으로 최적의 모델을 만듭니다.\n",
    "    * 딥러닝\n",
    "        * 모델 구조를 2가지 이상을 생성하고 모델링을 수행합니다.\n",
    "        * epochs, learning_rate 등을 조절하며 성능을 튜닝합니다.\n",
    "    * 성능 평가\n",
    "        * 시계열 그래프로 모델의 실제값과 예측값을 시각화하여 비교합니다.\n",
    "        * 성능 지표 (MAE, MAPE) 를 사용해 가장 성능이 높은 모델을 선정합니다."
   ]
  },
  {
   "cell_type": "markdown",
   "metadata": {
    "id": "dWToio0hXNVS"
   },
   "source": [
    "## 1.환경설정"
   ]
  },
  {
   "cell_type": "markdown",
   "metadata": {
    "id": "KnzVh2LmkLDU"
   },
   "source": [
    "### (1) 라이브러리 불러오기"
   ]
  },
  {
   "cell_type": "markdown",
   "metadata": {
    "id": "I_rCs78QJZmI"
   },
   "source": [
    "* **세부 요구사항**\n",
    "    - 기본적으로 필요한 라이브러리를 import 하도록 코드가 작성되어 있습니다.\n",
    "    - 필요하다고 판단되는 라이브러리를 추가하세요."
   ]
  },
  {
   "cell_type": "code",
   "execution_count": 4,
   "metadata": {
    "id": "3rsQerEaELwI"
   },
   "outputs": [
    {
     "ename": "ImportError",
     "evalue": "cannot import name 'mean_absolute_percentage_error' from 'sklearn.metrics' (/Users/kimjoowhan/opt/anaconda3/lib/python3.8/site-packages/sklearn/metrics/__init__.py)",
     "output_type": "error",
     "traceback": [
      "\u001b[0;31m---------------------------------------------------------------------------\u001b[0m",
      "\u001b[0;31mImportError\u001b[0m                               Traceback (most recent call last)",
      "\u001b[0;32m<ipython-input-4-02836c58307f>\u001b[0m in \u001b[0;36m<module>\u001b[0;34m\u001b[0m\n\u001b[1;32m     11\u001b[0m \u001b[0;32mfrom\u001b[0m \u001b[0msklearn\u001b[0m\u001b[0;34m.\u001b[0m\u001b[0msvm\u001b[0m \u001b[0;32mimport\u001b[0m \u001b[0mSVR\u001b[0m\u001b[0;34m\u001b[0m\u001b[0;34m\u001b[0m\u001b[0m\n\u001b[1;32m     12\u001b[0m \u001b[0;32mfrom\u001b[0m \u001b[0msklearn\u001b[0m\u001b[0;34m.\u001b[0m\u001b[0mmetrics\u001b[0m \u001b[0;32mimport\u001b[0m \u001b[0mr2_score\u001b[0m\u001b[0;34m,\u001b[0m \u001b[0mmean_absolute_error\u001b[0m\u001b[0;34m\u001b[0m\u001b[0;34m\u001b[0m\u001b[0m\n\u001b[0;32m---> 13\u001b[0;31m \u001b[0;32mfrom\u001b[0m \u001b[0msklearn\u001b[0m\u001b[0;34m.\u001b[0m\u001b[0mmetrics\u001b[0m \u001b[0;32mimport\u001b[0m \u001b[0mmean_absolute_percentage_error\u001b[0m\u001b[0;34m\u001b[0m\u001b[0;34m\u001b[0m\u001b[0m\n\u001b[0m",
      "\u001b[0;31mImportError\u001b[0m: cannot import name 'mean_absolute_percentage_error' from 'sklearn.metrics' (/Users/kimjoowhan/opt/anaconda3/lib/python3.8/site-packages/sklearn/metrics/__init__.py)"
     ]
    }
   ],
   "source": [
    "import pandas as pd\n",
    "import numpy as np\n",
    "import matplotlib.pyplot as plt\n",
    "import seaborn as sns\n",
    "\n",
    "import joblib\n",
    "\n",
    "# 필요하다고 판단되는 라이브러리를 추가하세요.\n",
    "from sklearn.ensemble import RandomForestRegressor\n",
    "from sklearn.neighbors import KNeighborsRegressor\n",
    "from sklearn.svm import SVR\n",
    "from sklearn.metrics import r2_score, mean_absolute_error\n",
    "from sklearn.metrics import mean_absolute_percentage_error"
   ]
  },
  {
   "cell_type": "markdown",
   "metadata": {
    "id": "wsLDv9tZc_i1"
   },
   "source": [
    "### (2) 데이터 로딩\n",
    "* 주어진 데이터셋\n",
    "    * [2.탐색적 데이터분석] 단계에서 저장한 파일 : data2.pkl\n",
    "* 다음의 두가지 방법 중 하나를 선택하시오.\n",
    "    * 1) 로컬 수행(Ananconda)\n",
    "    * 2) 구글콜랩"
   ]
  },
  {
   "cell_type": "markdown",
   "metadata": {
    "id": "HYi9O2rNdBU_"
   },
   "source": [
    "#### 1) 로컬 수행(Anaconda)\n",
    "* project 폴더에 필요한 파일들을 넣고, 본 파일을 열었다면, 별도 경로 지정이 필요하지 않습니다."
   ]
  },
  {
   "cell_type": "code",
   "execution_count": null,
   "metadata": {
    "id": "876cuCbEd4j_"
   },
   "outputs": [],
   "source": [
    "path = ''"
   ]
  },
  {
   "cell_type": "markdown",
   "metadata": {
    "id": "S0yzHcH6fdzJ"
   },
   "source": [
    "#### 2) 구글 콜랩 수행"
   ]
  },
  {
   "cell_type": "markdown",
   "metadata": {
    "id": "Uc_kIeeJeDgi"
   },
   "source": [
    "* 구글 드라이브 연결"
   ]
  },
  {
   "cell_type": "code",
   "execution_count": null,
   "metadata": {
    "id": "dd0SPbYdfhS9"
   },
   "outputs": [],
   "source": [
    "from google.colab import drive\n",
    "drive.mount('/content/drive')"
   ]
  },
  {
   "cell_type": "code",
   "execution_count": null,
   "metadata": {
    "id": "y5OIDazoeIN4"
   },
   "outputs": [],
   "source": [
    "path = '/content/drive/MyDrive/project/'"
   ]
  },
  {
   "cell_type": "markdown",
   "metadata": {
    "id": "GH3ApIzofYPb"
   },
   "source": [
    "#### 3) 데이터 읽어오기"
   ]
  },
  {
   "cell_type": "code",
   "execution_count": 2,
   "metadata": {
    "id": "FT_JFnclfcQ4"
   },
   "outputs": [],
   "source": [
    "file1 = 'data2.pkl'\n",
    "file2 = 'data1.pkl'"
   ]
  },
  {
   "cell_type": "code",
   "execution_count": null,
   "metadata": {
    "id": "ZpMoNMpcQoQ5"
   },
   "outputs": [],
   "source": []
  },
  {
   "cell_type": "markdown",
   "metadata": {
    "id": "OQsk3V6hXSjE"
   },
   "source": [
    "## 2.데이터 준비\n",
    "* **세부요구사항**\n",
    "    * NaN에 대한 조치를 수행하시오.\n",
    "        * rolling 혹은 shift로 발생된 초기 행의 NaN은 삭제해도 무방합니다.\n",
    "    * 가변수화 : 범주형에 대해서 가변수화를 수행합니다.\n",
    "    * 데이터분할\n",
    "        * 시계열 데이터 특성에 맞게 분할합니다.\n",
    "        * 마지막 91일(3개월) 데이터를 검증셋으로 사용합니다."
   ]
  },
  {
   "cell_type": "markdown",
   "metadata": {
    "id": "mp_5volyuaA1"
   },
   "source": [
    "### (1) NA 조치"
   ]
  },
  {
   "cell_type": "code",
   "execution_count": null,
   "metadata": {
    "id": "k3FHGbBVtDkb"
   },
   "outputs": [],
   "source": []
  },
  {
   "cell_type": "code",
   "execution_count": null,
   "metadata": {
    "id": "9QUDdGKWtDhi"
   },
   "outputs": [],
   "source": []
  },
  {
   "cell_type": "code",
   "execution_count": null,
   "metadata": {
    "id": "212BzfnGtDea"
   },
   "outputs": [],
   "source": []
  },
  {
   "cell_type": "markdown",
   "metadata": {
    "id": "nOF9fSLQugGf"
   },
   "source": [
    "### (2) 가변수화"
   ]
  },
  {
   "cell_type": "code",
   "execution_count": null,
   "metadata": {
    "id": "CZgBC2QSoKc8"
   },
   "outputs": [],
   "source": []
  },
  {
   "cell_type": "code",
   "execution_count": null,
   "metadata": {
    "id": "mKdqMtGjtFSq"
   },
   "outputs": [],
   "source": []
  },
  {
   "cell_type": "markdown",
   "metadata": {
    "id": "WpJEGpUuuVWm"
   },
   "source": [
    "### (3) 데이터분할\n",
    "* **세부요구사항**\n",
    "    * 마지막 91일 간의 데이터를 검증 셋으로 만듭니다. (2022-10-01 ~ )\n",
    "    * 이 기간의 날짜 리스트를 별도로 저장하여, 모델 검증시 시각화할 때 활용합니다."
   ]
  },
  {
   "cell_type": "code",
   "execution_count": null,
   "metadata": {
    "id": "MkhKUJj_vOQD"
   },
   "outputs": [],
   "source": []
  },
  {
   "cell_type": "markdown",
   "metadata": {
    "id": "yRR53accpDHL"
   },
   "source": [
    "#### 1) x, y 나누기"
   ]
  },
  {
   "cell_type": "code",
   "execution_count": null,
   "metadata": {
    "id": "N-4Msv8VsQ3R"
   },
   "outputs": [],
   "source": []
  },
  {
   "cell_type": "markdown",
   "metadata": {
    "id": "VBwpOKgkf5Am"
   },
   "source": [
    "#### 2) train : validation 나누기\n",
    "* 힌트 : train_test_split(  ,   ,  test_size = 91, shuffle = False) "
   ]
  },
  {
   "cell_type": "code",
   "execution_count": null,
   "metadata": {
    "id": "1iHmTnHCgBw5"
   },
   "outputs": [],
   "source": []
  },
  {
   "cell_type": "markdown",
   "metadata": {
    "id": "59bBv0a8heYh"
   },
   "source": [
    "### (4) Scaling\n",
    "* KNN, SVM 알고리즘 및 DL을 적용하기 위해서는 스케일링을 해야 합니다."
   ]
  },
  {
   "cell_type": "code",
   "execution_count": null,
   "metadata": {
    "id": "RuDcjwhwSo5y"
   },
   "outputs": [],
   "source": []
  },
  {
   "cell_type": "markdown",
   "metadata": {
    "id": "30TsHQqzMSbJ"
   },
   "source": [
    "## 3.모델링\n",
    "* **세부요구사항**\n",
    "    * 머신러닝 알고리즘 중 3가지 이상을 사용하여 모델을 만들고 튜닝을 수행합니다.\n",
    "    * 딥러닝 모델 구조 2가지 이상을 설계하고 모델을 생성합니다.\n",
    "    * 성능 측정은 MAE, MAPE로 수행합니다.\n",
    "    * 모델링 후 실제값과 예측값을 시각화(라인차트)하여 분석합니다."
   ]
  },
  {
   "cell_type": "code",
   "execution_count": null,
   "metadata": {
    "id": "mCG_2LfEMdce"
   },
   "outputs": [],
   "source": []
  },
  {
   "cell_type": "code",
   "execution_count": null,
   "metadata": {
    "id": "9NIx9yoHZDyp"
   },
   "outputs": [],
   "source": []
  },
  {
   "cell_type": "markdown",
   "metadata": {
    "id": "ztJOSw2_MaHs"
   },
   "source": [
    "### (1) 머신러닝"
   ]
  },
  {
   "cell_type": "markdown",
   "metadata": {
    "id": "Xb0VvIreaRZF"
   },
   "source": [
    "#### 1) 모델1"
   ]
  },
  {
   "cell_type": "code",
   "execution_count": null,
   "metadata": {
    "id": "dIuWc-NuMZ91"
   },
   "outputs": [],
   "source": []
  },
  {
   "cell_type": "code",
   "execution_count": null,
   "metadata": {
    "id": "dZWz4v3DMZ7S"
   },
   "outputs": [],
   "source": []
  },
  {
   "cell_type": "markdown",
   "metadata": {
    "id": "hthJE54INBFD"
   },
   "source": [
    "#### 2) 모델2"
   ]
  },
  {
   "cell_type": "code",
   "execution_count": null,
   "metadata": {
    "id": "SWIYJuN2tNul"
   },
   "outputs": [],
   "source": []
  },
  {
   "cell_type": "code",
   "execution_count": null,
   "metadata": {
    "id": "QY0t_8tctNul"
   },
   "outputs": [],
   "source": []
  },
  {
   "cell_type": "markdown",
   "metadata": {
    "id": "Xc5u-D-yNCJc"
   },
   "source": [
    "#### 3) 모델3"
   ]
  },
  {
   "cell_type": "code",
   "execution_count": null,
   "metadata": {
    "id": "6wz81_3otO-r"
   },
   "outputs": [],
   "source": []
  },
  {
   "cell_type": "code",
   "execution_count": null,
   "metadata": {
    "id": "O-pTRBJAtO-r"
   },
   "outputs": [],
   "source": []
  },
  {
   "cell_type": "markdown",
   "metadata": {
    "id": "JBXKlQu5P2yM"
   },
   "source": [
    "### (2) 딥러닝"
   ]
  },
  {
   "cell_type": "code",
   "execution_count": null,
   "metadata": {
    "id": "L7R6_Oo-tQ7D"
   },
   "outputs": [],
   "source": []
  },
  {
   "cell_type": "code",
   "execution_count": null,
   "metadata": {
    "id": "9E6wET5xtQ7E"
   },
   "outputs": [],
   "source": []
  },
  {
   "cell_type": "markdown",
   "metadata": {
    "id": "kd1fRLnDaaFY"
   },
   "source": [
    "#### 1) 모델1"
   ]
  },
  {
   "cell_type": "code",
   "execution_count": null,
   "metadata": {
    "id": "HMOjVWKvtTLb"
   },
   "outputs": [],
   "source": []
  },
  {
   "cell_type": "code",
   "execution_count": null,
   "metadata": {
    "id": "zSNzQLVVtTLc"
   },
   "outputs": [],
   "source": []
  },
  {
   "cell_type": "code",
   "execution_count": null,
   "metadata": {
    "id": "LB-zD-54tToj"
   },
   "outputs": [],
   "source": []
  },
  {
   "cell_type": "code",
   "execution_count": null,
   "metadata": {
    "id": "ePyVFIC3tTlq"
   },
   "outputs": [],
   "source": []
  },
  {
   "cell_type": "markdown",
   "metadata": {
    "id": "pGilyDYJbssI"
   },
   "source": [
    "#### 2) 모델2"
   ]
  },
  {
   "cell_type": "code",
   "execution_count": null,
   "metadata": {
    "id": "_6cYoyTetV5Y"
   },
   "outputs": [],
   "source": []
  },
  {
   "cell_type": "code",
   "execution_count": null,
   "metadata": {
    "id": "7sgaOwvntV5Z"
   },
   "outputs": [],
   "source": []
  },
  {
   "cell_type": "code",
   "execution_count": null,
   "metadata": {
    "id": "QlSsmCT5tV5Z"
   },
   "outputs": [],
   "source": []
  },
  {
   "cell_type": "code",
   "execution_count": null,
   "metadata": {
    "id": "sp6Fps2ItV5Z"
   },
   "outputs": [],
   "source": []
  },
  {
   "cell_type": "markdown",
   "metadata": {
    "id": "Ik2DNmAC0Zzd"
   },
   "source": [
    "## 4.모델 비교\n",
    "* **세부요구사항**\n",
    "    * 모델링 단계에서 생성한 모든 모델의 성능을 하나로 모아서 비교합니다.\n",
    "    * 가장 성능이 높은 모델을 선정합니다."
   ]
  },
  {
   "cell_type": "code",
   "execution_count": null,
   "metadata": {
    "id": "qISwMmIK65i1"
   },
   "outputs": [],
   "source": []
  },
  {
   "cell_type": "code",
   "execution_count": null,
   "metadata": {
    "id": "431fKlaTeCWg"
   },
   "outputs": [],
   "source": []
  },
  {
   "cell_type": "code",
   "execution_count": null,
   "metadata": {
    "id": "CRKzHZwbqVkP"
   },
   "outputs": [],
   "source": []
  }
 ],
 "metadata": {
  "colab": {
   "provenance": [
    {
     "file_id": "1rAhFiA-Ujmt8relY5oG0amSLXnIVJ7Fu",
     "timestamp": 1676287923203
    }
   ],
   "toc_visible": true
  },
  "kernelspec": {
   "display_name": "Python 3",
   "language": "python",
   "name": "python3"
  },
  "language_info": {
   "codemirror_mode": {
    "name": "ipython",
    "version": 3
   },
   "file_extension": ".py",
   "mimetype": "text/x-python",
   "name": "python",
   "nbconvert_exporter": "python",
   "pygments_lexer": "ipython3",
   "version": "3.8.5"
  }
 },
 "nbformat": 4,
 "nbformat_minor": 4
}
