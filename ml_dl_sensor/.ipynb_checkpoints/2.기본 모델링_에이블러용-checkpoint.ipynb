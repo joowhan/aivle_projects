{
 "cells": [
  {
   "cell_type": "markdown",
   "metadata": {
    "id": "NbI_RoQ9AP5r"
   },
   "source": [
    "#**스마트폰 센서 데이터 기반 모션 분류**\n",
    "# 단계2 : 기본 모델링\n"
   ]
  },
  {
   "cell_type": "markdown",
   "metadata": {
    "id": "D67PlTu4JGAY"
   },
   "source": [
    "## 0.미션"
   ]
  },
  {
   "cell_type": "markdown",
   "metadata": {
    "id": "wc1FlP4E09oQ"
   },
   "source": [
    "* 데이터 전처리\n",
    "    * 가변수화, 데이터 분할, NaN 확인 및 조치, 스케일링 등 필요한 전처리 수행\n",
    "* 다양한 알고리즘으로 분류 모델 생성\n",
    "    * 최소 4개 이상의 알고리즘을 적용하여 모델링 수행 \n",
    "    * 성능 비교\n",
    "    * 각 모델의 성능을 저장하는 별도 데이터 프레임을 만들고 비교\n",
    "* 옵션 : 다음 사항은 선택사항입니다. 시간이 허용하는 범위 내에서 수행하세요.\n",
    "    * 상위 N개 변수를 선정하여 모델링 및 성능 비교\n",
    "        * 모델링에 항상 모든 변수가 필요한 것은 아닙니다.\n",
    "        * 변수 중요도 상위 N개를 선정하여 모델링하고 타 모델과 성능을 비교하세요.\n",
    "        * 상위 N개를 선택하는 방법은, 변수를 하나씩 늘려가며 모델링 및 성능 검증을 수행하여 적절한 지점을 찾는 것입니다."
   ]
  },
  {
   "cell_type": "markdown",
   "metadata": {
    "id": "LfH_oDcXSffu"
   },
   "source": [
    "## 1.환경설정"
   ]
  },
  {
   "cell_type": "markdown",
   "metadata": {
    "id": "gynBcDrZSffu"
   },
   "source": [
    "### (1) 라이브러리 불러오기"
   ]
  },
  {
   "cell_type": "markdown",
   "metadata": {
    "id": "I_rCs78QJZmI"
   },
   "source": [
    "* 세부 요구사항\n",
    "    - 기본적으로 필요한 라이브러리를 import 하도록 코드가 작성되어 있습니다.\n",
    "    - 필요하다고 판단되는 라이브러리를 추가하세요."
   ]
  },
  {
   "cell_type": "code",
   "execution_count": 5,
   "metadata": {
    "id": "o60rJAqKSffv"
   },
   "outputs": [],
   "source": [
    "import pandas as pd\n",
    "import numpy as np\n",
    "import matplotlib.pyplot as plt\n",
    "import seaborn as sns\n",
    "from sklearn.preprocessing import LabelEncoder\n",
    "from joblib import Parallel, delayed\n",
    "# 필요하다고 판단되는 라이브러리를 추가하세요.\n",
    "\n",
    "#One-hot Encoding\n",
    "from sklearn.preprocessing import MinMaxScaler\n",
    "\n",
    "#train,test split\n",
    "from sklearn.model_selection import train_test_split\n",
    "\n",
    "#ML\n",
    "from sklearn.ensemble import RandomForestClassifier\n",
    "\n",
    "#Random search\n",
    "from sklearn.model_selection import RandomizedSearchCV"
   ]
  },
  {
   "cell_type": "markdown",
   "metadata": {
    "id": "FOUr8fa2Sffw"
   },
   "source": [
    "* 함수 생성"
   ]
  },
  {
   "cell_type": "code",
   "execution_count": 6,
   "metadata": {
    "id": "HH5VyFAtSffw"
   },
   "outputs": [],
   "source": [
    "# 변수의 특성 중요도 계산하기\n",
    "def plot_feature_importance(importance, names, result_only = False, topn = 'all'):\n",
    "    feature_importance = np.array(importance)\n",
    "    feature_name = np.array(names)\n",
    "\n",
    "    data={'feature_name':feature_name,'feature_importance':feature_importance}\n",
    "    fi_temp = pd.DataFrame(data)\n",
    "\n",
    "    #변수의 특성 중요도 순으로 정렬하기\n",
    "    fi_temp.sort_values(by=['feature_importance'], ascending=False,inplace=True)\n",
    "    fi_temp.reset_index(drop=True, inplace = True)\n",
    "\n",
    "    if topn == 'all' :\n",
    "        fi_df = fi_temp.copy()\n",
    "    else :\n",
    "        fi_df = fi_temp.iloc[:topn]\n",
    "\n",
    "    #변수의 특성 중요도 그래프로 그리기\n",
    "    if result_only == False :\n",
    "        plt.figure(figsize=(10,20))\n",
    "        sns.barplot(x='feature_importance', y='feature_name', data = fi_df)\n",
    "\n",
    "        plt.xlabel('importance')\n",
    "        plt.ylabel('feature name')\n",
    "        plt.grid()\n",
    "\n",
    "    return fi_df"
   ]
  },
  {
   "cell_type": "markdown",
   "metadata": {
    "id": "dvJRtBwfSffw"
   },
   "source": [
    "### (2) 데이터 불러오기"
   ]
  },
  {
   "cell_type": "markdown",
   "metadata": {
    "id": "9OkifR5rnr2D"
   },
   "source": [
    "* 주어진 데이터셋\n",
    "    * data01_train.csv : 학습 및 검증용\n",
    "* 세부 요구사항\n",
    "    - 전체 데이터 'data01_train.csv' 를 불러와 'data' 이름으로 저장합니다.\n",
    "        - data에서 변수 subject는 삭제합니다.\n",
    "    - 데이터프레임에 대한 기본 정보를 확인합니다.( .head(), .shape 등)"
   ]
  },
  {
   "cell_type": "markdown",
   "metadata": {
    "id": "3GARafZCJBSo",
    "tags": []
   },
   "source": [
    "#### 1) 데이터 로딩"
   ]
  },
  {
   "cell_type": "code",
   "execution_count": 7,
   "metadata": {
    "id": "8d43OHYshK_M"
   },
   "outputs": [],
   "source": [
    "import joblib\n",
    "importance= joblib.load('result_df.pkl')"
   ]
  },
  {
   "cell_type": "code",
   "execution_count": 8,
   "metadata": {
    "id": "XaXXFw00hK8c"
   },
   "outputs": [],
   "source": [
    "importance_agg = joblib.load('sensor_agg.pkl')"
   ]
  },
  {
   "cell_type": "code",
   "execution_count": 9,
   "metadata": {
    "id": "iRlzHD2yhK5q"
   },
   "outputs": [],
   "source": [
    "origin = pd.read_csv('data01_train.csv')"
   ]
  },
  {
   "cell_type": "code",
   "execution_count": 10,
   "metadata": {
    "id": "9_F8q3UZhK2k"
   },
   "outputs": [],
   "source": [
    "df_le = origin.copy()"
   ]
  },
  {
   "cell_type": "markdown",
   "metadata": {
    "id": "X0BEoVuRSffx"
   },
   "source": [
    "#### 2) 기본 정보 조회"
   ]
  },
  {
   "cell_type": "code",
   "execution_count": 11,
   "metadata": {
    "id": "kR-zBmb5hP8-"
   },
   "outputs": [
    {
     "name": "stdout",
     "output_type": "stream",
     "text": [
      "<class 'pandas.core.frame.DataFrame'>\n",
      "RangeIndex: 5881 entries, 0 to 5880\n",
      "Columns: 563 entries, tBodyAcc-mean()-X to Activity\n",
      "dtypes: float64(561), int64(1), object(1)\n",
      "memory usage: 25.3+ MB\n"
     ]
    }
   ],
   "source": [
    "df_le.info()"
   ]
  },
  {
   "cell_type": "code",
   "execution_count": 12,
   "metadata": {
    "id": "OnEBbdiIhP2g"
   },
   "outputs": [],
   "source": [
    "le = LabelEncoder()\n",
    "df_le['Activity'] = le.fit_transform(df_le['Activity'])"
   ]
  },
  {
   "cell_type": "code",
   "execution_count": 13,
   "metadata": {
    "id": "jHEIDOHQhPzs"
   },
   "outputs": [
    {
     "data": {
      "text/plain": [
       "array([2, 0, 3, 4, 5, 1])"
      ]
     },
     "execution_count": 13,
     "metadata": {},
     "output_type": "execute_result"
    }
   ],
   "source": [
    "df_le['Activity'].unique()"
   ]
  },
  {
   "cell_type": "code",
   "execution_count": null,
   "metadata": {
    "id": "oGq1Vq52hPw0"
   },
   "outputs": [],
   "source": []
  },
  {
   "cell_type": "markdown",
   "metadata": {
    "id": "6U3UzQGZAS1o"
   },
   "source": [
    "## **2. 데이터 전처리**\n",
    "\n",
    "* 가변수화, 데이터 분할, NaN 확인 및 조치, 스케일링 등 필요한 전처리를 수행한다. \n"
   ]
  },
  {
   "cell_type": "markdown",
   "metadata": {
    "id": "ZecsiT_DAS1p"
   },
   "source": [
    "### (1) 데이터 분할1 : x, y"
   ]
  },
  {
   "cell_type": "markdown",
   "metadata": {
    "id": "H-DxzcJiJS4W"
   },
   "source": [
    "* 세부 요구사항\n",
    "    - x, y로 분할합니다."
   ]
  },
  {
   "cell_type": "code",
   "execution_count": 14,
   "metadata": {
    "id": "qVqd1JJ6Ajaj"
   },
   "outputs": [],
   "source": [
    "target = 'Activity'\n",
    "x = df_le.drop(target, axis=1)\n",
    "y = df_le[target]"
   ]
  },
  {
   "cell_type": "markdown",
   "metadata": {
    "id": "A8hxVzM3Agvw"
   },
   "source": [
    "### (2) 스케일링(필요시)\n"
   ]
  },
  {
   "cell_type": "markdown",
   "metadata": {
    "id": "8OHAQJ9HJZP8"
   },
   "source": [
    "* 세부 요구사항\n",
    "    - 스케일링을 필요로 하는 알고리즘 사용을 위해서 코드 수행\n",
    "    - min-max 방식 혹은 standard 방식 중 한가지 사용."
   ]
  },
  {
   "cell_type": "code",
   "execution_count": 1,
   "metadata": {
    "id": "egLANGC5BMmk"
   },
   "outputs": [],
   "source": [
    "# scaler = MinMaxScaler()\n",
    "# x = scaler.fit_transform(x)"
   ]
  },
  {
   "cell_type": "markdown",
   "metadata": {
    "id": "MpZfnAa4BefE"
   },
   "source": [
    "### (3) 데이터분할2 : train, validation"
   ]
  },
  {
   "cell_type": "markdown",
   "metadata": {
    "id": "YOYncknxWg0E"
   },
   "source": [
    "* 세부 요구사항\n",
    "    - train : val = 8 : 2 혹은 7 : 3\n",
    "    - random_state 옵션을 사용하여 다른 모델과 비교를 위해 성능이 재현되도록 합니다."
   ]
  },
  {
   "cell_type": "code",
   "execution_count": 16,
   "metadata": {
    "id": "1AoCDDpdBeCT"
   },
   "outputs": [],
   "source": [
    "x_train, x_val, y_train, y_val = train_test_split(x,y,test_size=0.2, random_state=1)"
   ]
  },
  {
   "cell_type": "markdown",
   "metadata": {
    "id": "RfSZ5O4sBQf3"
   },
   "source": [
    "## **3. 기본 모델링**\n",
    "\n"
   ]
  },
  {
   "cell_type": "markdown",
   "metadata": {
    "id": "WAOal2RuWzNk"
   },
   "source": [
    "* 세부 요구사항\n",
    "    - 최소 4개 이상의 알고리즘을 적용하여 모델링을 수행한다. \n",
    "    - 각 알고리즘별로 전체 변수로 모델링, 상위 N개 변수를 선택하여 모델링을 수행하고 성능 비교를 한다.\n",
    "    - (옵션) 알고리즘 중 1~2개에 대해서, 변수 중요도 상위 N개를 선정하여 모델링하고 타 모델과 성능을 비교.\n",
    "        * 상위 N개를 선택하는 방법은, 변수를 하나씩 늘려가며 모델링 및 성능 검증을 수행하여 적절한 지점을 찾는 것이다."
   ]
  },
  {
   "cell_type": "markdown",
   "metadata": {
    "id": "6JKfabsMB-CK"
   },
   "source": [
    "### (1) 알고리즘1 : \n",
    "#### 전체 변수 + Hyper parameter Tuning(RS) + RF"
   ]
  },
  {
   "cell_type": "code",
   "execution_count": 17,
   "metadata": {
    "id": "TbeDMR9nh_it"
   },
   "outputs": [],
   "source": [
    "model_dt = RandomForestClassifier(random_state=1)"
   ]
  },
  {
   "cell_type": "code",
   "execution_count": 18,
   "metadata": {
    "id": "sVtVxZ-oh_ej"
   },
   "outputs": [],
   "source": [
    "param ={\n",
    "    'max_depth':range(1,51),\n",
    "    'n_estimators':range(1,51),\n",
    "    'min_samples_leaf':range(1,51),\n",
    "    'min_samples_split':range(1,51)\n",
    "    \n",
    "}"
   ]
  },
  {
   "cell_type": "code",
   "execution_count": 15,
   "metadata": {
    "id": "Rzi0ygW5h_bq"
   },
   "outputs": [],
   "source": [
    "model = RandomizedSearchCV(model_dt, param,cv=5,n_iter=20,scoring='accuracy')"
   ]
  },
  {
   "cell_type": "code",
   "execution_count": 16,
   "metadata": {
    "id": "Gq_tTBhmh_Yd"
   },
   "outputs": [
    {
     "data": {
      "text/html": [
       "<style>#sk-container-id-1 {color: black;background-color: white;}#sk-container-id-1 pre{padding: 0;}#sk-container-id-1 div.sk-toggleable {background-color: white;}#sk-container-id-1 label.sk-toggleable__label {cursor: pointer;display: block;width: 100%;margin-bottom: 0;padding: 0.3em;box-sizing: border-box;text-align: center;}#sk-container-id-1 label.sk-toggleable__label-arrow:before {content: \"▸\";float: left;margin-right: 0.25em;color: #696969;}#sk-container-id-1 label.sk-toggleable__label-arrow:hover:before {color: black;}#sk-container-id-1 div.sk-estimator:hover label.sk-toggleable__label-arrow:before {color: black;}#sk-container-id-1 div.sk-toggleable__content {max-height: 0;max-width: 0;overflow: hidden;text-align: left;background-color: #f0f8ff;}#sk-container-id-1 div.sk-toggleable__content pre {margin: 0.2em;color: black;border-radius: 0.25em;background-color: #f0f8ff;}#sk-container-id-1 input.sk-toggleable__control:checked~div.sk-toggleable__content {max-height: 200px;max-width: 100%;overflow: auto;}#sk-container-id-1 input.sk-toggleable__control:checked~label.sk-toggleable__label-arrow:before {content: \"▾\";}#sk-container-id-1 div.sk-estimator input.sk-toggleable__control:checked~label.sk-toggleable__label {background-color: #d4ebff;}#sk-container-id-1 div.sk-label input.sk-toggleable__control:checked~label.sk-toggleable__label {background-color: #d4ebff;}#sk-container-id-1 input.sk-hidden--visually {border: 0;clip: rect(1px 1px 1px 1px);clip: rect(1px, 1px, 1px, 1px);height: 1px;margin: -1px;overflow: hidden;padding: 0;position: absolute;width: 1px;}#sk-container-id-1 div.sk-estimator {font-family: monospace;background-color: #f0f8ff;border: 1px dotted black;border-radius: 0.25em;box-sizing: border-box;margin-bottom: 0.5em;}#sk-container-id-1 div.sk-estimator:hover {background-color: #d4ebff;}#sk-container-id-1 div.sk-parallel-item::after {content: \"\";width: 100%;border-bottom: 1px solid gray;flex-grow: 1;}#sk-container-id-1 div.sk-label:hover label.sk-toggleable__label {background-color: #d4ebff;}#sk-container-id-1 div.sk-serial::before {content: \"\";position: absolute;border-left: 1px solid gray;box-sizing: border-box;top: 0;bottom: 0;left: 50%;z-index: 0;}#sk-container-id-1 div.sk-serial {display: flex;flex-direction: column;align-items: center;background-color: white;padding-right: 0.2em;padding-left: 0.2em;position: relative;}#sk-container-id-1 div.sk-item {position: relative;z-index: 1;}#sk-container-id-1 div.sk-parallel {display: flex;align-items: stretch;justify-content: center;background-color: white;position: relative;}#sk-container-id-1 div.sk-item::before, #sk-container-id-1 div.sk-parallel-item::before {content: \"\";position: absolute;border-left: 1px solid gray;box-sizing: border-box;top: 0;bottom: 0;left: 50%;z-index: -1;}#sk-container-id-1 div.sk-parallel-item {display: flex;flex-direction: column;z-index: 1;position: relative;background-color: white;}#sk-container-id-1 div.sk-parallel-item:first-child::after {align-self: flex-end;width: 50%;}#sk-container-id-1 div.sk-parallel-item:last-child::after {align-self: flex-start;width: 50%;}#sk-container-id-1 div.sk-parallel-item:only-child::after {width: 0;}#sk-container-id-1 div.sk-dashed-wrapped {border: 1px dashed gray;margin: 0 0.4em 0.5em 0.4em;box-sizing: border-box;padding-bottom: 0.4em;background-color: white;}#sk-container-id-1 div.sk-label label {font-family: monospace;font-weight: bold;display: inline-block;line-height: 1.2em;}#sk-container-id-1 div.sk-label-container {text-align: center;}#sk-container-id-1 div.sk-container {/* jupyter's `normalize.less` sets `[hidden] { display: none; }` but bootstrap.min.css set `[hidden] { display: none !important; }` so we also need the `!important` here to be able to override the default hidden behavior on the sphinx rendered scikit-learn.org. See: https://github.com/scikit-learn/scikit-learn/issues/21755 */display: inline-block !important;position: relative;}#sk-container-id-1 div.sk-text-repr-fallback {display: none;}</style><div id=\"sk-container-id-1\" class=\"sk-top-container\"><div class=\"sk-text-repr-fallback\"><pre>RandomizedSearchCV(cv=5, estimator=RandomForestClassifier(random_state=1),\n",
       "                   n_iter=20,\n",
       "                   param_distributions={&#x27;max_depth&#x27;: range(1, 51),\n",
       "                                        &#x27;min_samples_leaf&#x27;: range(1, 51),\n",
       "                                        &#x27;min_samples_split&#x27;: range(1, 51),\n",
       "                                        &#x27;n_estimators&#x27;: range(1, 51)},\n",
       "                   scoring=&#x27;accuracy&#x27;)</pre><b>In a Jupyter environment, please rerun this cell to show the HTML representation or trust the notebook. <br />On GitHub, the HTML representation is unable to render, please try loading this page with nbviewer.org.</b></div><div class=\"sk-container\" hidden><div class=\"sk-item sk-dashed-wrapped\"><div class=\"sk-label-container\"><div class=\"sk-label sk-toggleable\"><input class=\"sk-toggleable__control sk-hidden--visually\" id=\"sk-estimator-id-1\" type=\"checkbox\" ><label for=\"sk-estimator-id-1\" class=\"sk-toggleable__label sk-toggleable__label-arrow\">RandomizedSearchCV</label><div class=\"sk-toggleable__content\"><pre>RandomizedSearchCV(cv=5, estimator=RandomForestClassifier(random_state=1),\n",
       "                   n_iter=20,\n",
       "                   param_distributions={&#x27;max_depth&#x27;: range(1, 51),\n",
       "                                        &#x27;min_samples_leaf&#x27;: range(1, 51),\n",
       "                                        &#x27;min_samples_split&#x27;: range(1, 51),\n",
       "                                        &#x27;n_estimators&#x27;: range(1, 51)},\n",
       "                   scoring=&#x27;accuracy&#x27;)</pre></div></div></div><div class=\"sk-parallel\"><div class=\"sk-parallel-item\"><div class=\"sk-item\"><div class=\"sk-label-container\"><div class=\"sk-label sk-toggleable\"><input class=\"sk-toggleable__control sk-hidden--visually\" id=\"sk-estimator-id-2\" type=\"checkbox\" ><label for=\"sk-estimator-id-2\" class=\"sk-toggleable__label sk-toggleable__label-arrow\">estimator: RandomForestClassifier</label><div class=\"sk-toggleable__content\"><pre>RandomForestClassifier(random_state=1)</pre></div></div></div><div class=\"sk-serial\"><div class=\"sk-item\"><div class=\"sk-estimator sk-toggleable\"><input class=\"sk-toggleable__control sk-hidden--visually\" id=\"sk-estimator-id-3\" type=\"checkbox\" ><label for=\"sk-estimator-id-3\" class=\"sk-toggleable__label sk-toggleable__label-arrow\">RandomForestClassifier</label><div class=\"sk-toggleable__content\"><pre>RandomForestClassifier(random_state=1)</pre></div></div></div></div></div></div></div></div></div></div>"
      ],
      "text/plain": [
       "RandomizedSearchCV(cv=5, estimator=RandomForestClassifier(random_state=1),\n",
       "                   n_iter=20,\n",
       "                   param_distributions={'max_depth': range(1, 51),\n",
       "                                        'min_samples_leaf': range(1, 51),\n",
       "                                        'min_samples_split': range(1, 51),\n",
       "                                        'n_estimators': range(1, 51)},\n",
       "                   scoring='accuracy')"
      ]
     },
     "execution_count": 16,
     "metadata": {},
     "output_type": "execute_result"
    }
   ],
   "source": [
    "model.fit(x_train,y_train)"
   ]
  },
  {
   "cell_type": "code",
   "execution_count": 17,
   "metadata": {},
   "outputs": [
    {
     "name": "stdout",
     "output_type": "stream",
     "text": [
      "================================================================================\n",
      "[0.94132634 0.93558822 0.94196599 0.94961833 0.93962647 0.94260293\n",
      " 0.94260407 0.93707667 0.92878626 0.93580053 0.8175992  0.9470674\n",
      " 0.81526421 0.93771294 0.94047754 0.9545063  0.95472065 0.76871074\n",
      " 0.94876817 0.94983019]\n",
      "--------------------------------------------------------------------------------\n",
      "최적파라미터: {'n_estimators': 8, 'min_samples_split': 3, 'min_samples_leaf': 6, 'max_depth': 43}\n",
      "--------------------------------------------------------------------------------\n",
      "최고성능: 0.9547206457593778\n",
      "================================================================================\n"
     ]
    }
   ],
   "source": [
    "print('=' * 80)\n",
    "print(model.cv_results_['mean_test_score'])\n",
    "print('-' * 80)\n",
    "print('최적파라미터:', model.best_params_)\n",
    "print('-' * 80)\n",
    "print('최고성능:', model.best_score_)\n",
    "print('=' * 80)"
   ]
  },
  {
   "cell_type": "code",
   "execution_count": null,
   "metadata": {},
   "outputs": [],
   "source": []
  },
  {
   "cell_type": "code",
   "execution_count": null,
   "metadata": {},
   "outputs": [],
   "source": []
  },
  {
   "cell_type": "code",
   "execution_count": null,
   "metadata": {},
   "outputs": [],
   "source": []
  },
  {
   "cell_type": "markdown",
   "metadata": {
    "id": "rFv7rDSQCDg0",
    "tags": []
   },
   "source": [
    "### (2) 알고리즘2 : 모델 경량화 RFE 적용"
   ]
  },
  {
   "cell_type": "code",
   "execution_count": 22,
   "metadata": {},
   "outputs": [],
   "source": [
    "from sklearn.feature_selection import RFECV"
   ]
  },
  {
   "cell_type": "code",
   "execution_count": 23,
   "metadata": {},
   "outputs": [],
   "source": [
    "estimator = RandomForestClassifier(random_state=1)"
   ]
  },
  {
   "cell_type": "code",
   "execution_count": 24,
   "metadata": {},
   "outputs": [],
   "source": [
    "rfecv = RFECV(estimator, step=0.05, cv=5, n_jobs=-1, verbose=1)"
   ]
  },
  {
   "cell_type": "code",
   "execution_count": null,
   "metadata": {},
   "outputs": [],
   "source": [
    "rfecv.fit(x, y)"
   ]
  },
  {
   "cell_type": "markdown",
   "metadata": {
    "id": "W8izzKzVhXbb"
   },
   "source": [
    "### (3) 알고리즘3 : "
   ]
  },
  {
   "cell_type": "code",
   "execution_count": 13,
   "metadata": {
    "id": "GnqH9-fZiHhv"
   },
   "outputs": [],
   "source": [
    "df_fl = df_le.copy()"
   ]
  },
  {
   "cell_type": "code",
   "execution_count": 14,
   "metadata": {
    "id": "WHecu7DIiHcK"
   },
   "outputs": [],
   "source": [
    "features = pd.read_csv('features_fixed.csv')"
   ]
  },
  {
   "cell_type": "code",
   "execution_count": 19,
   "metadata": {
    "id": "uTnvRBy-iHS7"
   },
   "outputs": [
    {
     "data": {
      "text/html": [
       "<div>\n",
       "<style scoped>\n",
       "    .dataframe tbody tr th:only-of-type {\n",
       "        vertical-align: middle;\n",
       "    }\n",
       "\n",
       "    .dataframe tbody tr th {\n",
       "        vertical-align: top;\n",
       "    }\n",
       "\n",
       "    .dataframe thead th {\n",
       "        text-align: right;\n",
       "    }\n",
       "</style>\n",
       "<table border=\"1\" class=\"dataframe\">\n",
       "  <thead>\n",
       "    <tr style=\"text-align: right;\">\n",
       "      <th></th>\n",
       "      <th>sensor</th>\n",
       "      <th>agg</th>\n",
       "      <th>axis</th>\n",
       "      <th>feature_name</th>\n",
       "    </tr>\n",
       "  </thead>\n",
       "  <tbody>\n",
       "    <tr>\n",
       "      <th>0</th>\n",
       "      <td>tBodyAcc</td>\n",
       "      <td>mean()</td>\n",
       "      <td>X</td>\n",
       "      <td>tBodyAcc-mean()-X</td>\n",
       "    </tr>\n",
       "    <tr>\n",
       "      <th>1</th>\n",
       "      <td>tBodyAcc</td>\n",
       "      <td>mean()</td>\n",
       "      <td>Y</td>\n",
       "      <td>tBodyAcc-mean()-Y</td>\n",
       "    </tr>\n",
       "    <tr>\n",
       "      <th>2</th>\n",
       "      <td>tBodyAcc</td>\n",
       "      <td>mean()</td>\n",
       "      <td>Z</td>\n",
       "      <td>tBodyAcc-mean()-Z</td>\n",
       "    </tr>\n",
       "    <tr>\n",
       "      <th>3</th>\n",
       "      <td>tBodyAcc</td>\n",
       "      <td>std()</td>\n",
       "      <td>X</td>\n",
       "      <td>tBodyAcc-std()-X</td>\n",
       "    </tr>\n",
       "    <tr>\n",
       "      <th>4</th>\n",
       "      <td>tBodyAcc</td>\n",
       "      <td>std()</td>\n",
       "      <td>Y</td>\n",
       "      <td>tBodyAcc-std()-Y</td>\n",
       "    </tr>\n",
       "    <tr>\n",
       "      <th>...</th>\n",
       "      <td>...</td>\n",
       "      <td>...</td>\n",
       "      <td>...</td>\n",
       "      <td>...</td>\n",
       "    </tr>\n",
       "    <tr>\n",
       "      <th>556</th>\n",
       "      <td>angle</td>\n",
       "      <td>tBodyGyroMean</td>\n",
       "      <td>gravityMean</td>\n",
       "      <td>angle(tBodyGyroMean,gravityMean)</td>\n",
       "    </tr>\n",
       "    <tr>\n",
       "      <th>557</th>\n",
       "      <td>angle</td>\n",
       "      <td>tBodyGyroJerkMean</td>\n",
       "      <td>gravityMean</td>\n",
       "      <td>angle(tBodyGyroJerkMean,gravityMean)</td>\n",
       "    </tr>\n",
       "    <tr>\n",
       "      <th>558</th>\n",
       "      <td>angle</td>\n",
       "      <td>X</td>\n",
       "      <td>gravityMean</td>\n",
       "      <td>angle(X,gravityMean)</td>\n",
       "    </tr>\n",
       "    <tr>\n",
       "      <th>559</th>\n",
       "      <td>angle</td>\n",
       "      <td>Y</td>\n",
       "      <td>gravityMean</td>\n",
       "      <td>angle(Y,gravityMean)</td>\n",
       "    </tr>\n",
       "    <tr>\n",
       "      <th>560</th>\n",
       "      <td>angle</td>\n",
       "      <td>Z</td>\n",
       "      <td>gravityMean</td>\n",
       "      <td>angle(Z,gravityMean)</td>\n",
       "    </tr>\n",
       "  </tbody>\n",
       "</table>\n",
       "<p>561 rows × 4 columns</p>\n",
       "</div>"
      ],
      "text/plain": [
       "       sensor                agg         axis  \\\n",
       "0    tBodyAcc             mean()            X   \n",
       "1    tBodyAcc             mean()            Y   \n",
       "2    tBodyAcc             mean()            Z   \n",
       "3    tBodyAcc              std()            X   \n",
       "4    tBodyAcc              std()            Y   \n",
       "..        ...                ...          ...   \n",
       "556     angle      tBodyGyroMean  gravityMean   \n",
       "557     angle  tBodyGyroJerkMean  gravityMean   \n",
       "558     angle                  X  gravityMean   \n",
       "559     angle                  Y  gravityMean   \n",
       "560     angle                  Z  gravityMean   \n",
       "\n",
       "                             feature_name  \n",
       "0                       tBodyAcc-mean()-X  \n",
       "1                       tBodyAcc-mean()-Y  \n",
       "2                       tBodyAcc-mean()-Z  \n",
       "3                        tBodyAcc-std()-X  \n",
       "4                        tBodyAcc-std()-Y  \n",
       "..                                    ...  \n",
       "556      angle(tBodyGyroMean,gravityMean)  \n",
       "557  angle(tBodyGyroJerkMean,gravityMean)  \n",
       "558                  angle(X,gravityMean)  \n",
       "559                  angle(Y,gravityMean)  \n",
       "560                  angle(Z,gravityMean)  \n",
       "\n",
       "[561 rows x 4 columns]"
      ]
     },
     "execution_count": 19,
     "metadata": {},
     "output_type": "execute_result"
    }
   ],
   "source": [
    "feature_temp = features.copy()\n",
    "feature_temp"
   ]
  },
  {
   "cell_type": "code",
   "execution_count": 24,
   "metadata": {
    "id": "PtjI3khPiHQD"
   },
   "outputs": [],
   "source": [
    "del_name1 = feature_temp['feature_name'].loc[(feature_temp['sensor']=='fBodyAccJerk') | (feature_temp['sensor']=='fBodyBodyAccJerkMag') | (feature_temp['sensor']=='fBodyBodyGyroJerkMag') | (feature_temp['sensor']=='tBodyGyroMag')]"
   ]
  },
  {
   "cell_type": "code",
   "execution_count": 26,
   "metadata": {
    "id": "f14w3xAniHNL"
   },
   "outputs": [],
   "source": [
    "# feature_temp['feature_name'].loc[feature_temp['sensor']!='fBodyAccJerk']\n",
    "temp = df_fl.drop(del_name1, axis=1)"
   ]
  },
  {
   "cell_type": "code",
   "execution_count": 57,
   "metadata": {},
   "outputs": [],
   "source": [
    "# feature_temp.loc[feature_temp['sensor']=='fBodyBodyAccJerkMag']\n",
    "# feature_temp.loc[feature_temp['sensor']=='fBodyBodyGyroJerkMag']\n",
    "# feature_temp.loc[feature_temp['sensor']=='fBodyBodyGyroJerkMag']"
   ]
  },
  {
   "cell_type": "code",
   "execution_count": 27,
   "metadata": {},
   "outputs": [
    {
     "name": "stdout",
     "output_type": "stream",
     "text": [
      "<class 'pandas.core.frame.DataFrame'>\n",
      "RangeIndex: 5881 entries, 0 to 5880\n",
      "Columns: 445 entries, tBodyAcc-mean()-X to Activity\n",
      "dtypes: float64(443), int32(1), int64(1)\n",
      "memory usage: 19.9 MB\n"
     ]
    }
   ],
   "source": [
    "temp.info()"
   ]
  },
  {
   "cell_type": "code",
   "execution_count": 49,
   "metadata": {},
   "outputs": [],
   "source": [
    "# importance.sort_values(by='all',ascending=False)[:64]"
   ]
  },
  {
   "cell_type": "code",
   "execution_count": 36,
   "metadata": {},
   "outputs": [],
   "source": [
    "importance_num = importance.drop('feature_name',axis=1)"
   ]
  },
  {
   "cell_type": "code",
   "execution_count": 40,
   "metadata": {},
   "outputs": [],
   "source": [
    "df_importance = importance.copy()\n",
    "df_importance['total_sum'] = importance_num.sum(axis=1)"
   ]
  },
  {
   "cell_type": "code",
   "execution_count": 42,
   "metadata": {},
   "outputs": [],
   "source": [
    "df_importance['total_mean'] = importance_num.mean(axis=1)"
   ]
  },
  {
   "cell_type": "code",
   "execution_count": 44,
   "metadata": {},
   "outputs": [],
   "source": [
    "df_importance['max'] = importance_num.max(axis=1)"
   ]
  },
  {
   "cell_type": "code",
   "execution_count": 55,
   "metadata": {},
   "outputs": [],
   "source": [
    "top100 = df_importance.sort_values(by='total_sum',ascending=False)[:100]\n",
    "top100_features = top100['feature_name']"
   ]
  },
  {
   "cell_type": "code",
   "execution_count": 57,
   "metadata": {},
   "outputs": [
    {
     "name": "stdout",
     "output_type": "stream",
     "text": [
      "<class 'pandas.core.frame.DataFrame'>\n",
      "RangeIndex: 5881 entries, 0 to 5880\n",
      "Data columns (total 100 columns):\n",
      " #   Column                              Non-Null Count  Dtype  \n",
      "---  ------                              --------------  -----  \n",
      " 0   tGravityAcc-mean()-Y                5881 non-null   float64\n",
      " 1   angle(Y,gravityMean)                5881 non-null   float64\n",
      " 2   tGravityAcc-min()-Y                 5881 non-null   float64\n",
      " 3   tGravityAcc-energy()-X              5881 non-null   float64\n",
      " 4   tGravityAcc-min()-X                 5881 non-null   float64\n",
      " 5   angle(X,gravityMean)                5881 non-null   float64\n",
      " 6   tGravityAcc-mean()-X                5881 non-null   float64\n",
      " 7   tGravityAcc-max()-Y                 5881 non-null   float64\n",
      " 8   tGravityAcc-energy()-Y              5881 non-null   float64\n",
      " 9   tGravityAcc-max()-X                 5881 non-null   float64\n",
      " 10  tGravityAcc-min()-Z                 5881 non-null   float64\n",
      " 11  fBodyAccJerk-bandsEnergy()-1,24     5881 non-null   float64\n",
      " 12  tGravityAcc-max()-Z                 5881 non-null   float64\n",
      " 13  tGravityAcc-arCoeff()-Z,2           5881 non-null   float64\n",
      " 14  fBodyAccJerk-entropy()-X            5881 non-null   float64\n",
      " 15  tBodyAccJerk-std()-X                5881 non-null   float64\n",
      " 16  angle(Z,gravityMean)                5881 non-null   float64\n",
      " 17  tGravityAcc-arCoeff()-Y,2           5881 non-null   float64\n",
      " 18  tGravityAcc-energy()-Z              5881 non-null   float64\n",
      " 19  tGravityAcc-arCoeff()-Y,1           5881 non-null   float64\n",
      " 20  tGravityAcc-mean()-Z                5881 non-null   float64\n",
      " 21  tBodyAccJerkMag-entropy()           5881 non-null   float64\n",
      " 22  fBodyAccJerk-max()-X                5881 non-null   float64\n",
      " 23  fBodyAcc-bandsEnergy()-1,8          5881 non-null   float64\n",
      " 24  fBodyAcc-bandsEnergy()-1,8.2        5881 non-null   float64\n",
      " 25  fBodyAcc-bandsEnergy()-1,24         5881 non-null   float64\n",
      " 26  fBodyAcc-max()-X                    5881 non-null   float64\n",
      " 27  tBodyAcc-std()-X                    5881 non-null   float64\n",
      " 28  tGravityAcc-arCoeff()-Z,3           5881 non-null   float64\n",
      " 29  tBodyAcc-max()-X                    5881 non-null   float64\n",
      " 30  tBodyAccJerkMag-iqr()               5881 non-null   float64\n",
      " 31  fBodyAccJerk-bandsEnergy()-1,8      5881 non-null   float64\n",
      " 32  fBodyAccMag-mad()                   5881 non-null   float64\n",
      " 33  tGravityAcc-arCoeff()-Z,1           5881 non-null   float64\n",
      " 34  fBodyAccMag-std()                   5881 non-null   float64\n",
      " 35  tGravityAcc-arCoeff()-Y,3           5881 non-null   float64\n",
      " 36  fBodyAccJerk-mad()-X                5881 non-null   float64\n",
      " 37  tBodyAccJerkMag-energy()            5881 non-null   float64\n",
      " 38  fBodyAcc-energy()-X                 5881 non-null   float64\n",
      " 39  tBodyAccJerk-entropy()-X            5881 non-null   float64\n",
      " 40  tBodyAccJerk-energy()-X             5881 non-null   float64\n",
      " 41  tGravityAcc-arCoeff()-Z,4           5881 non-null   float64\n",
      " 42  fBodyAcc-bandsEnergy()-1,8.1        5881 non-null   float64\n",
      " 43  tGravityAcc-entropy()-Y             5881 non-null   float64\n",
      " 44  tBodyAccJerk-mad()-X                5881 non-null   float64\n",
      " 45  fBodyGyro-sma()                     5881 non-null   float64\n",
      " 46  fBodyAccJerk-std()-X                5881 non-null   float64\n",
      " 47  tBodyAcc-correlation()-X,Y          5881 non-null   float64\n",
      " 48  fBodyAcc-bandsEnergy()-1,16         5881 non-null   float64\n",
      " 49  fBodyAcc-mad()-X                    5881 non-null   float64\n",
      " 50  fBodyAccJerk-maxInds-Z              5881 non-null   float64\n",
      " 51  fBodyGyro-maxInds-Z                 5881 non-null   float64\n",
      " 52  fBodyAcc-std()-X                    5881 non-null   float64\n",
      " 53  fBodyAccJerk-bandsEnergy()-1,16     5881 non-null   float64\n",
      " 54  tBodyAcc-energy()-X                 5881 non-null   float64\n",
      " 55  tBodyGyroJerk-iqr()-Z               5881 non-null   float64\n",
      " 56  fBodyAcc-meanFreq()-Z               5881 non-null   float64\n",
      " 57  tBodyAcc-mad()-X                    5881 non-null   float64\n",
      " 58  tGravityAcc-arCoeff()-X,1           5881 non-null   float64\n",
      " 59  fBodyAccMag-energy()                5881 non-null   float64\n",
      " 60  tBodyGyro-max()-X                   5881 non-null   float64\n",
      " 61  fBodyAccJerk-mean()-X               5881 non-null   float64\n",
      " 62  fBodyAcc-bandsEnergy()-17,24.2      5881 non-null   float64\n",
      " 63  tBodyAccJerk-max()-X                5881 non-null   float64\n",
      " 64  fBodyAccJerk-max()-Y                5881 non-null   float64\n",
      " 65  fBodyAccJerk-energy()-X             5881 non-null   float64\n",
      " 66  tBodyGyro-iqr()-X                   5881 non-null   float64\n",
      " 67  fBodyAccJerk-sma()                  5881 non-null   float64\n",
      " 68  fBodyAccJerk-bandsEnergy()-17,24.2  5881 non-null   float64\n",
      " 69  tBodyAccJerk-mad()-Y                5881 non-null   float64\n",
      " 70  tBodyGyroJerk-mad()-X               5881 non-null   float64\n",
      " 71  tBodyAccJerk-iqr()-Y                5881 non-null   float64\n",
      " 72  fBodyAcc-mean()-X                   5881 non-null   float64\n",
      " 73  tBodyGyro-mad()-X                   5881 non-null   float64\n",
      " 74  fBodyAccJerk-bandsEnergy()-1,24.1   5881 non-null   float64\n",
      " 75  tBodyAccJerkMag-mad()               5881 non-null   float64\n",
      " 76  tGravityAcc-sma()                   5881 non-null   float64\n",
      " 77  tBodyGyro-std()-X                   5881 non-null   float64\n",
      " 78  tGravityAccMag-mad()                5881 non-null   float64\n",
      " 79  tGravityAccMag-std()                5881 non-null   float64\n",
      " 80  fBodyGyro-mad()-X                   5881 non-null   float64\n",
      " 81  fBodyAccJerk-mean()-Y               5881 non-null   float64\n",
      " 82  fBodyAcc-max()-Z                    5881 non-null   float64\n",
      " 83  tBodyAccJerkMag-sma()               5881 non-null   float64\n",
      " 84  tBodyAccJerk-std()-Y                5881 non-null   float64\n",
      " 85  fBodyAccJerk-std()-Y                5881 non-null   float64\n",
      " 86  fBodyAcc-bandsEnergy()-1,16.2       5881 non-null   float64\n",
      " 87  tBodyAcc-correlation()-Y,Z          5881 non-null   float64\n",
      " 88  fBodyAcc-entropy()-X                5881 non-null   float64\n",
      " 89  fBodyAcc-sma()                      5881 non-null   float64\n",
      " 90  tGravityAccMag-arCoeff()1           5881 non-null   float64\n",
      " 91  tBodyGyroJerk-iqr()-X               5881 non-null   float64\n",
      " 92  fBodyGyro-energy()-X                5881 non-null   float64\n",
      " 93  tBodyAccJerkMag-mean()              5881 non-null   float64\n",
      " 94  tGravityAcc-arCoeff()-Y,4           5881 non-null   float64\n",
      " 95  fBodyBodyAccJerkMag-mad()           5881 non-null   float64\n",
      " 96  fBodyGyro-bandsEnergy()-9,16        5881 non-null   float64\n",
      " 97  fBodyAccMag-max()                   5881 non-null   float64\n",
      " 98  tBodyAccMag-std()                   5881 non-null   float64\n",
      " 99  fBodyAccJerk-bandsEnergy()-17,32.2  5881 non-null   float64\n",
      "dtypes: float64(100)\n",
      "memory usage: 4.5 MB\n"
     ]
    }
   ],
   "source": [
    "df_fl[top100_features].info()"
   ]
  },
  {
   "cell_type": "code",
   "execution_count": null,
   "metadata": {},
   "outputs": [],
   "source": []
  },
  {
   "cell_type": "code",
   "execution_count": null,
   "metadata": {},
   "outputs": [],
   "source": [
    "estimator = RandomForestClassifier(random_state=1)\n",
    "rfe = RFE(estimator,n_features_to_select=64,step=1)\n"
   ]
  },
  {
   "cell_type": "markdown",
   "metadata": {
    "id": "fm3_E_WZCMNG"
   },
   "source": [
    "### (4) 알고리즘4 : "
   ]
  },
  {
   "cell_type": "code",
   "execution_count": null,
   "metadata": {
    "id": "Oz8l40xxiLWP"
   },
   "outputs": [],
   "source": []
  },
  {
   "cell_type": "code",
   "execution_count": null,
   "metadata": {
    "id": "fhpYGzZqiLQE"
   },
   "outputs": [],
   "source": []
  },
  {
   "cell_type": "code",
   "execution_count": null,
   "metadata": {
    "id": "cg9WObNCiLNL"
   },
   "outputs": [],
   "source": []
  },
  {
   "cell_type": "code",
   "execution_count": null,
   "metadata": {
    "id": "t4etzWZKiLKY"
   },
   "outputs": [],
   "source": []
  },
  {
   "cell_type": "code",
   "execution_count": null,
   "metadata": {
    "id": "rrrMbwJ6iLHh"
   },
   "outputs": [],
   "source": []
  }
 ],
 "metadata": {
  "colab": {
   "provenance": [],
   "toc_visible": true
  },
  "kernelspec": {
   "display_name": "Python 3 (ipykernel)",
   "language": "python",
   "name": "python3"
  },
  "language_info": {
   "codemirror_mode": {
    "name": "ipython",
    "version": 3
   },
   "file_extension": ".py",
   "mimetype": "text/x-python",
   "name": "python",
   "nbconvert_exporter": "python",
   "pygments_lexer": "ipython3",
   "version": "3.9.13"
  }
 },
 "nbformat": 4,
 "nbformat_minor": 4
}
