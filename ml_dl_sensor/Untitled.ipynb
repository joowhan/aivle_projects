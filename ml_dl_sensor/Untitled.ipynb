{
 "cells": [
  {
   "cell_type": "code",
   "execution_count": null,
   "id": "64d48db8-1c6c-4b2b-96f4-311d74a5c73d",
   "metadata": {},
   "outputs": [],
   "source": [
    "def feature_analysis(importances_,columns, feature, topic='all'):\n",
    "    result_df = plot_feature_importance(importances_, columns, result_only = True, topn = 'all')\n",
    "    \n",
    "    print(\"=\"*50)\n",
    "    print(\"Top 5: Importance Features\")\n",
    "    plot_feature_importance(model.feature_importances_, columns, result_only = False, topn = 5)\n",
    "    print(\"=\"*50)\n",
    "    feature_df = pd.merge(feature, result_df, on='feature_name')\n",
    "    print(\"Importance of Features group by sensor\")\n",
    "    importance = pd.DataFrame(feature_df.groupby('sensor')['feature_importance'].sum())\n",
    "    importance.reset_index(inplace=True)\n",
    "    plt.xticks(rotation=90)\n",
    "    sns.barplot(x='sensor',y='feature_importance',data=importance)\n",
    "    plt.show()\n",
    "    print(\"=\"*50)\n",
    "    "
   ]
  }
 ],
 "metadata": {
  "kernelspec": {
   "display_name": "Python 3 (ipykernel)",
   "language": "python",
   "name": "python3"
  },
  "language_info": {
   "codemirror_mode": {
    "name": "ipython",
    "version": 3
   },
   "file_extension": ".py",
   "mimetype": "text/x-python",
   "name": "python",
   "nbconvert_exporter": "python",
   "pygments_lexer": "ipython3",
   "version": "3.9.13"
  }
 },
 "nbformat": 4,
 "nbformat_minor": 5
}
