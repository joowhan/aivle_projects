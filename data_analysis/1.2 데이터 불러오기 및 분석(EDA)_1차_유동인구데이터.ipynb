{
 "cells": [
  {
   "cell_type": "markdown",
   "id": "boxed-jamaica",
   "metadata": {},
   "source": [
    "# 안녕하세요^^ \n",
    "## AIVLE 미니프로젝트 '서울시 생활정보 기반 대중교통 수요 분석 ' 과정에 오신 여러분을 환영합니다.\n",
    "* 본 과정에서는 실제 사례와 데이터를 기반으로 문제를 해결하는 전체 과정을 자기 주도형 실습으로 진행해볼 예정입니다.\n",
    "* 앞선 교육과정을 정리하는 마음과 지금까지 배운 내용을 바탕으로 문제 해결을 해볼게요!\n",
    "* 미니 프로젝트를 통한 문제 해결 과정 'A에서 Z까지', 지금부터 시작합니다!\n",
    "\n",
    "## 개인과제\n",
    "* 데이터 구조, 분포 확인, 전처리 : 1.1_버스정류장데이터 / 1.2 유동인구데이터 / 1.3_주민등록데이터 / 1.4_업종등록데이터\n",
    "* 데이터간 관계 가설 수립 및 검증 : 1.5_데이터 분석"
   ]
  },
  {
   "cell_type": "markdown",
   "id": "ef575059",
   "metadata": {},
   "source": [
    "---"
   ]
  },
  {
   "cell_type": "markdown",
   "id": "f2bc4fa5",
   "metadata": {},
   "source": [
    "# 데이터 분석부터 먼저 시작해보겠습니다.\n",
    "## \"구 별 유동인구 데이터\" 를 확인해 보도록 하겠습니다"
   ]
  },
  {
   "cell_type": "code",
   "execution_count": null,
   "id": "4c6ced42",
   "metadata": {},
   "outputs": [],
   "source": [
    "# 필요 라이브러리부터 설치합니다.\n",
    "#%pip install pandas seaborn"
   ]
  },
  {
   "cell_type": "markdown",
   "id": "revolutionary-farmer",
   "metadata": {},
   "source": [
    "## 기본전제\n",
    "\n",
    "[기본 데이터]\n",
    "* 1.2 seoul_moving_month_4.csv\n",
    "\n",
    "[데이터 소개]\n",
    "* 서울 시 구별 이동 2022년 4월 데이터\n",
    "\n",
    "[변수 소개]\n",
    "* 도착시간 : 0 -> \"0:00~0:59\"를 의미 \n",
    "* 출발 자치구 : 자치구 코드 -> 1.1에서 ARS와 비슷한 논리이다. \n",
    "* 성별 : F(여성), M(남성)\n",
    "* 나이 : 10 ~ 79세 (5세 단위), 0 ~ 10세, 80세 이상으로 구분(10단위로 구분)\n",
    "* 유형 : H(야간상주지, 집), W(주간상주지, 학교, 직장), E(기타)\n",
    "* 평균 이동 시간 : 동일 열 내 이동인구의 월 단위 평균 이동 시간 (10분단위)\n",
    "* 이동인구 : 추정 합산값으로 소수점 표출, 개인정보 비식별화를 위해 3명 미만의 경우 * 처리 -> 꼭 기억하기"
   ]
  },
  {
   "cell_type": "markdown",
   "id": "matched-broad",
   "metadata": {},
   "source": [
    "---"
   ]
  },
  {
   "cell_type": "markdown",
   "id": "warming-gentleman",
   "metadata": {},
   "source": [
    "# 1.데이터 불러오기\n",
    "## 모든 미니 프로젝트의 시작은 '데이터 불러오기' 부터라고 할 수 있습니다.\n",
    "+ KeyPoint : 불러오고자 하는 데이터에 따라 자유롭게 변수로 지정할 수 있다."
   ]
  },
  {
   "cell_type": "markdown",
   "id": "measured-administration",
   "metadata": {},
   "source": [
    "###  데이터 프레임을 불러오고 변수로 저장(여기서는 CSV 기준으로 진행)\n",
    "* csv : pd.read_csv(\"파일이름. csv\")\n",
    "* txt : pd.read_csv(\"파일이름. csv\", sep=\"구분자\")\n",
    "* xlsx : pd.read_excel('파일이름.xlsx')\n",
    "* pickle : pd.read_pickle(\"파일이름.pkl\") <br>\n",
    " [참고] pickle은 파이썬의 모든 객체를 파일로 저장할 수 있는 방법으로 DataFrame,List,Dict 등 모든 객체 저장 가능(특히 sklearn라이브러리를 통해 모델을 학습시키고, 저장할 때 많이 사용)"
   ]
  },
  {
   "cell_type": "markdown",
   "id": "vocational-animal",
   "metadata": {},
   "source": [
    "#### [실습문제1] 데이터 로딩\n",
    "* Pandas 라이브러리를 활용해서 'seoul_moving_month_4_step1.csv' 데이터를 확인하세요.\n",
    "    * 아래에 'Pandas'를 Import하고 '1.2 seoul_moving_month_4.csv'파일을 'seoul_moving'에 불러오고,  Shape을 확인하는 소스코드를 작성하고 실행해보세요.\n",
    "    * 데이터 파일 로딩시 참고 사항 \n",
    "        * 구분자(sep)는 ',' 입니다\n",
    "        * UTF-8 인코더를 사용해 주세요\n",
    "        * index column은 0번 열 입니다"
   ]
  },
  {
   "cell_type": "code",
   "execution_count": 1,
   "id": "saving-slope",
   "metadata": {},
   "outputs": [],
   "source": [
    "# 아래에 실습코드를 작성하고 결과를 확인합니다.\n",
    "import pandas as pd\n",
    "import numpy as np\n",
    "seoul_moving = pd.read_csv('1.2 seoul_moving_month_4.csv', sep=',',encoding='utf-8')"
   ]
  },
  {
   "cell_type": "code",
   "execution_count": 2,
   "id": "funny-subcommittee",
   "metadata": {},
   "outputs": [
    {
     "data": {
      "text/plain": [
       "(28923054, 11)"
      ]
     },
     "execution_count": 2,
     "metadata": {},
     "output_type": "execute_result"
    }
   ],
   "source": [
    "# 데이터 프레임의 Shape을 확인합니다.\n",
    "seoul_moving.shape"
   ]
  },
  {
   "cell_type": "markdown",
   "id": "73396b42",
   "metadata": {},
   "source": [
    "---"
   ]
  },
  {
   "cell_type": "markdown",
   "id": "annoying-trout",
   "metadata": {},
   "source": [
    "# 2.기본 정보 확인 및 클렌징\n",
    "\n",
    "+ 데이터 클렌징 : 결측치, 이상치 등을 제거하여 데이터 분석 결과가 왜곡 되는 문제를 방지하기 위한 정제 과정"
   ]
  },
  {
   "cell_type": "markdown",
   "id": "romantic-johnson",
   "metadata": {},
   "source": [
    "#### [실습문제2] 기본 정보 확인하기\n",
    "* 'seoul_moving' 데이터의 정보를 확인해보세요.\n",
    "* 'describe', 'info', 'head' 등 전부 활용해 보겠습니다."
   ]
  },
  {
   "cell_type": "code",
   "execution_count": 3,
   "id": "demographic-battery",
   "metadata": {},
   "outputs": [
    {
     "data": {
      "text/html": [
       "<div>\n",
       "<style scoped>\n",
       "    .dataframe tbody tr th:only-of-type {\n",
       "        vertical-align: middle;\n",
       "    }\n",
       "\n",
       "    .dataframe tbody tr th {\n",
       "        vertical-align: top;\n",
       "    }\n",
       "\n",
       "    .dataframe thead th {\n",
       "        text-align: right;\n",
       "    }\n",
       "</style>\n",
       "<table border=\"1\" class=\"dataframe\">\n",
       "  <thead>\n",
       "    <tr style=\"text-align: right;\">\n",
       "      <th></th>\n",
       "      <th>Unnamed: 0</th>\n",
       "      <th>대상연월</th>\n",
       "      <th>도착시간</th>\n",
       "      <th>출발 시군구 코드</th>\n",
       "      <th>도착 시군구 코드</th>\n",
       "      <th>나이</th>\n",
       "      <th>평균 이동 시간(분)</th>\n",
       "    </tr>\n",
       "  </thead>\n",
       "  <tbody>\n",
       "    <tr>\n",
       "      <th>count</th>\n",
       "      <td>2.892305e+07</td>\n",
       "      <td>28923054.0</td>\n",
       "      <td>2.892305e+07</td>\n",
       "      <td>2.892305e+07</td>\n",
       "      <td>2.892305e+07</td>\n",
       "      <td>2.892305e+07</td>\n",
       "      <td>2.892305e+07</td>\n",
       "    </tr>\n",
       "    <tr>\n",
       "      <th>mean</th>\n",
       "      <td>7.141390e+05</td>\n",
       "      <td>202204.0</td>\n",
       "      <td>1.365597e+01</td>\n",
       "      <td>1.712362e+04</td>\n",
       "      <td>1.719750e+04</td>\n",
       "      <td>4.279614e+01</td>\n",
       "      <td>3.279829e+01</td>\n",
       "    </tr>\n",
       "    <tr>\n",
       "      <th>std</th>\n",
       "      <td>4.753792e+05</td>\n",
       "      <td>0.0</td>\n",
       "      <td>5.849675e+00</td>\n",
       "      <td>9.046478e+03</td>\n",
       "      <td>9.063818e+03</td>\n",
       "      <td>1.777485e+01</td>\n",
       "      <td>2.584213e+01</td>\n",
       "    </tr>\n",
       "    <tr>\n",
       "      <th>min</th>\n",
       "      <td>0.000000e+00</td>\n",
       "      <td>202204.0</td>\n",
       "      <td>0.000000e+00</td>\n",
       "      <td>1.101000e+04</td>\n",
       "      <td>1.101000e+04</td>\n",
       "      <td>0.000000e+00</td>\n",
       "      <td>1.000000e+01</td>\n",
       "    </tr>\n",
       "    <tr>\n",
       "      <th>25%</th>\n",
       "      <td>3.012810e+05</td>\n",
       "      <td>202204.0</td>\n",
       "      <td>1.000000e+01</td>\n",
       "      <td>1.110000e+04</td>\n",
       "      <td>1.111000e+04</td>\n",
       "      <td>3.000000e+01</td>\n",
       "      <td>2.000000e+01</td>\n",
       "    </tr>\n",
       "    <tr>\n",
       "      <th>50%</th>\n",
       "      <td>6.556670e+05</td>\n",
       "      <td>202204.0</td>\n",
       "      <td>1.400000e+01</td>\n",
       "      <td>1.120000e+04</td>\n",
       "      <td>1.120000e+04</td>\n",
       "      <td>4.500000e+01</td>\n",
       "      <td>3.000000e+01</td>\n",
       "    </tr>\n",
       "    <tr>\n",
       "      <th>75%</th>\n",
       "      <td>1.082991e+06</td>\n",
       "      <td>202204.0</td>\n",
       "      <td>1.800000e+01</td>\n",
       "      <td>3.101400e+04</td>\n",
       "      <td>3.102100e+04</td>\n",
       "      <td>5.500000e+01</td>\n",
       "      <td>4.000000e+01</td>\n",
       "    </tr>\n",
       "    <tr>\n",
       "      <th>max</th>\n",
       "      <td>1.871922e+06</td>\n",
       "      <td>202204.0</td>\n",
       "      <td>2.300000e+01</td>\n",
       "      <td>3.900000e+04</td>\n",
       "      <td>3.900000e+04</td>\n",
       "      <td>8.000000e+01</td>\n",
       "      <td>7.700000e+02</td>\n",
       "    </tr>\n",
       "  </tbody>\n",
       "</table>\n",
       "</div>"
      ],
      "text/plain": [
       "         Unnamed: 0        대상연월          도착시간     출발 시군구 코드     도착 시군구 코드  \\\n",
       "count  2.892305e+07  28923054.0  2.892305e+07  2.892305e+07  2.892305e+07   \n",
       "mean   7.141390e+05    202204.0  1.365597e+01  1.712362e+04  1.719750e+04   \n",
       "std    4.753792e+05         0.0  5.849675e+00  9.046478e+03  9.063818e+03   \n",
       "min    0.000000e+00    202204.0  0.000000e+00  1.101000e+04  1.101000e+04   \n",
       "25%    3.012810e+05    202204.0  1.000000e+01  1.110000e+04  1.111000e+04   \n",
       "50%    6.556670e+05    202204.0  1.400000e+01  1.120000e+04  1.120000e+04   \n",
       "75%    1.082991e+06    202204.0  1.800000e+01  3.101400e+04  3.102100e+04   \n",
       "max    1.871922e+06    202204.0  2.300000e+01  3.900000e+04  3.900000e+04   \n",
       "\n",
       "                 나이   평균 이동 시간(분)  \n",
       "count  2.892305e+07  2.892305e+07  \n",
       "mean   4.279614e+01  3.279829e+01  \n",
       "std    1.777485e+01  2.584213e+01  \n",
       "min    0.000000e+00  1.000000e+01  \n",
       "25%    3.000000e+01  2.000000e+01  \n",
       "50%    4.500000e+01  3.000000e+01  \n",
       "75%    5.500000e+01  4.000000e+01  \n",
       "max    8.000000e+01  7.700000e+02  "
      ]
     },
     "execution_count": 3,
     "metadata": {},
     "output_type": "execute_result"
    }
   ],
   "source": [
    "# 아래에 실습코드를 작성하고 결과를 확인합니다.\n",
    "seoul_moving.describe()"
   ]
  },
  {
   "cell_type": "code",
   "execution_count": 4,
   "id": "940a114a",
   "metadata": {},
   "outputs": [
    {
     "name": "stdout",
     "output_type": "stream",
     "text": [
      "<class 'pandas.core.frame.DataFrame'>\n",
      "RangeIndex: 28923054 entries, 0 to 28923053\n",
      "Data columns (total 11 columns):\n",
      " #   Column       Dtype \n",
      "---  ------       ----- \n",
      " 0   Unnamed: 0   int64 \n",
      " 1   대상연월         int64 \n",
      " 2   요일           object\n",
      " 3   도착시간         int64 \n",
      " 4   출발 시군구 코드    int64 \n",
      " 5   도착 시군구 코드    int64 \n",
      " 6   성별           object\n",
      " 7   나이           int64 \n",
      " 8   이동유형         object\n",
      " 9   평균 이동 시간(분)  int64 \n",
      " 10  이동인구(합)      object\n",
      "dtypes: int64(7), object(4)\n",
      "memory usage: 2.4+ GB\n"
     ]
    }
   ],
   "source": [
    "# 아래에 실습코드를 작성하고 결과를 확인합니다.\n",
    "seoul_moving.info()"
   ]
  },
  {
   "cell_type": "code",
   "execution_count": 5,
   "id": "7343fadf",
   "metadata": {},
   "outputs": [
    {
     "data": {
      "text/html": [
       "<div>\n",
       "<style scoped>\n",
       "    .dataframe tbody tr th:only-of-type {\n",
       "        vertical-align: middle;\n",
       "    }\n",
       "\n",
       "    .dataframe tbody tr th {\n",
       "        vertical-align: top;\n",
       "    }\n",
       "\n",
       "    .dataframe thead th {\n",
       "        text-align: right;\n",
       "    }\n",
       "</style>\n",
       "<table border=\"1\" class=\"dataframe\">\n",
       "  <thead>\n",
       "    <tr style=\"text-align: right;\">\n",
       "      <th></th>\n",
       "      <th>Unnamed: 0</th>\n",
       "      <th>대상연월</th>\n",
       "      <th>요일</th>\n",
       "      <th>도착시간</th>\n",
       "      <th>출발 시군구 코드</th>\n",
       "      <th>도착 시군구 코드</th>\n",
       "      <th>성별</th>\n",
       "      <th>나이</th>\n",
       "      <th>이동유형</th>\n",
       "      <th>평균 이동 시간(분)</th>\n",
       "      <th>이동인구(합)</th>\n",
       "    </tr>\n",
       "  </thead>\n",
       "  <tbody>\n",
       "    <tr>\n",
       "      <th>0</th>\n",
       "      <td>0</td>\n",
       "      <td>202204</td>\n",
       "      <td>일</td>\n",
       "      <td>0</td>\n",
       "      <td>11010</td>\n",
       "      <td>11010</td>\n",
       "      <td>F</td>\n",
       "      <td>0</td>\n",
       "      <td>EE</td>\n",
       "      <td>10</td>\n",
       "      <td>28.02</td>\n",
       "    </tr>\n",
       "    <tr>\n",
       "      <th>1</th>\n",
       "      <td>1</td>\n",
       "      <td>202204</td>\n",
       "      <td>일</td>\n",
       "      <td>0</td>\n",
       "      <td>11010</td>\n",
       "      <td>11010</td>\n",
       "      <td>F</td>\n",
       "      <td>0</td>\n",
       "      <td>EH</td>\n",
       "      <td>10</td>\n",
       "      <td>27.52</td>\n",
       "    </tr>\n",
       "    <tr>\n",
       "      <th>2</th>\n",
       "      <td>2</td>\n",
       "      <td>202204</td>\n",
       "      <td>일</td>\n",
       "      <td>0</td>\n",
       "      <td>11010</td>\n",
       "      <td>11010</td>\n",
       "      <td>F</td>\n",
       "      <td>0</td>\n",
       "      <td>HE</td>\n",
       "      <td>10</td>\n",
       "      <td>27.83</td>\n",
       "    </tr>\n",
       "    <tr>\n",
       "      <th>3</th>\n",
       "      <td>3</td>\n",
       "      <td>202204</td>\n",
       "      <td>일</td>\n",
       "      <td>0</td>\n",
       "      <td>11010</td>\n",
       "      <td>11010</td>\n",
       "      <td>F</td>\n",
       "      <td>10</td>\n",
       "      <td>HW</td>\n",
       "      <td>10</td>\n",
       "      <td>6.05</td>\n",
       "    </tr>\n",
       "    <tr>\n",
       "      <th>4</th>\n",
       "      <td>4</td>\n",
       "      <td>202204</td>\n",
       "      <td>일</td>\n",
       "      <td>0</td>\n",
       "      <td>11010</td>\n",
       "      <td>11010</td>\n",
       "      <td>F</td>\n",
       "      <td>10</td>\n",
       "      <td>EH</td>\n",
       "      <td>90</td>\n",
       "      <td>5.95</td>\n",
       "    </tr>\n",
       "  </tbody>\n",
       "</table>\n",
       "</div>"
      ],
      "text/plain": [
       "   Unnamed: 0    대상연월 요일  도착시간  출발 시군구 코드  도착 시군구 코드 성별  나이 이동유형  평균 이동 시간(분)  \\\n",
       "0           0  202204  일     0      11010      11010  F   0   EE           10   \n",
       "1           1  202204  일     0      11010      11010  F   0   EH           10   \n",
       "2           2  202204  일     0      11010      11010  F   0   HE           10   \n",
       "3           3  202204  일     0      11010      11010  F  10   HW           10   \n",
       "4           4  202204  일     0      11010      11010  F  10   EH           90   \n",
       "\n",
       "  이동인구(합)  \n",
       "0   28.02  \n",
       "1   27.52  \n",
       "2   27.83  \n",
       "3    6.05  \n",
       "4    5.95  "
      ]
     },
     "execution_count": 5,
     "metadata": {},
     "output_type": "execute_result"
    }
   ],
   "source": [
    "# 아래에 실습코드를 작성하고 결과를 확인합니다.\n",
    "seoul_moving.head()"
   ]
  },
  {
   "cell_type": "markdown",
   "id": "b90fd066",
   "metadata": {},
   "source": [
    "* 1번 열의 의미\n",
    "    * \" 2022년 1월 일요일에 11010(종로구)에서 11010(종로구)으로 이동하여 0시 ~ 0시 59분 사이에 도착했고, E(기타)에서 H(야간상주지(집))으로 이동한 0 ~ 10세 여성은 총 27.52명이며 이들의 평균 이동시간은 10분이다"
   ]
  },
  {
   "cell_type": "markdown",
   "id": "003322b3",
   "metadata": {},
   "source": [
    "#### [실습문제3] 결측치 처리 ( NaN이 아닌 결측치를 처리 해봅시다)\n",
    "* 무슨 말인지 잘 생각해보라!(3미만은 *로 처리한다고 했다!)\n",
    "* '인구이동(합)' column은 이동 인구의 합산인데 object 타입입니다. \n",
    "\n",
    "    - 왜 일까요? \n",
    "\n",
    "    - Tip! (이동인구 : 추정 합산값으로 소수점 표출, 개인정보 비식별화를 위해 3명 미만의 경우 * 처리)\n",
    "\n",
    "    - 해당 값을 나름의 기준으로 변경하세요\n",
    "\n",
    "    - '인구이동(합)' 컬럼의 데이터 타입을 수치형으로 변경하세요 "
   ]
  },
  {
   "cell_type": "code",
   "execution_count": 6,
   "id": "64977ed3",
   "metadata": {},
   "outputs": [
    {
     "data": {
      "text/plain": [
       "0"
      ]
     },
     "execution_count": 6,
     "metadata": {},
     "output_type": "execute_result"
    }
   ],
   "source": [
    "# 아래에 실습코드를 작성하고 결과를 확인합니다. (Hint : value_counts())\n",
    "seoul_moving['이동인구(합)'].isna().sum()"
   ]
  },
  {
   "cell_type": "code",
   "execution_count": 7,
   "id": "92c6a282-de36-4c26-9f1c-14edbe95cb98",
   "metadata": {},
   "outputs": [
    {
     "data": {
      "text/plain": [
       "*          3842041\n",
       "3.3         399374\n",
       "6.05        366830\n",
       "3.29        289731\n",
       "3.31        232069\n",
       "            ...   \n",
       "2352.37          1\n",
       "1617.99          1\n",
       "3141.86          1\n",
       "1485.54          1\n",
       "979.87           1\n",
       "Name: 이동인구(합), Length: 135812, dtype: int64"
      ]
     },
     "execution_count": 7,
     "metadata": {},
     "output_type": "execute_result"
    }
   ],
   "source": [
    "seoul_moving['이동인구(합)'].value_counts()"
   ]
  },
  {
   "cell_type": "code",
   "execution_count": 8,
   "id": "3241914e-4297-4cdc-8985-5df8e9b4dfb7",
   "metadata": {},
   "outputs": [],
   "source": [
    "temp = seoul_moving.copy()\n",
    "# seoul_moving2.loc[seoul_moving['이동인구(합)']=='*']"
   ]
  },
  {
   "cell_type": "code",
   "execution_count": 12,
   "id": "703fc8b7",
   "metadata": {},
   "outputs": [
    {
     "name": "stderr",
     "output_type": "stream",
     "text": [
      "C:\\Users\\User\\AppData\\Local\\Temp\\ipykernel_19604\\260059648.py:10: SettingWithCopyWarning: \n",
      "A value is trying to be set on a copy of a slice from a DataFrame\n",
      "\n",
      "See the caveats in the documentation: https://pandas.pydata.org/pandas-docs/stable/user_guide/indexing.html#returning-a-view-versus-a-copy\n",
      "  seoul_moving['이동인구(합)'].loc[seoul_moving['이동인구(합)']=='*'] = med\n"
     ]
    }
   ],
   "source": [
    "# 최빈값과 평균값을 알 수 없는 상황이라 중위값으로 대체\n",
    "\n",
    "# temp = seoul_moving.loc[seoul_moving['이동인구(합)']!='*']\n",
    "# temp = temp.astype({\"이동인구(합)\": np.dtype(\"float\")})\n",
    "\n",
    "# med = seoul_moving['이동인구(합)'].loc[seoul_moving['이동인구(합)']!='*'].median()\n",
    "med = '1.5'\n",
    "# seoul_moving2 = seoul_moving.copy()\n",
    "# seoul_moving2['이동인구(합)'].loc[seoul_moving2['이동인구(합)']=='*'] = med\n",
    "seoul_moving['이동인구(합)'].loc[seoul_moving['이동인구(합)']=='*'] = med"
   ]
  },
  {
   "cell_type": "code",
   "execution_count": 13,
   "id": "cbb32563-856b-4882-a70f-c0fb85de1e7d",
   "metadata": {},
   "outputs": [
    {
     "name": "stdout",
     "output_type": "stream",
     "text": [
      "<class 'pandas.core.frame.DataFrame'>\n",
      "RangeIndex: 28923054 entries, 0 to 28923053\n",
      "Data columns (total 11 columns):\n",
      " #   Column       Dtype \n",
      "---  ------       ----- \n",
      " 0   Unnamed: 0   int64 \n",
      " 1   대상연월         int64 \n",
      " 2   요일           object\n",
      " 3   도착시간         int64 \n",
      " 4   출발 시군구 코드    int64 \n",
      " 5   도착 시군구 코드    int64 \n",
      " 6   성별           object\n",
      " 7   나이           int64 \n",
      " 8   이동유형         object\n",
      " 9   평균 이동 시간(분)  int64 \n",
      " 10  이동인구(합)      object\n",
      "dtypes: int64(7), object(4)\n",
      "memory usage: 2.4+ GB\n"
     ]
    }
   ],
   "source": [
    "seoul_moving.info()"
   ]
  },
  {
   "cell_type": "code",
   "execution_count": 14,
   "id": "eefe243e",
   "metadata": {
    "scrolled": true,
    "tags": []
   },
   "outputs": [
    {
     "name": "stdout",
     "output_type": "stream",
     "text": [
      "<class 'pandas.core.series.Series'>\n",
      "RangeIndex: 28923054 entries, 0 to 28923053\n",
      "Series name: 이동인구(합)\n",
      "Non-Null Count     Dtype \n",
      "--------------     ----- \n",
      "28923054 non-null  object\n",
      "dtypes: object(1)\n",
      "memory usage: 220.7+ MB\n"
     ]
    }
   ],
   "source": [
    "# 아래에 실습코드를 작성하고 결과를 확인합니다.\n",
    "seoul_moving['이동인구(합)'].info()"
   ]
  },
  {
   "cell_type": "code",
   "execution_count": 15,
   "id": "3ec3c54b",
   "metadata": {},
   "outputs": [],
   "source": [
    "# 이동인구(합) column의 데이터 타입을 바꿔주세요\n",
    "# astype\n",
    "seoul_moving['이동인구(합)'].loc[seoul_moving['이동인구(합)']=='*']\n",
    "seoul_moving = seoul_moving.astype({\"이동인구(합)\": np.dtype(\"float\")})"
   ]
  },
  {
   "cell_type": "code",
   "execution_count": 16,
   "id": "0922a7a5-d12f-4d8a-ab5d-f79277858661",
   "metadata": {},
   "outputs": [
    {
     "name": "stdout",
     "output_type": "stream",
     "text": [
      "<class 'pandas.core.frame.DataFrame'>\n",
      "RangeIndex: 28923054 entries, 0 to 28923053\n",
      "Data columns (total 11 columns):\n",
      " #   Column       Dtype  \n",
      "---  ------       -----  \n",
      " 0   Unnamed: 0   int64  \n",
      " 1   대상연월         int64  \n",
      " 2   요일           object \n",
      " 3   도착시간         int64  \n",
      " 4   출발 시군구 코드    int64  \n",
      " 5   도착 시군구 코드    int64  \n",
      " 6   성별           object \n",
      " 7   나이           int64  \n",
      " 8   이동유형         object \n",
      " 9   평균 이동 시간(분)  int64  \n",
      " 10  이동인구(합)      float64\n",
      "dtypes: float64(1), int64(7), object(3)\n",
      "memory usage: 2.4+ GB\n"
     ]
    }
   ],
   "source": [
    "seoul_moving.info()"
   ]
  },
  {
   "cell_type": "markdown",
   "id": "3666e46c",
   "metadata": {},
   "source": [
    "#### [실습문제4] 이동유형, 요일, 성별 변수의 value수를 파악\n",
    "\n",
    "* 역시나 value_counts()를 활용해 봅시다."
   ]
  },
  {
   "cell_type": "code",
   "execution_count": 17,
   "id": "3cd0103e",
   "metadata": {},
   "outputs": [
    {
     "data": {
      "text/plain": [
       "EH    5757073\n",
       "HE    5520005\n",
       "EE    5085099\n",
       "WH    3108026\n",
       "WE    2809148\n",
       "HW    2695189\n",
       "EW    2304535\n",
       "WW    1026134\n",
       "HH     617845\n",
       "Name: 이동유형, dtype: int64"
      ]
     },
     "execution_count": 17,
     "metadata": {},
     "output_type": "execute_result"
    }
   ],
   "source": [
    "# 아래에 실습코드를 작성하고 결과를 확인합니다.\n",
    "seoul_moving['이동유형'].value_counts()"
   ]
  },
  {
   "cell_type": "code",
   "execution_count": 18,
   "id": "1cdd246f",
   "metadata": {},
   "outputs": [
    {
     "data": {
      "text/plain": [
       "토    4690806\n",
       "금    4641881\n",
       "목    4011291\n",
       "수    3955646\n",
       "화    3926876\n",
       "월    3906272\n",
       "일    3790282\n",
       "Name: 요일, dtype: int64"
      ]
     },
     "execution_count": 18,
     "metadata": {},
     "output_type": "execute_result"
    }
   ],
   "source": [
    "# 아래에 실습코드를 작성하고 결과를 확인합니다.\n",
    "seoul_moving['요일'].value_counts()"
   ]
  },
  {
   "cell_type": "markdown",
   "id": "ba257395",
   "metadata": {},
   "source": [
    "* 4월의 요일 수를 알려드릴게요\n",
    "    * 일 : 4, 월 : 4, 화 : 4, 수 : 4, 목 : 4, 금 : 5, 토 : 5"
   ]
  },
  {
   "cell_type": "code",
   "execution_count": 19,
   "id": "c3f440b9",
   "metadata": {},
   "outputs": [
    {
     "data": {
      "text/plain": [
       "M    16355029\n",
       "F    12568025\n",
       "Name: 성별, dtype: int64"
      ]
     },
     "execution_count": 19,
     "metadata": {},
     "output_type": "execute_result"
    }
   ],
   "source": [
    "# 아래에 실습코드를 작성하고 결과를 확인합니다.\n",
    "seoul_moving['성별'].value_counts()"
   ]
  },
  {
   "cell_type": "markdown",
   "id": "6356b00c",
   "metadata": {},
   "source": [
    "#### [실습문제5] 어느 요일의 심야 이동이 가장 많을까요?"
   ]
  },
  {
   "cell_type": "code",
   "execution_count": 20,
   "id": "470c3d5d",
   "metadata": {},
   "outputs": [
    {
     "data": {
      "text/html": [
       "<div>\n",
       "<style scoped>\n",
       "    .dataframe tbody tr th:only-of-type {\n",
       "        vertical-align: middle;\n",
       "    }\n",
       "\n",
       "    .dataframe tbody tr th {\n",
       "        vertical-align: top;\n",
       "    }\n",
       "\n",
       "    .dataframe thead th {\n",
       "        text-align: right;\n",
       "    }\n",
       "</style>\n",
       "<table border=\"1\" class=\"dataframe\">\n",
       "  <thead>\n",
       "    <tr style=\"text-align: right;\">\n",
       "      <th></th>\n",
       "      <th>요일</th>\n",
       "      <th>count</th>\n",
       "    </tr>\n",
       "  </thead>\n",
       "  <tbody>\n",
       "    <tr>\n",
       "      <th>5</th>\n",
       "      <td>토</td>\n",
       "      <td>423995</td>\n",
       "    </tr>\n",
       "    <tr>\n",
       "      <th>0</th>\n",
       "      <td>금</td>\n",
       "      <td>359012</td>\n",
       "    </tr>\n",
       "    <tr>\n",
       "      <th>4</th>\n",
       "      <td>일</td>\n",
       "      <td>331392</td>\n",
       "    </tr>\n",
       "    <tr>\n",
       "      <th>1</th>\n",
       "      <td>목</td>\n",
       "      <td>308651</td>\n",
       "    </tr>\n",
       "    <tr>\n",
       "      <th>2</th>\n",
       "      <td>수</td>\n",
       "      <td>303357</td>\n",
       "    </tr>\n",
       "    <tr>\n",
       "      <th>6</th>\n",
       "      <td>화</td>\n",
       "      <td>292786</td>\n",
       "    </tr>\n",
       "    <tr>\n",
       "      <th>3</th>\n",
       "      <td>월</td>\n",
       "      <td>273062</td>\n",
       "    </tr>\n",
       "  </tbody>\n",
       "</table>\n",
       "</div>"
      ],
      "text/plain": [
       "  요일   count\n",
       "5  토  423995\n",
       "0  금  359012\n",
       "4  일  331392\n",
       "1  목  308651\n",
       "2  수  303357\n",
       "6  화  292786\n",
       "3  월  273062"
      ]
     },
     "execution_count": 20,
     "metadata": {},
     "output_type": "execute_result"
    }
   ],
   "source": [
    "# 아래에 실습코드를 작성하고 결과를 확인합니다.\n",
    "# 0:00~ 4:59\n",
    "#0, 1,2,3,4\n",
    "temp = seoul_moving.loc[seoul_moving['도착시간']<5]\n",
    "temp2 = temp.groupby('요일', as_index=False)['도착시간'].value_counts()\n",
    "temp2.groupby('요일', as_index=False)['count'].sum().sort_values(by='count',ascending=False)"
   ]
  },
  {
   "cell_type": "markdown",
   "id": "45594fc1",
   "metadata": {},
   "source": [
    "#### [실습문제6] 서울 지역의 데이터만 골라 보도록 하겠습니다.\n",
    "\n",
    "* 우리는 서울시의 데이터만 필요합니다!\n",
    "\n",
    "* 출발과 도착이 모두 서울인 데이터만 추출해 주세요."
   ]
  },
  {
   "cell_type": "code",
   "execution_count": 21,
   "id": "fab14a50",
   "metadata": {},
   "outputs": [],
   "source": [
    "# 아래에 실습코드를 작성하고 결과를 확인합니다.\n",
    "\n",
    "only_seoul = seoul_moving.loc[seoul_moving['출발 시군구 코드'].between(11010,11250, inclusive='both') & seoul_moving['도착 시군구 코드'].between(11010,11250, inclusive='both')]"
   ]
  },
  {
   "cell_type": "code",
   "execution_count": 22,
   "id": "2b5bdcde",
   "metadata": {},
   "outputs": [
    {
     "data": {
      "text/html": [
       "<div>\n",
       "<style scoped>\n",
       "    .dataframe tbody tr th:only-of-type {\n",
       "        vertical-align: middle;\n",
       "    }\n",
       "\n",
       "    .dataframe tbody tr th {\n",
       "        vertical-align: top;\n",
       "    }\n",
       "\n",
       "    .dataframe thead th {\n",
       "        text-align: right;\n",
       "    }\n",
       "</style>\n",
       "<table border=\"1\" class=\"dataframe\">\n",
       "  <thead>\n",
       "    <tr style=\"text-align: right;\">\n",
       "      <th></th>\n",
       "      <th>Unnamed: 0</th>\n",
       "      <th>대상연월</th>\n",
       "      <th>요일</th>\n",
       "      <th>도착시간</th>\n",
       "      <th>출발 시군구 코드</th>\n",
       "      <th>도착 시군구 코드</th>\n",
       "      <th>성별</th>\n",
       "      <th>나이</th>\n",
       "      <th>이동유형</th>\n",
       "      <th>평균 이동 시간(분)</th>\n",
       "      <th>이동인구(합)</th>\n",
       "    </tr>\n",
       "  </thead>\n",
       "  <tbody>\n",
       "    <tr>\n",
       "      <th>0</th>\n",
       "      <td>0</td>\n",
       "      <td>202204</td>\n",
       "      <td>일</td>\n",
       "      <td>0</td>\n",
       "      <td>11010</td>\n",
       "      <td>11010</td>\n",
       "      <td>F</td>\n",
       "      <td>0</td>\n",
       "      <td>EE</td>\n",
       "      <td>10</td>\n",
       "      <td>28.02</td>\n",
       "    </tr>\n",
       "    <tr>\n",
       "      <th>1</th>\n",
       "      <td>1</td>\n",
       "      <td>202204</td>\n",
       "      <td>일</td>\n",
       "      <td>0</td>\n",
       "      <td>11010</td>\n",
       "      <td>11010</td>\n",
       "      <td>F</td>\n",
       "      <td>0</td>\n",
       "      <td>EH</td>\n",
       "      <td>10</td>\n",
       "      <td>27.52</td>\n",
       "    </tr>\n",
       "    <tr>\n",
       "      <th>2</th>\n",
       "      <td>2</td>\n",
       "      <td>202204</td>\n",
       "      <td>일</td>\n",
       "      <td>0</td>\n",
       "      <td>11010</td>\n",
       "      <td>11010</td>\n",
       "      <td>F</td>\n",
       "      <td>0</td>\n",
       "      <td>HE</td>\n",
       "      <td>10</td>\n",
       "      <td>27.83</td>\n",
       "    </tr>\n",
       "    <tr>\n",
       "      <th>3</th>\n",
       "      <td>3</td>\n",
       "      <td>202204</td>\n",
       "      <td>일</td>\n",
       "      <td>0</td>\n",
       "      <td>11010</td>\n",
       "      <td>11010</td>\n",
       "      <td>F</td>\n",
       "      <td>10</td>\n",
       "      <td>HW</td>\n",
       "      <td>10</td>\n",
       "      <td>6.05</td>\n",
       "    </tr>\n",
       "    <tr>\n",
       "      <th>4</th>\n",
       "      <td>4</td>\n",
       "      <td>202204</td>\n",
       "      <td>일</td>\n",
       "      <td>0</td>\n",
       "      <td>11010</td>\n",
       "      <td>11010</td>\n",
       "      <td>F</td>\n",
       "      <td>10</td>\n",
       "      <td>EH</td>\n",
       "      <td>90</td>\n",
       "      <td>5.95</td>\n",
       "    </tr>\n",
       "  </tbody>\n",
       "</table>\n",
       "</div>"
      ],
      "text/plain": [
       "   Unnamed: 0    대상연월 요일  도착시간  출발 시군구 코드  도착 시군구 코드 성별  나이 이동유형  평균 이동 시간(분)  \\\n",
       "0           0  202204  일     0      11010      11010  F   0   EE           10   \n",
       "1           1  202204  일     0      11010      11010  F   0   EH           10   \n",
       "2           2  202204  일     0      11010      11010  F   0   HE           10   \n",
       "3           3  202204  일     0      11010      11010  F  10   HW           10   \n",
       "4           4  202204  일     0      11010      11010  F  10   EH           90   \n",
       "\n",
       "   이동인구(합)  \n",
       "0    28.02  \n",
       "1    27.52  \n",
       "2    27.83  \n",
       "3     6.05  \n",
       "4     5.95  "
      ]
     },
     "execution_count": 22,
     "metadata": {},
     "output_type": "execute_result"
    }
   ],
   "source": [
    "# 아래에 실습코드를 작성하고 결과를 확인합니다.\n",
    "only_seoul.head()"
   ]
  },
  {
   "cell_type": "markdown",
   "id": "e968a0ae",
   "metadata": {},
   "source": [
    "#### [실습문제7] 서울지역의 구 별로 groupby하여 데이터를 확인하겠습니다 (유동인구 기준)\n",
    "\n",
    "* 유출이 제일 많은 구는?\n",
    "\n",
    "* 유입이 제일 많은 구는?\n",
    "\n",
    "* 유출이 제일 적은 구는?\n",
    "\n",
    "* 유입이 제일 적은 구는?"
   ]
  },
  {
   "cell_type": "markdown",
   "id": "ab98b422",
   "metadata": {},
   "source": [
    "* 참고자료 서울 구별 코드\n",
    "    * 11010\t종로구\n",
    "    * 11020\t중구\n",
    "    * 11030\t용산구\n",
    "    * 11040\t성동구\n",
    "    * 11050\t광진구\n",
    "    * 11060\t동대문구\n",
    "    * 11070\t중랑구\n",
    "    * 11080\t성북구\n",
    "    * 11090\t강북구\n",
    "    * 11100\t도봉구\n",
    "    * 11110\t노원구\n",
    "    * 11120\t은평구\n",
    "    * 11130\t서대문구\n",
    "    * 11140\t마포구\n",
    "    * 11150\t양천구\n",
    "    * 11160\t강서구\n",
    "    * 11170\t구로구\n",
    "    * 11180\t금천구\n",
    "    * 11190\t영등포구\n",
    "    * 11200\t동작구\n",
    "    * 11210\t관악구\n",
    "    * 11220\t서초구\n",
    "    * 11230\t강남구\n",
    "    * 11240\t송파구\n",
    "    * 11250\t강동구"
   ]
  },
  {
   "cell_type": "code",
   "execution_count": 23,
   "id": "38564819",
   "metadata": {},
   "outputs": [
    {
     "data": {
      "text/html": [
       "<div>\n",
       "<style scoped>\n",
       "    .dataframe tbody tr th:only-of-type {\n",
       "        vertical-align: middle;\n",
       "    }\n",
       "\n",
       "    .dataframe tbody tr th {\n",
       "        vertical-align: top;\n",
       "    }\n",
       "\n",
       "    .dataframe thead th {\n",
       "        text-align: right;\n",
       "    }\n",
       "</style>\n",
       "<table border=\"1\" class=\"dataframe\">\n",
       "  <thead>\n",
       "    <tr style=\"text-align: right;\">\n",
       "      <th></th>\n",
       "      <th>출발 시군구 코드</th>\n",
       "      <th>count</th>\n",
       "    </tr>\n",
       "  </thead>\n",
       "  <tbody>\n",
       "    <tr>\n",
       "      <th>22</th>\n",
       "      <td>11230</td>\n",
       "      <td>573614</td>\n",
       "    </tr>\n",
       "    <tr>\n",
       "      <th>1</th>\n",
       "      <td>11020</td>\n",
       "      <td>510737</td>\n",
       "    </tr>\n",
       "    <tr>\n",
       "      <th>21</th>\n",
       "      <td>11220</td>\n",
       "      <td>510733</td>\n",
       "    </tr>\n",
       "    <tr>\n",
       "      <th>18</th>\n",
       "      <td>11190</td>\n",
       "      <td>500569</td>\n",
       "    </tr>\n",
       "    <tr>\n",
       "      <th>0</th>\n",
       "      <td>11010</td>\n",
       "      <td>498961</td>\n",
       "    </tr>\n",
       "  </tbody>\n",
       "</table>\n",
       "</div>"
      ],
      "text/plain": [
       "    출발 시군구 코드   count\n",
       "22      11230  573614\n",
       "1       11020  510737\n",
       "21      11220  510733\n",
       "18      11190  500569\n",
       "0       11010  498961"
      ]
     },
     "execution_count": 23,
     "metadata": {},
     "output_type": "execute_result"
    }
   ],
   "source": [
    "# 아래에 실습코드를 작성하고 결과를 확인합니다. (출발 시군구 코드)\n",
    "# 유출이 가장 많은 곳\n",
    "only_seoul.groupby('출발 시군구 코드', as_index=False)['출발 시군구 코드'].value_counts().sort_values(by='count', ascending=False).head(5)\n",
    "# 유입이 가장 많은 곳\n",
    "# 유입이 제일 적은 곳\n",
    "# 유출이 제일 적은 곳"
   ]
  },
  {
   "cell_type": "code",
   "execution_count": 24,
   "id": "f89b4177-843f-4822-bc51-ab297680158e",
   "metadata": {},
   "outputs": [
    {
     "data": {
      "text/html": [
       "<div>\n",
       "<style scoped>\n",
       "    .dataframe tbody tr th:only-of-type {\n",
       "        vertical-align: middle;\n",
       "    }\n",
       "\n",
       "    .dataframe tbody tr th {\n",
       "        vertical-align: top;\n",
       "    }\n",
       "\n",
       "    .dataframe thead th {\n",
       "        text-align: right;\n",
       "    }\n",
       "</style>\n",
       "<table border=\"1\" class=\"dataframe\">\n",
       "  <thead>\n",
       "    <tr style=\"text-align: right;\">\n",
       "      <th></th>\n",
       "      <th>도착 시군구 코드</th>\n",
       "      <th>count</th>\n",
       "    </tr>\n",
       "  </thead>\n",
       "  <tbody>\n",
       "    <tr>\n",
       "      <th>22</th>\n",
       "      <td>11230</td>\n",
       "      <td>554203</td>\n",
       "    </tr>\n",
       "    <tr>\n",
       "      <th>21</th>\n",
       "      <td>11220</td>\n",
       "      <td>500442</td>\n",
       "    </tr>\n",
       "    <tr>\n",
       "      <th>18</th>\n",
       "      <td>11190</td>\n",
       "      <td>495583</td>\n",
       "    </tr>\n",
       "    <tr>\n",
       "      <th>1</th>\n",
       "      <td>11020</td>\n",
       "      <td>485934</td>\n",
       "    </tr>\n",
       "    <tr>\n",
       "      <th>13</th>\n",
       "      <td>11140</td>\n",
       "      <td>480338</td>\n",
       "    </tr>\n",
       "  </tbody>\n",
       "</table>\n",
       "</div>"
      ],
      "text/plain": [
       "    도착 시군구 코드   count\n",
       "22      11230  554203\n",
       "21      11220  500442\n",
       "18      11190  495583\n",
       "1       11020  485934\n",
       "13      11140  480338"
      ]
     },
     "execution_count": 24,
     "metadata": {},
     "output_type": "execute_result"
    }
   ],
   "source": [
    "# 유입이 가장 많은 곳\n",
    "only_seoul.groupby('도착 시군구 코드', as_index=False)['도착 시군구 코드'].value_counts().sort_values(by='count', ascending=False).head(5)"
   ]
  },
  {
   "cell_type": "code",
   "execution_count": 25,
   "id": "b1f13453-214d-4fe7-a0a4-357c31995d12",
   "metadata": {},
   "outputs": [
    {
     "data": {
      "text/html": [
       "<div>\n",
       "<style scoped>\n",
       "    .dataframe tbody tr th:only-of-type {\n",
       "        vertical-align: middle;\n",
       "    }\n",
       "\n",
       "    .dataframe tbody tr th {\n",
       "        vertical-align: top;\n",
       "    }\n",
       "\n",
       "    .dataframe thead th {\n",
       "        text-align: right;\n",
       "    }\n",
       "</style>\n",
       "<table border=\"1\" class=\"dataframe\">\n",
       "  <thead>\n",
       "    <tr style=\"text-align: right;\">\n",
       "      <th></th>\n",
       "      <th>도착 시군구 코드</th>\n",
       "      <th>count</th>\n",
       "    </tr>\n",
       "  </thead>\n",
       "  <tbody>\n",
       "    <tr>\n",
       "      <th>17</th>\n",
       "      <td>11180</td>\n",
       "      <td>294749</td>\n",
       "    </tr>\n",
       "    <tr>\n",
       "      <th>9</th>\n",
       "      <td>11100</td>\n",
       "      <td>320805</td>\n",
       "    </tr>\n",
       "    <tr>\n",
       "      <th>8</th>\n",
       "      <td>11090</td>\n",
       "      <td>360967</td>\n",
       "    </tr>\n",
       "    <tr>\n",
       "      <th>14</th>\n",
       "      <td>11150</td>\n",
       "      <td>363495</td>\n",
       "    </tr>\n",
       "    <tr>\n",
       "      <th>24</th>\n",
       "      <td>11250</td>\n",
       "      <td>367581</td>\n",
       "    </tr>\n",
       "  </tbody>\n",
       "</table>\n",
       "</div>"
      ],
      "text/plain": [
       "    도착 시군구 코드   count\n",
       "17      11180  294749\n",
       "9       11100  320805\n",
       "8       11090  360967\n",
       "14      11150  363495\n",
       "24      11250  367581"
      ]
     },
     "execution_count": 25,
     "metadata": {},
     "output_type": "execute_result"
    }
   ],
   "source": [
    "# 유입이 제일 적은 곳\n",
    "only_seoul.groupby('도착 시군구 코드', as_index=False)['도착 시군구 코드'].value_counts().sort_values(by='count', ascending=True).head(5)"
   ]
  },
  {
   "cell_type": "code",
   "execution_count": 26,
   "id": "ad8909cc-a685-45e3-805e-8910b8e5377f",
   "metadata": {},
   "outputs": [
    {
     "data": {
      "text/html": [
       "<div>\n",
       "<style scoped>\n",
       "    .dataframe tbody tr th:only-of-type {\n",
       "        vertical-align: middle;\n",
       "    }\n",
       "\n",
       "    .dataframe tbody tr th {\n",
       "        vertical-align: top;\n",
       "    }\n",
       "\n",
       "    .dataframe thead th {\n",
       "        text-align: right;\n",
       "    }\n",
       "</style>\n",
       "<table border=\"1\" class=\"dataframe\">\n",
       "  <thead>\n",
       "    <tr style=\"text-align: right;\">\n",
       "      <th></th>\n",
       "      <th>출발 시군구 코드</th>\n",
       "      <th>count</th>\n",
       "    </tr>\n",
       "  </thead>\n",
       "  <tbody>\n",
       "    <tr>\n",
       "      <th>17</th>\n",
       "      <td>11180</td>\n",
       "      <td>296688</td>\n",
       "    </tr>\n",
       "    <tr>\n",
       "      <th>9</th>\n",
       "      <td>11100</td>\n",
       "      <td>309584</td>\n",
       "    </tr>\n",
       "    <tr>\n",
       "      <th>8</th>\n",
       "      <td>11090</td>\n",
       "      <td>349160</td>\n",
       "    </tr>\n",
       "    <tr>\n",
       "      <th>14</th>\n",
       "      <td>11150</td>\n",
       "      <td>353994</td>\n",
       "    </tr>\n",
       "    <tr>\n",
       "      <th>11</th>\n",
       "      <td>11120</td>\n",
       "      <td>355646</td>\n",
       "    </tr>\n",
       "  </tbody>\n",
       "</table>\n",
       "</div>"
      ],
      "text/plain": [
       "    출발 시군구 코드   count\n",
       "17      11180  296688\n",
       "9       11100  309584\n",
       "8       11090  349160\n",
       "14      11150  353994\n",
       "11      11120  355646"
      ]
     },
     "execution_count": 26,
     "metadata": {},
     "output_type": "execute_result"
    }
   ],
   "source": [
    "# 유출이 제일 적은 곳\n",
    "only_seoul.groupby('출발 시군구 코드', as_index=False)['출발 시군구 코드'].value_counts().sort_values(by='count', ascending=True).head(5)"
   ]
  },
  {
   "cell_type": "code",
   "execution_count": 27,
   "id": "5b74bb6d",
   "metadata": {},
   "outputs": [],
   "source": [
    "# 아래에 실습코드를 작성하고 결과를 확인합니다. (도착 시군구 코드)\n"
   ]
  },
  {
   "cell_type": "markdown",
   "id": "1ace49d0",
   "metadata": {},
   "source": [
    "#### [실습문제8] 낮시간만 볼게요 심야버스 제외하겠습니다\n",
    "\n",
    "* 도착시간 0부터 4까지(0:00 ~ 4:59) 제거"
   ]
  },
  {
   "cell_type": "code",
   "execution_count": 28,
   "id": "d54050e1",
   "metadata": {},
   "outputs": [],
   "source": [
    "# 아래에 실습코드를 작성하고 결과를 확인합니다.\n",
    "\n",
    "except_night = only_seoul.loc[only_seoul['도착시간']>4]\n"
   ]
  },
  {
   "cell_type": "code",
   "execution_count": null,
   "id": "98fe6300",
   "metadata": {},
   "outputs": [],
   "source": []
  },
  {
   "cell_type": "markdown",
   "id": "bff8a6d6",
   "metadata": {},
   "source": [
    "#### [실습문제9] '도착 시군구 코드' 를 기준으로 각 구별로 '평균 이동 시간(분)' , '이동인구(합)' 의 평균 과 합을 구해보겠습니다\n",
    "\n",
    "* groupby 사용, as_index=False로 설정해주세요"
   ]
  },
  {
   "cell_type": "code",
   "execution_count": 29,
   "id": "7783e416",
   "metadata": {},
   "outputs": [],
   "source": [
    "# 아래에 실습코드를 작성하고 결과를 확인합니다.\n",
    "moving_mean = except_night.groupby('도착 시군구 코드', as_index=False)[['평균 이동 시간(분)','이동인구(합)']].mean()\n",
    "moving_sum = except_night.groupby('도착 시군구 코드', as_index=False)[['평균 이동 시간(분)','이동인구(합)']].sum()\n"
   ]
  },
  {
   "cell_type": "code",
   "execution_count": 30,
   "id": "86bd27f5",
   "metadata": {},
   "outputs": [
    {
     "data": {
      "text/html": [
       "<div>\n",
       "<style scoped>\n",
       "    .dataframe tbody tr th:only-of-type {\n",
       "        vertical-align: middle;\n",
       "    }\n",
       "\n",
       "    .dataframe tbody tr th {\n",
       "        vertical-align: top;\n",
       "    }\n",
       "\n",
       "    .dataframe thead th {\n",
       "        text-align: right;\n",
       "    }\n",
       "</style>\n",
       "<table border=\"1\" class=\"dataframe\">\n",
       "  <thead>\n",
       "    <tr style=\"text-align: right;\">\n",
       "      <th></th>\n",
       "      <th>도착 시군구 코드</th>\n",
       "      <th>평균 이동 시간(분)</th>\n",
       "      <th>이동인구(합)</th>\n",
       "    </tr>\n",
       "  </thead>\n",
       "  <tbody>\n",
       "    <tr>\n",
       "      <th>0</th>\n",
       "      <td>11010</td>\n",
       "      <td>21.349599</td>\n",
       "      <td>44.235978</td>\n",
       "    </tr>\n",
       "    <tr>\n",
       "      <th>1</th>\n",
       "      <td>11020</td>\n",
       "      <td>21.012462</td>\n",
       "      <td>44.516072</td>\n",
       "    </tr>\n",
       "    <tr>\n",
       "      <th>2</th>\n",
       "      <td>11030</td>\n",
       "      <td>21.364786</td>\n",
       "      <td>36.903883</td>\n",
       "    </tr>\n",
       "    <tr>\n",
       "      <th>3</th>\n",
       "      <td>11040</td>\n",
       "      <td>21.740324</td>\n",
       "      <td>42.685596</td>\n",
       "    </tr>\n",
       "    <tr>\n",
       "      <th>4</th>\n",
       "      <td>11050</td>\n",
       "      <td>22.474283</td>\n",
       "      <td>46.762548</td>\n",
       "    </tr>\n",
       "  </tbody>\n",
       "</table>\n",
       "</div>"
      ],
      "text/plain": [
       "   도착 시군구 코드  평균 이동 시간(분)    이동인구(합)\n",
       "0      11010    21.349599  44.235978\n",
       "1      11020    21.012462  44.516072\n",
       "2      11030    21.364786  36.903883\n",
       "3      11040    21.740324  42.685596\n",
       "4      11050    22.474283  46.762548"
      ]
     },
     "execution_count": 30,
     "metadata": {},
     "output_type": "execute_result"
    }
   ],
   "source": [
    "# 아래에 실습코드를 작성하고 결과를 확인합니다.\n",
    "moving_mean.head()"
   ]
  },
  {
   "cell_type": "code",
   "execution_count": 31,
   "id": "baa867ac",
   "metadata": {},
   "outputs": [],
   "source": [
    "# 컬럼명을 변경해볼까요?\n",
    "moving_sum.head()\n",
    "moving_sum.rename(columns={'평균 이동 시간(분)':'이동 시간 총합(분)', '이동인구(합)':'이동인구 총합(합)'}, inplace=True)"
   ]
  },
  {
   "cell_type": "code",
   "execution_count": null,
   "id": "e94adaf1",
   "metadata": {},
   "outputs": [],
   "source": []
  },
  {
   "cell_type": "code",
   "execution_count": 32,
   "id": "cb213b3a",
   "metadata": {},
   "outputs": [
    {
     "data": {
      "text/html": [
       "<div>\n",
       "<style scoped>\n",
       "    .dataframe tbody tr th:only-of-type {\n",
       "        vertical-align: middle;\n",
       "    }\n",
       "\n",
       "    .dataframe tbody tr th {\n",
       "        vertical-align: top;\n",
       "    }\n",
       "\n",
       "    .dataframe thead th {\n",
       "        text-align: right;\n",
       "    }\n",
       "</style>\n",
       "<table border=\"1\" class=\"dataframe\">\n",
       "  <thead>\n",
       "    <tr style=\"text-align: right;\">\n",
       "      <th></th>\n",
       "      <th>도착 시군구 코드</th>\n",
       "      <th>평균 이동 시간(분)</th>\n",
       "      <th>이동인구(합)</th>\n",
       "      <th>이동 시간 총합(분)</th>\n",
       "      <th>이동인구 총합(합)</th>\n",
       "    </tr>\n",
       "  </thead>\n",
       "  <tbody>\n",
       "    <tr>\n",
       "      <th>0</th>\n",
       "      <td>11010</td>\n",
       "      <td>21.349599</td>\n",
       "      <td>44.235978</td>\n",
       "      <td>9356120</td>\n",
       "      <td>19385709.60</td>\n",
       "    </tr>\n",
       "    <tr>\n",
       "      <th>1</th>\n",
       "      <td>11020</td>\n",
       "      <td>21.012462</td>\n",
       "      <td>44.516072</td>\n",
       "      <td>9306020</td>\n",
       "      <td>19715322.61</td>\n",
       "    </tr>\n",
       "    <tr>\n",
       "      <th>2</th>\n",
       "      <td>11030</td>\n",
       "      <td>21.364786</td>\n",
       "      <td>36.903883</td>\n",
       "      <td>8514380</td>\n",
       "      <td>14707082.87</td>\n",
       "    </tr>\n",
       "    <tr>\n",
       "      <th>3</th>\n",
       "      <td>11040</td>\n",
       "      <td>21.740324</td>\n",
       "      <td>42.685596</td>\n",
       "      <td>8887140</td>\n",
       "      <td>17449273.95</td>\n",
       "    </tr>\n",
       "    <tr>\n",
       "      <th>4</th>\n",
       "      <td>11050</td>\n",
       "      <td>22.474283</td>\n",
       "      <td>46.762548</td>\n",
       "      <td>8625540</td>\n",
       "      <td>17947278.99</td>\n",
       "    </tr>\n",
       "  </tbody>\n",
       "</table>\n",
       "</div>"
      ],
      "text/plain": [
       "   도착 시군구 코드  평균 이동 시간(분)    이동인구(합)  이동 시간 총합(분)   이동인구 총합(합)\n",
       "0      11010    21.349599  44.235978      9356120  19385709.60\n",
       "1      11020    21.012462  44.516072      9306020  19715322.61\n",
       "2      11030    21.364786  36.903883      8514380  14707082.87\n",
       "3      11040    21.740324  42.685596      8887140  17449273.95\n",
       "4      11050    22.474283  46.762548      8625540  17947278.99"
      ]
     },
     "execution_count": 32,
     "metadata": {},
     "output_type": "execute_result"
    }
   ],
   "source": [
    "# 파일을 합쳐볼까요\n",
    "moving = pd.merge(moving_mean, moving_sum, on='도착 시군구 코드')\n",
    "moving.head()"
   ]
  },
  {
   "cell_type": "code",
   "execution_count": 33,
   "id": "b7389d07",
   "metadata": {},
   "outputs": [],
   "source": [
    "# 해당 데이터프레임을 'df_seoul_moving.csv' 파일로 저장하세요\n",
    "moving.to_csv('df_seoul_moving.csv')"
   ]
  },
  {
   "cell_type": "markdown",
   "id": "602b8bae",
   "metadata": {},
   "source": [
    "---"
   ]
  },
  {
   "cell_type": "markdown",
   "id": "southeast-integration",
   "metadata": {},
   "source": [
    "# 3.데이터 분석하기\n",
    "+ KeyPoint : 데이터의 형태를 살펴보고 다양한 분석기법을 통해 모델링에 적합하도록 정제요소를 선별할 수 있다.\n",
    "  * 데이터들의 패턴 탐색\n",
    "  * 변수들간의 관계 파악"
   ]
  },
  {
   "cell_type": "code",
   "execution_count": 89,
   "id": "194ae01d",
   "metadata": {},
   "outputs": [],
   "source": [
    "import seaborn as sns\n",
    "import matplotlib.pyplot as plt\n",
    "\n",
    "# 시각화 한글폰트 설정\n",
    "# 맑은 고딕\n",
    "\n",
    "plt.rc('font', family='Malgun Gothic')\n",
    "sns.set(font=\"Malgun Gothic\",#\"NanumGothicCoding\", \n",
    "        rc={\"axes.unicode_minus\":False}, # 마이너스 부호 깨짐 현상 해결\n",
    "        style='darkgrid')\n",
    "\n",
    "# scipy\n",
    "import scipy.stats as spst"
   ]
  },
  {
   "cell_type": "markdown",
   "id": "material-complex",
   "metadata": {},
   "source": [
    "#### [실습문제10] 데이터 분포 알아보기\n",
    "* 다양한 변수를 기준으로 그래프를 그려보고 인사이트를 도출해보세요."
   ]
  },
  {
   "cell_type": "code",
   "execution_count": null,
   "id": "2a610ade",
   "metadata": {},
   "outputs": [],
   "source": [
    "# 아래에 실습코드를 작성하고 결과를 확인합니다.\n"
   ]
  },
  {
   "cell_type": "code",
   "execution_count": null,
   "id": "ce0af14b",
   "metadata": {},
   "outputs": [],
   "source": [
    "# 아래에 실습코드를 작성하고 결과를 확인합니다."
   ]
  },
  {
   "cell_type": "code",
   "execution_count": null,
   "id": "8cc4598f",
   "metadata": {},
   "outputs": [],
   "source": [
    "# 아래에 실습코드를 작성하고 결과를 확인합니다."
   ]
  },
  {
   "cell_type": "code",
   "execution_count": null,
   "id": "a360d86c",
   "metadata": {},
   "outputs": [],
   "source": [
    "# 위 차트를 통해 알게된 사실을 정리해봅시다.\n",
    "# 1. \n",
    "# 2.\n",
    "# 3."
   ]
  },
  {
   "cell_type": "markdown",
   "id": "ca567b34",
   "metadata": {},
   "source": [
    "---"
   ]
  }
 ],
 "metadata": {
  "kernelspec": {
   "display_name": "Python 3 (ipykernel)",
   "language": "python",
   "name": "python3"
  },
  "language_info": {
   "codemirror_mode": {
    "name": "ipython",
    "version": 3
   },
   "file_extension": ".py",
   "mimetype": "text/x-python",
   "name": "python",
   "nbconvert_exporter": "python",
   "pygments_lexer": "ipython3",
   "version": "3.9.13"
  },
  "vscode": {
   "interpreter": {
    "hash": "f08154012ddadd8e950e6e9e035c7a7b32c136e7647e9b7c77e02eb723a8bedb"
   }
  }
 },
 "nbformat": 4,
 "nbformat_minor": 5
}
