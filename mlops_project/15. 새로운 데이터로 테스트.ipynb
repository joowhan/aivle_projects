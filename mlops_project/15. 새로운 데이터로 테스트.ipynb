{
 "cells": [
  {
   "attachments": {},
   "cell_type": "markdown",
   "id": "wo-iPN8Y1V5r",
   "metadata": {
    "id": "wo-iPN8Y1V5r"
   },
   "source": [
    "# 새로운 데이터로 테스트"
   ]
  },
  {
   "attachments": {},
   "cell_type": "markdown",
   "id": "gvFaKcmP1cwc",
   "metadata": {
    "id": "gvFaKcmP1cwc"
   },
   "source": [
    "## 1.환경준비 "
   ]
  },
  {
   "attachments": {},
   "cell_type": "markdown",
   "id": "zWYL7Ojt1i_I",
   "metadata": {
    "id": "zWYL7Ojt1i_I"
   },
   "source": [
    "### (1) 라이브러리, 함수 불러오기 "
   ]
  },
  {
   "cell_type": "code",
   "execution_count": 1,
   "id": "0d2934eb-098d-4480-8818-9147e3e8eb13",
   "metadata": {
    "id": "0d2934eb-098d-4480-8818-9147e3e8eb13"
   },
   "outputs": [],
   "source": [
    "import pandas as pd\n",
    "import numpy as np\n",
    "import joblib"
   ]
  },
  {
   "attachments": {},
   "cell_type": "markdown",
   "id": "kxg4SHQ91lMZ",
   "metadata": {
    "id": "kxg4SHQ91lMZ"
   },
   "source": [
    "### (2) 전처리 결과물 불러오기"
   ]
  },
  {
   "attachments": {},
   "cell_type": "markdown",
   "id": "XMsSersxfPmI",
   "metadata": {
    "id": "XMsSersxfPmI"
   },
   "source": [
    "#### 1) 데이터\n",
    "* test\n",
    "* x_cols\n",
    "* cat"
   ]
  },
  {
   "cell_type": "code",
   "execution_count": 2,
   "id": "29715899-12f6-440a-81b0-a3bb48996b30",
   "metadata": {
    "id": "29715899-12f6-440a-81b0-a3bb48996b30"
   },
   "outputs": [],
   "source": [
    "test = joblib.load('test.pkl')\n",
    "x_cols = joblib.load('x_cols.pkl')\n",
    "cat = joblib.load('category_dict.pkl')\n",
    "simpute_cols = joblib.load('simpute_cols.pkl')"
   ]
  },
  {
   "attachments": {},
   "cell_type": "markdown",
   "id": "Br53nAw4gNAD",
   "metadata": {
    "id": "Br53nAw4gNAD"
   },
   "source": [
    "#### 2) fitting된 함수\n",
    "* s_imputer, scaler, s_imputer"
   ]
  },
  {
   "cell_type": "code",
   "execution_count": 3,
   "id": "gJdWeUogDsus",
   "metadata": {
    "id": "gJdWeUogDsus"
   },
   "outputs": [],
   "source": [
    "s_imputer = joblib.load('s_imputer.pkl')\n",
    "scaler = joblib.load('scaler.pkl')\n",
    "k_imputer = joblib.load('k_imputer.pkl')"
   ]
  },
  {
   "attachments": {},
   "cell_type": "markdown",
   "id": "fBIago1NgCMj",
   "metadata": {
    "id": "fBIago1NgCMj"
   },
   "source": [
    "* model"
   ]
  },
  {
   "cell_type": "code",
   "execution_count": 4,
   "id": "iv-u0-UedqiB",
   "metadata": {
    "id": "iv-u0-UedqiB"
   },
   "outputs": [],
   "source": [
    "model = joblib.load('model.pkl')"
   ]
  },
  {
   "attachments": {},
   "cell_type": "markdown",
   "id": "2lEZHYPZgi88",
   "metadata": {
    "id": "2lEZHYPZgi88"
   },
   "source": [
    "#### 3) 전처리 함수 로딩"
   ]
  },
  {
   "cell_type": "code",
   "execution_count": 5,
   "id": "FmJjCqIFglzT",
   "metadata": {
    "id": "FmJjCqIFglzT"
   },
   "outputs": [],
   "source": [
    "from preprocess import preprocessing"
   ]
  },
  {
   "attachments": {},
   "cell_type": "markdown",
   "id": "7qaGBAsUfwq2",
   "metadata": {
    "id": "7qaGBAsUfwq2"
   },
   "source": [
    "## 2.Test!\n",
    "* test 에서 label 제거\n",
    "* preprocessing 함수에 넣고 전처리\n",
    "* model로 예측하기"
   ]
  },
  {
   "cell_type": "code",
   "execution_count": 6,
   "id": "3_GpRiw5gtwH",
   "metadata": {
    "id": "3_GpRiw5gtwH"
   },
   "outputs": [
    {
     "name": "stderr",
     "output_type": "stream",
     "text": [
      "c:\\Users\\User\\anaconda3\\envs\\ml_pipeline\\lib\\site-packages\\sklearn\\base.py:439: UserWarning: X does not have valid feature names, but KNNImputer was fitted with feature names\n",
      "  warnings.warn(\n"
     ]
    },
    {
     "data": {
      "text/html": [
       "<div>\n",
       "<style scoped>\n",
       "    .dataframe tbody tr th:only-of-type {\n",
       "        vertical-align: middle;\n",
       "    }\n",
       "\n",
       "    .dataframe tbody tr th {\n",
       "        vertical-align: top;\n",
       "    }\n",
       "\n",
       "    .dataframe thead th {\n",
       "        text-align: right;\n",
       "    }\n",
       "</style>\n",
       "<table border=\"1\" class=\"dataframe\">\n",
       "  <thead>\n",
       "    <tr style=\"text-align: right;\">\n",
       "      <th></th>\n",
       "      <th>Age</th>\n",
       "      <th>Fare</th>\n",
       "      <th>Family</th>\n",
       "      <th>Sex_male</th>\n",
       "      <th>Embarked_Q</th>\n",
       "      <th>Embarked_S</th>\n",
       "      <th>Pclass_2</th>\n",
       "      <th>Pclass_3</th>\n",
       "    </tr>\n",
       "  </thead>\n",
       "  <tbody>\n",
       "    <tr>\n",
       "      <th>0</th>\n",
       "      <td>0.183212</td>\n",
       "      <td>0.031425</td>\n",
       "      <td>0.1</td>\n",
       "      <td>0.0</td>\n",
       "      <td>0.0</td>\n",
       "      <td>1.0</td>\n",
       "      <td>0.0</td>\n",
       "      <td>1.0</td>\n",
       "    </tr>\n",
       "    <tr>\n",
       "      <th>1</th>\n",
       "      <td>0.482282</td>\n",
       "      <td>0.000000</td>\n",
       "      <td>0.0</td>\n",
       "      <td>1.0</td>\n",
       "      <td>0.0</td>\n",
       "      <td>1.0</td>\n",
       "      <td>1.0</td>\n",
       "      <td>0.0</td>\n",
       "    </tr>\n",
       "    <tr>\n",
       "      <th>2</th>\n",
       "      <td>0.195778</td>\n",
       "      <td>0.050749</td>\n",
       "      <td>0.0</td>\n",
       "      <td>1.0</td>\n",
       "      <td>0.0</td>\n",
       "      <td>1.0</td>\n",
       "      <td>1.0</td>\n",
       "      <td>0.0</td>\n",
       "    </tr>\n",
       "    <tr>\n",
       "      <th>3</th>\n",
       "      <td>0.258608</td>\n",
       "      <td>0.016908</td>\n",
       "      <td>0.0</td>\n",
       "      <td>1.0</td>\n",
       "      <td>0.0</td>\n",
       "      <td>1.0</td>\n",
       "      <td>0.0</td>\n",
       "      <td>1.0</td>\n",
       "    </tr>\n",
       "    <tr>\n",
       "      <th>4</th>\n",
       "      <td>0.258608</td>\n",
       "      <td>0.020495</td>\n",
       "      <td>0.0</td>\n",
       "      <td>0.0</td>\n",
       "      <td>0.0</td>\n",
       "      <td>1.0</td>\n",
       "      <td>1.0</td>\n",
       "      <td>0.0</td>\n",
       "    </tr>\n",
       "  </tbody>\n",
       "</table>\n",
       "</div>"
      ],
      "text/plain": [
       "        Age      Fare  Family  Sex_male  Embarked_Q  Embarked_S  Pclass_2   \n",
       "0  0.183212  0.031425     0.1       0.0         0.0         1.0       0.0  \\\n",
       "1  0.482282  0.000000     0.0       1.0         0.0         1.0       1.0   \n",
       "2  0.195778  0.050749     0.0       1.0         0.0         1.0       1.0   \n",
       "3  0.258608  0.016908     0.0       1.0         0.0         1.0       0.0   \n",
       "4  0.258608  0.020495     0.0       0.0         0.0         1.0       1.0   \n",
       "\n",
       "   Pclass_3  \n",
       "0       1.0  \n",
       "1       0.0  \n",
       "2       0.0  \n",
       "3       1.0  \n",
       "4       0.0  "
      ]
     },
     "execution_count": 6,
     "metadata": {},
     "output_type": "execute_result"
    }
   ],
   "source": [
    "temp0 = test.copy() \n",
    "x_test = preprocessing( temp0, s_imputer, cat, scaler, k_imputer, simpute_cols, x_cols) \n",
    "x_test.head()"
   ]
  },
  {
   "cell_type": "code",
   "execution_count": 7,
   "id": "kg9IFmdNd1Du",
   "metadata": {
    "id": "kg9IFmdNd1Du"
   },
   "outputs": [
    {
     "data": {
      "text/plain": [
       "array([0, 0, 0, 0, 1, 0, 0, 0, 1, 0, 1, 0, 1, 0, 1, 0, 0, 1, 1, 1],\n",
       "      dtype=int64)"
      ]
     },
     "execution_count": 7,
     "metadata": {},
     "output_type": "execute_result"
    }
   ],
   "source": [
    "model.predict(x_test)"
   ]
  },
  {
   "cell_type": "code",
   "execution_count": null,
   "id": "b873a96b",
   "metadata": {},
   "outputs": [],
   "source": []
  }
 ],
 "metadata": {
  "colab": {
   "provenance": [],
   "toc_visible": true
  },
  "kernelspec": {
   "display_name": "Python 3 (ipykernel)",
   "language": "python",
   "name": "python3"
  },
  "language_info": {
   "codemirror_mode": {
    "name": "ipython",
    "version": 3
   },
   "file_extension": ".py",
   "mimetype": "text/x-python",
   "name": "python",
   "nbconvert_exporter": "python",
   "pygments_lexer": "ipython3",
   "version": "3.10.11"
  }
 },
 "nbformat": 4,
 "nbformat_minor": 5
}
