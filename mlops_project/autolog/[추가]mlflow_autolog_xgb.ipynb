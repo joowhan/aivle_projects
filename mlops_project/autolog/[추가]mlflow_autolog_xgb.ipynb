{
 "cells": [
  {
   "cell_type": "markdown",
   "metadata": {
    "id": "cVB9pY-v8uv5"
   },
   "source": [
    "# 24. mlflow 다양한 실험2\n",
    "\n",
    "----\n",
    "* 다루는 내용\n",
    "    * auto log\n",
    "    * xgboost\n",
    "    * keras\n",
    "----"
   ]
  },
  {
   "cell_type": "markdown",
   "metadata": {
    "id": "qTa9LlwZD_aa"
   },
   "source": [
    "## 1.환경준비"
   ]
  },
  {
   "cell_type": "markdown",
   "metadata": {
    "id": "gIN5d51gtker"
   },
   "source": [
    "### (1) 라이브러리 Import"
   ]
  },
  {
   "cell_type": "markdown",
   "metadata": {},
   "source": [
    "* 설치할 라이브러리"
   ]
  },
  {
   "cell_type": "code",
   "execution_count": null,
   "metadata": {},
   "outputs": [],
   "source": [
    "!pip install xgboost"
   ]
  },
  {
   "cell_type": "code",
   "execution_count": null,
   "metadata": {},
   "outputs": [],
   "source": [
    "!pip install tensorflow\n",
    "!pip install keras"
   ]
  },
  {
   "cell_type": "markdown",
   "metadata": {},
   "source": [
    "* 라이브러리 로딩"
   ]
  },
  {
   "cell_type": "code",
   "execution_count": 1,
   "metadata": {
    "id": "GVvCef6A8uv6",
    "tags": []
   },
   "outputs": [],
   "source": [
    "import pandas as pd\n",
    "import numpy as np\n",
    "import matplotlib.pyplot as plt\n",
    "import seaborn as sns\n",
    "\n",
    "from sklearn.model_selection import train_test_split\n",
    "from sklearn.metrics import *\n",
    "from sklearn.preprocessing import MinMaxScaler\n",
    "\n",
    "import mlflow"
   ]
  },
  {
   "cell_type": "markdown",
   "metadata": {},
   "source": [
    "### (2) 데이터 불러오기"
   ]
  },
  {
   "cell_type": "markdown",
   "metadata": {
    "id": "lZoMs28MEi_n"
   },
   "source": [
    "* 카시트 판매량 데이터"
   ]
  },
  {
   "cell_type": "markdown",
   "metadata": {
    "id": "zk45NDTSEoBh"
   },
   "source": [
    "|\t변수명\t|\t설명\t|\t구분\t|\n",
    "|----|----|----|\n",
    "|\t**Sales** \t|\t **각 지역 판매량(단위 : 1000개)**\t|\t**Target**\t|\n",
    "|\tCompPrice \t|\t지역별 경쟁사 판매가격(달러)\t|\tfeature\t|\n",
    "|\tIncome \t|\t가구당 평균 소득액(1000달러)\t|\tfeature\t|\n",
    "|\tAdvertising \t|\t 각 지역, 회사의 광고 예산(1000달러)\t|\tfeature\t|\n",
    "|\tPopulation \t|\t 지역 인구수(단위 : 1000명)\t|\tfeature\t|\n",
    "|\tPrice \t|\t 자사 지역별 판매가격(달러)\t|\tfeature\t|\n",
    "|\tShelveLoc \t|\t 진열상태(범주 : Bad, Medium, Good)\t|\tfeature\t|\n",
    "|\tAge \t|\t 지역 인구의 평균 연령\t|\tfeature\t|\n",
    "|\tEducation \t|\t 교육수준(범주 : 10~18)\t|\tfeature\t|\n",
    "|\tUrban \t|\t 매장이 도심에 있는지 여부(범주 : Yes, No)\t|\tfeature\t|\n",
    "|\tUS \t|\t 매장이 미국에 있는지 여부(범주 : Yes, No)\t|\tfeature\t|\n"
   ]
  },
  {
   "cell_type": "markdown",
   "metadata": {
    "id": "KF3g3YrNAQLV"
   },
   "source": [
    "* 데이터 경로 : https://raw.githubusercontent.com/DA4BAM/dataset/master/Carseats.csv"
   ]
  },
  {
   "cell_type": "code",
   "execution_count": 2,
   "metadata": {
    "colab": {
     "base_uri": "https://localhost:8080/",
     "height": 206
    },
    "executionInfo": {
     "elapsed": 332,
     "status": "ok",
     "timestamp": 1676244971715,
     "user": {
      "displayName": "한기영",
      "userId": "13049187003176135487"
     },
     "user_tz": -540
    },
    "id": "fiiwGWqgEaa5",
    "outputId": "783692d6-0296-4849-fc29-27ea64480c19",
    "tags": []
   },
   "outputs": [
    {
     "data": {
      "text/html": [
       "<div>\n",
       "<style scoped>\n",
       "    .dataframe tbody tr th:only-of-type {\n",
       "        vertical-align: middle;\n",
       "    }\n",
       "\n",
       "    .dataframe tbody tr th {\n",
       "        vertical-align: top;\n",
       "    }\n",
       "\n",
       "    .dataframe thead th {\n",
       "        text-align: right;\n",
       "    }\n",
       "</style>\n",
       "<table border=\"1\" class=\"dataframe\">\n",
       "  <thead>\n",
       "    <tr style=\"text-align: right;\">\n",
       "      <th></th>\n",
       "      <th>Sales</th>\n",
       "      <th>CompPrice</th>\n",
       "      <th>Income</th>\n",
       "      <th>Advertising</th>\n",
       "      <th>Population</th>\n",
       "      <th>Price</th>\n",
       "      <th>ShelveLoc</th>\n",
       "      <th>Age</th>\n",
       "      <th>Education</th>\n",
       "      <th>Urban</th>\n",
       "      <th>US</th>\n",
       "    </tr>\n",
       "  </thead>\n",
       "  <tbody>\n",
       "    <tr>\n",
       "      <th>0</th>\n",
       "      <td>9.50</td>\n",
       "      <td>138</td>\n",
       "      <td>73</td>\n",
       "      <td>11</td>\n",
       "      <td>276</td>\n",
       "      <td>120</td>\n",
       "      <td>Bad</td>\n",
       "      <td>42</td>\n",
       "      <td>17</td>\n",
       "      <td>Yes</td>\n",
       "      <td>Yes</td>\n",
       "    </tr>\n",
       "    <tr>\n",
       "      <th>1</th>\n",
       "      <td>11.22</td>\n",
       "      <td>111</td>\n",
       "      <td>48</td>\n",
       "      <td>16</td>\n",
       "      <td>260</td>\n",
       "      <td>83</td>\n",
       "      <td>Good</td>\n",
       "      <td>65</td>\n",
       "      <td>10</td>\n",
       "      <td>Yes</td>\n",
       "      <td>Yes</td>\n",
       "    </tr>\n",
       "    <tr>\n",
       "      <th>2</th>\n",
       "      <td>10.06</td>\n",
       "      <td>113</td>\n",
       "      <td>35</td>\n",
       "      <td>10</td>\n",
       "      <td>269</td>\n",
       "      <td>80</td>\n",
       "      <td>Medium</td>\n",
       "      <td>59</td>\n",
       "      <td>12</td>\n",
       "      <td>Yes</td>\n",
       "      <td>Yes</td>\n",
       "    </tr>\n",
       "    <tr>\n",
       "      <th>3</th>\n",
       "      <td>7.40</td>\n",
       "      <td>117</td>\n",
       "      <td>100</td>\n",
       "      <td>4</td>\n",
       "      <td>466</td>\n",
       "      <td>97</td>\n",
       "      <td>Medium</td>\n",
       "      <td>55</td>\n",
       "      <td>14</td>\n",
       "      <td>Yes</td>\n",
       "      <td>Yes</td>\n",
       "    </tr>\n",
       "    <tr>\n",
       "      <th>4</th>\n",
       "      <td>4.15</td>\n",
       "      <td>141</td>\n",
       "      <td>64</td>\n",
       "      <td>3</td>\n",
       "      <td>340</td>\n",
       "      <td>128</td>\n",
       "      <td>Bad</td>\n",
       "      <td>38</td>\n",
       "      <td>13</td>\n",
       "      <td>Yes</td>\n",
       "      <td>No</td>\n",
       "    </tr>\n",
       "  </tbody>\n",
       "</table>\n",
       "</div>"
      ],
      "text/plain": [
       "   Sales  CompPrice  Income  Advertising  Population  Price ShelveLoc  Age  \\\n",
       "0   9.50        138      73           11         276    120       Bad   42   \n",
       "1  11.22        111      48           16         260     83      Good   65   \n",
       "2  10.06        113      35           10         269     80    Medium   59   \n",
       "3   7.40        117     100            4         466     97    Medium   55   \n",
       "4   4.15        141      64            3         340    128       Bad   38   \n",
       "\n",
       "   Education Urban   US  \n",
       "0         17   Yes  Yes  \n",
       "1         10   Yes  Yes  \n",
       "2         12   Yes  Yes  \n",
       "3         14   Yes  Yes  \n",
       "4         13   Yes   No  "
      ]
     },
     "execution_count": 2,
     "metadata": {},
     "output_type": "execute_result"
    }
   ],
   "source": [
    "path = 'https://raw.githubusercontent.com/DA4BAM/dataset/master/Carseats.csv'\n",
    "carseat = pd.read_csv(path)\n",
    "carseat.head()"
   ]
  },
  {
   "cell_type": "markdown",
   "metadata": {
    "id": "pcf-5u15ZYqG",
    "tags": []
   },
   "source": [
    "## 2. 전처리 및 추적 준비"
   ]
  },
  {
   "cell_type": "markdown",
   "metadata": {
    "id": "-N_y_wtxcYvv"
   },
   "source": [
    "### (1) 데이터 전처리"
   ]
  },
  {
   "cell_type": "markdown",
   "metadata": {
    "id": "dp279ZAVcYvv",
    "tags": []
   },
   "source": [
    "* 데이터 준비"
   ]
  },
  {
   "cell_type": "code",
   "execution_count": 3,
   "metadata": {
    "id": "nIqNS4utcYvw"
   },
   "outputs": [],
   "source": [
    "target = 'Sales'\n",
    "x = carseat.drop(target, axis=1)\n",
    "y = carseat.loc[:, target]"
   ]
  },
  {
   "cell_type": "markdown",
   "metadata": {
    "id": "Caf9vsxemDj6"
   },
   "source": [
    "* 가변수화"
   ]
  },
  {
   "cell_type": "code",
   "execution_count": 4,
   "metadata": {
    "id": "8ZcBHLh7Rmcy"
   },
   "outputs": [],
   "source": [
    "cat_cols = {'ShelveLoc':['Bad','Medium','Good']\n",
    "            , 'Education':[10,11,12,13,14,15,16,17,18]\n",
    "            , 'US':['No','Yes']\n",
    "            , 'Urban':['No','Yes']}\n",
    "\n",
    "for var, values in cat_cols.items():\n",
    "    x[var] = pd.Categorical(x[var], categories = values)\n",
    "\n",
    "x = pd.get_dummies(x, columns = cat_cols.keys(), drop_first = True)    "
   ]
  },
  {
   "cell_type": "markdown",
   "metadata": {
    "id": "k3amXi18t8bT"
   },
   "source": [
    "* 데이터분할"
   ]
  },
  {
   "cell_type": "code",
   "execution_count": 5,
   "metadata": {
    "id": "cpFuBf0Dt8bT"
   },
   "outputs": [],
   "source": [
    "x_train, x_val, y_train, y_val = train_test_split(x, y, test_size=.2, random_state = 20)"
   ]
  },
  {
   "cell_type": "markdown",
   "metadata": {},
   "source": [
    "* 스케일링"
   ]
  },
  {
   "cell_type": "code",
   "execution_count": 6,
   "metadata": {},
   "outputs": [],
   "source": [
    "scaler = MinMaxScaler()\n",
    "x_train_s = scaler.fit_transform(x_train)\n",
    "x_val_s = scaler.transform(x_val)"
   ]
  },
  {
   "cell_type": "markdown",
   "metadata": {},
   "source": [
    "### (2) Tracking 준비"
   ]
  },
  {
   "cell_type": "markdown",
   "metadata": {},
   "source": [
    "#### 1) 추적설정"
   ]
  },
  {
   "cell_type": "code",
   "execution_count": 7,
   "metadata": {},
   "outputs": [],
   "source": [
    "mlflow_uri = \"sqlite:///mlflow.db\"\n",
    "mlflow.set_tracking_uri(mlflow_uri)"
   ]
  },
  {
   "cell_type": "markdown",
   "metadata": {
    "id": "EyUA5yIRyHyc"
   },
   "source": [
    "#### 2) 새 실험 만들기"
   ]
  },
  {
   "cell_type": "code",
   "execution_count": 8,
   "metadata": {
    "tags": []
   },
   "outputs": [
    {
     "name": "stderr",
     "output_type": "stream",
     "text": [
      "2023/04/12 16:10:40 INFO mlflow.store.db.utils: Creating initial MLflow database tables...\n",
      "2023/04/12 16:10:40 INFO mlflow.store.db.utils: Updating database tables\n",
      "INFO  [alembic.runtime.migration] Context impl SQLiteImpl.\n",
      "INFO  [alembic.runtime.migration] Will assume non-transactional DDL.\n",
      "INFO  [alembic.runtime.migration] Context impl SQLiteImpl.\n",
      "INFO  [alembic.runtime.migration] Will assume non-transactional DDL.\n"
     ]
    },
    {
     "data": {
      "text/plain": [
       "'4'"
      ]
     },
     "execution_count": 8,
     "metadata": {},
     "output_type": "execute_result"
    }
   ],
   "source": [
    "exp_id = mlflow.create_experiment(\"exp4\")\n",
    "exp_id"
   ]
  },
  {
   "attachments": {},
   "cell_type": "markdown",
   "metadata": {},
   "source": [
    "## 3. autolog : XGBoost"
   ]
  },
  {
   "cell_type": "code",
   "execution_count": 17,
   "metadata": {},
   "outputs": [],
   "source": [
    "from xgboost import XGBRegressor"
   ]
  },
  {
   "cell_type": "markdown",
   "metadata": {
    "tags": []
   },
   "source": [
    "### (1) XGB 모델링"
   ]
  },
  {
   "cell_type": "markdown",
   "metadata": {},
   "source": [
    "* 모델링\n",
    "    * early_stopping 기능이 제공됩니다.\n",
    "    * .fit 에 검증셋을 함께 입력하여 검증할 수 있습니다."
   ]
  },
  {
   "cell_type": "code",
   "execution_count": 18,
   "metadata": {
    "collapsed": true,
    "jupyter": {
     "outputs_hidden": true
    },
    "tags": []
   },
   "outputs": [
    {
     "name": "stdout",
     "output_type": "stream",
     "text": [
      "[0]\tvalidation_0-rmse:6.85813\tvalidation_1-rmse:6.83002\n",
      "[1]\tvalidation_0-rmse:6.23220\tvalidation_1-rmse:6.22894\n",
      "[2]\tvalidation_0-rmse:5.66902\tvalidation_1-rmse:5.70176\n",
      "[3]\tvalidation_0-rmse:5.16165\tvalidation_1-rmse:5.25441\n",
      "[4]\tvalidation_0-rmse:4.70303\tvalidation_1-rmse:4.83492\n",
      "[5]\tvalidation_0-rmse:4.29028\tvalidation_1-rmse:4.47706\n",
      "[6]\tvalidation_0-rmse:3.91628\tvalidation_1-rmse:4.15741\n",
      "[7]\tvalidation_0-rmse:3.57998\tvalidation_1-rmse:3.86995\n",
      "[8]\tvalidation_0-rmse:3.27359\tvalidation_1-rmse:3.61345\n",
      "[9]\tvalidation_0-rmse:2.99782\tvalidation_1-rmse:3.37225\n",
      "[10]\tvalidation_0-rmse:2.74822\tvalidation_1-rmse:3.17815\n",
      "[11]\tvalidation_0-rmse:2.52315\tvalidation_1-rmse:3.00625\n",
      "[12]\tvalidation_0-rmse:2.31932\tvalidation_1-rmse:2.84555\n",
      "[13]\tvalidation_0-rmse:2.13497\tvalidation_1-rmse:2.70712\n",
      "[14]\tvalidation_0-rmse:1.96667\tvalidation_1-rmse:2.58429\n",
      "[15]\tvalidation_0-rmse:1.81690\tvalidation_1-rmse:2.48469\n",
      "[16]\tvalidation_0-rmse:1.67716\tvalidation_1-rmse:2.40113\n",
      "[17]\tvalidation_0-rmse:1.55336\tvalidation_1-rmse:2.31965\n",
      "[18]\tvalidation_0-rmse:1.43820\tvalidation_1-rmse:2.24429\n",
      "[19]\tvalidation_0-rmse:1.33579\tvalidation_1-rmse:2.18045\n",
      "[20]\tvalidation_0-rmse:1.24506\tvalidation_1-rmse:2.12952\n",
      "[21]\tvalidation_0-rmse:1.15746\tvalidation_1-rmse:2.08693\n",
      "[22]\tvalidation_0-rmse:1.07852\tvalidation_1-rmse:2.05378\n",
      "[23]\tvalidation_0-rmse:1.00835\tvalidation_1-rmse:2.02599\n",
      "[24]\tvalidation_0-rmse:0.94265\tvalidation_1-rmse:1.99669\n",
      "[25]\tvalidation_0-rmse:0.88443\tvalidation_1-rmse:1.97224\n",
      "[26]\tvalidation_0-rmse:0.82822\tvalidation_1-rmse:1.95215\n",
      "[27]\tvalidation_0-rmse:0.77987\tvalidation_1-rmse:1.93524\n",
      "[28]\tvalidation_0-rmse:0.73307\tvalidation_1-rmse:1.91891\n",
      "[29]\tvalidation_0-rmse:0.69372\tvalidation_1-rmse:1.90582\n",
      "[30]\tvalidation_0-rmse:0.65709\tvalidation_1-rmse:1.89278\n",
      "[31]\tvalidation_0-rmse:0.62109\tvalidation_1-rmse:1.88301\n",
      "[32]\tvalidation_0-rmse:0.59173\tvalidation_1-rmse:1.87072\n",
      "[33]\tvalidation_0-rmse:0.56396\tvalidation_1-rmse:1.86531\n",
      "[34]\tvalidation_0-rmse:0.53827\tvalidation_1-rmse:1.86091\n",
      "[35]\tvalidation_0-rmse:0.51605\tvalidation_1-rmse:1.85321\n",
      "[36]\tvalidation_0-rmse:0.49527\tvalidation_1-rmse:1.84670\n",
      "[37]\tvalidation_0-rmse:0.47499\tvalidation_1-rmse:1.83804\n",
      "[38]\tvalidation_0-rmse:0.45826\tvalidation_1-rmse:1.83281\n",
      "[39]\tvalidation_0-rmse:0.44371\tvalidation_1-rmse:1.82902\n",
      "[40]\tvalidation_0-rmse:0.43001\tvalidation_1-rmse:1.82566\n",
      "[41]\tvalidation_0-rmse:0.41736\tvalidation_1-rmse:1.82173\n",
      "[42]\tvalidation_0-rmse:0.40560\tvalidation_1-rmse:1.81567\n",
      "[43]\tvalidation_0-rmse:0.39304\tvalidation_1-rmse:1.81028\n",
      "[44]\tvalidation_0-rmse:0.38026\tvalidation_1-rmse:1.81018\n",
      "[45]\tvalidation_0-rmse:0.36806\tvalidation_1-rmse:1.80776\n",
      "[46]\tvalidation_0-rmse:0.35751\tvalidation_1-rmse:1.80474\n",
      "[47]\tvalidation_0-rmse:0.34792\tvalidation_1-rmse:1.80456\n",
      "[48]\tvalidation_0-rmse:0.33844\tvalidation_1-rmse:1.80614\n",
      "[49]\tvalidation_0-rmse:0.32952\tvalidation_1-rmse:1.80340\n",
      "[50]\tvalidation_0-rmse:0.32164\tvalidation_1-rmse:1.80419\n",
      "[51]\tvalidation_0-rmse:0.31462\tvalidation_1-rmse:1.80365\n",
      "[52]\tvalidation_0-rmse:0.30668\tvalidation_1-rmse:1.80365\n",
      "[53]\tvalidation_0-rmse:0.30014\tvalidation_1-rmse:1.80423\n",
      "[54]\tvalidation_0-rmse:0.29397\tvalidation_1-rmse:1.80290\n",
      "[55]\tvalidation_0-rmse:0.28904\tvalidation_1-rmse:1.80098\n",
      "[56]\tvalidation_0-rmse:0.28472\tvalidation_1-rmse:1.79948\n",
      "[57]\tvalidation_0-rmse:0.27963\tvalidation_1-rmse:1.79858\n",
      "[58]\tvalidation_0-rmse:0.27344\tvalidation_1-rmse:1.79944\n",
      "[59]\tvalidation_0-rmse:0.26368\tvalidation_1-rmse:1.79882\n",
      "[60]\tvalidation_0-rmse:0.25729\tvalidation_1-rmse:1.79736\n",
      "[61]\tvalidation_0-rmse:0.25029\tvalidation_1-rmse:1.79715\n",
      "[62]\tvalidation_0-rmse:0.24617\tvalidation_1-rmse:1.79656\n",
      "[63]\tvalidation_0-rmse:0.24234\tvalidation_1-rmse:1.79823\n",
      "[64]\tvalidation_0-rmse:0.24064\tvalidation_1-rmse:1.79711\n",
      "[65]\tvalidation_0-rmse:0.23594\tvalidation_1-rmse:1.79573\n",
      "[66]\tvalidation_0-rmse:0.22926\tvalidation_1-rmse:1.79627\n",
      "[67]\tvalidation_0-rmse:0.22518\tvalidation_1-rmse:1.79759\n",
      "[68]\tvalidation_0-rmse:0.22319\tvalidation_1-rmse:1.79784\n",
      "[69]\tvalidation_0-rmse:0.21877\tvalidation_1-rmse:1.79853\n",
      "[70]\tvalidation_0-rmse:0.21602\tvalidation_1-rmse:1.79888\n",
      "[71]\tvalidation_0-rmse:0.21163\tvalidation_1-rmse:1.79963\n",
      "[72]\tvalidation_0-rmse:0.20538\tvalidation_1-rmse:1.80071\n",
      "[73]\tvalidation_0-rmse:0.20160\tvalidation_1-rmse:1.80058\n",
      "[74]\tvalidation_0-rmse:0.19971\tvalidation_1-rmse:1.80020\n"
     ]
    },
    {
     "data": {
      "text/html": [
       "<style>#sk-container-id-5 {color: black;background-color: white;}#sk-container-id-5 pre{padding: 0;}#sk-container-id-5 div.sk-toggleable {background-color: white;}#sk-container-id-5 label.sk-toggleable__label {cursor: pointer;display: block;width: 100%;margin-bottom: 0;padding: 0.3em;box-sizing: border-box;text-align: center;}#sk-container-id-5 label.sk-toggleable__label-arrow:before {content: \"▸\";float: left;margin-right: 0.25em;color: #696969;}#sk-container-id-5 label.sk-toggleable__label-arrow:hover:before {color: black;}#sk-container-id-5 div.sk-estimator:hover label.sk-toggleable__label-arrow:before {color: black;}#sk-container-id-5 div.sk-toggleable__content {max-height: 0;max-width: 0;overflow: hidden;text-align: left;background-color: #f0f8ff;}#sk-container-id-5 div.sk-toggleable__content pre {margin: 0.2em;color: black;border-radius: 0.25em;background-color: #f0f8ff;}#sk-container-id-5 input.sk-toggleable__control:checked~div.sk-toggleable__content {max-height: 200px;max-width: 100%;overflow: auto;}#sk-container-id-5 input.sk-toggleable__control:checked~label.sk-toggleable__label-arrow:before {content: \"▾\";}#sk-container-id-5 div.sk-estimator input.sk-toggleable__control:checked~label.sk-toggleable__label {background-color: #d4ebff;}#sk-container-id-5 div.sk-label input.sk-toggleable__control:checked~label.sk-toggleable__label {background-color: #d4ebff;}#sk-container-id-5 input.sk-hidden--visually {border: 0;clip: rect(1px 1px 1px 1px);clip: rect(1px, 1px, 1px, 1px);height: 1px;margin: -1px;overflow: hidden;padding: 0;position: absolute;width: 1px;}#sk-container-id-5 div.sk-estimator {font-family: monospace;background-color: #f0f8ff;border: 1px dotted black;border-radius: 0.25em;box-sizing: border-box;margin-bottom: 0.5em;}#sk-container-id-5 div.sk-estimator:hover {background-color: #d4ebff;}#sk-container-id-5 div.sk-parallel-item::after {content: \"\";width: 100%;border-bottom: 1px solid gray;flex-grow: 1;}#sk-container-id-5 div.sk-label:hover label.sk-toggleable__label {background-color: #d4ebff;}#sk-container-id-5 div.sk-serial::before {content: \"\";position: absolute;border-left: 1px solid gray;box-sizing: border-box;top: 0;bottom: 0;left: 50%;z-index: 0;}#sk-container-id-5 div.sk-serial {display: flex;flex-direction: column;align-items: center;background-color: white;padding-right: 0.2em;padding-left: 0.2em;position: relative;}#sk-container-id-5 div.sk-item {position: relative;z-index: 1;}#sk-container-id-5 div.sk-parallel {display: flex;align-items: stretch;justify-content: center;background-color: white;position: relative;}#sk-container-id-5 div.sk-item::before, #sk-container-id-5 div.sk-parallel-item::before {content: \"\";position: absolute;border-left: 1px solid gray;box-sizing: border-box;top: 0;bottom: 0;left: 50%;z-index: -1;}#sk-container-id-5 div.sk-parallel-item {display: flex;flex-direction: column;z-index: 1;position: relative;background-color: white;}#sk-container-id-5 div.sk-parallel-item:first-child::after {align-self: flex-end;width: 50%;}#sk-container-id-5 div.sk-parallel-item:last-child::after {align-self: flex-start;width: 50%;}#sk-container-id-5 div.sk-parallel-item:only-child::after {width: 0;}#sk-container-id-5 div.sk-dashed-wrapped {border: 1px dashed gray;margin: 0 0.4em 0.5em 0.4em;box-sizing: border-box;padding-bottom: 0.4em;background-color: white;}#sk-container-id-5 div.sk-label label {font-family: monospace;font-weight: bold;display: inline-block;line-height: 1.2em;}#sk-container-id-5 div.sk-label-container {text-align: center;}#sk-container-id-5 div.sk-container {/* jupyter's `normalize.less` sets `[hidden] { display: none; }` but bootstrap.min.css set `[hidden] { display: none !important; }` so we also need the `!important` here to be able to override the default hidden behavior on the sphinx rendered scikit-learn.org. See: https://github.com/scikit-learn/scikit-learn/issues/21755 */display: inline-block !important;position: relative;}#sk-container-id-5 div.sk-text-repr-fallback {display: none;}</style><div id=\"sk-container-id-5\" class=\"sk-top-container\"><div class=\"sk-text-repr-fallback\"><pre>XGBRegressor(base_score=None, booster=None, callbacks=None,\n",
       "             colsample_bylevel=None, colsample_bynode=None,\n",
       "             colsample_bytree=None, early_stopping_rounds=10,\n",
       "             enable_categorical=False, eval_metric=None, feature_types=None,\n",
       "             gamma=None, gpu_id=None, grow_policy=None, importance_type=None,\n",
       "             interaction_constraints=None, learning_rate=0.1, max_bin=None,\n",
       "             max_cat_threshold=None, max_cat_to_onehot=None,\n",
       "             max_delta_step=None, max_depth=None, max_leaves=None,\n",
       "             min_child_weight=None, missing=nan, monotone_constraints=None,\n",
       "             n_estimators=100, n_jobs=None, num_parallel_tree=None,\n",
       "             predictor=None, random_state=None, ...)</pre><b>In a Jupyter environment, please rerun this cell to show the HTML representation or trust the notebook. <br />On GitHub, the HTML representation is unable to render, please try loading this page with nbviewer.org.</b></div><div class=\"sk-container\" hidden><div class=\"sk-item\"><div class=\"sk-estimator sk-toggleable\"><input class=\"sk-toggleable__control sk-hidden--visually\" id=\"sk-estimator-id-11\" type=\"checkbox\" checked><label for=\"sk-estimator-id-11\" class=\"sk-toggleable__label sk-toggleable__label-arrow\">XGBRegressor</label><div class=\"sk-toggleable__content\"><pre>XGBRegressor(base_score=None, booster=None, callbacks=None,\n",
       "             colsample_bylevel=None, colsample_bynode=None,\n",
       "             colsample_bytree=None, early_stopping_rounds=10,\n",
       "             enable_categorical=False, eval_metric=None, feature_types=None,\n",
       "             gamma=None, gpu_id=None, grow_policy=None, importance_type=None,\n",
       "             interaction_constraints=None, learning_rate=0.1, max_bin=None,\n",
       "             max_cat_threshold=None, max_cat_to_onehot=None,\n",
       "             max_delta_step=None, max_depth=None, max_leaves=None,\n",
       "             min_child_weight=None, missing=nan, monotone_constraints=None,\n",
       "             n_estimators=100, n_jobs=None, num_parallel_tree=None,\n",
       "             predictor=None, random_state=None, ...)</pre></div></div></div></div></div>"
      ],
      "text/plain": [
       "XGBRegressor(base_score=None, booster=None, callbacks=None,\n",
       "             colsample_bylevel=None, colsample_bynode=None,\n",
       "             colsample_bytree=None, early_stopping_rounds=10,\n",
       "             enable_categorical=False, eval_metric=None, feature_types=None,\n",
       "             gamma=None, gpu_id=None, grow_policy=None, importance_type=None,\n",
       "             interaction_constraints=None, learning_rate=0.1, max_bin=None,\n",
       "             max_cat_threshold=None, max_cat_to_onehot=None,\n",
       "             max_delta_step=None, max_depth=None, max_leaves=None,\n",
       "             min_child_weight=None, missing=nan, monotone_constraints=None,\n",
       "             n_estimators=100, n_jobs=None, num_parallel_tree=None,\n",
       "             predictor=None, random_state=None, ...)"
      ]
     },
     "execution_count": 18,
     "metadata": {},
     "output_type": "execute_result"
    }
   ],
   "source": [
    "model = XGBRegressor(n_estimators=100, objective=\"reg:squarederror\",\n",
    "                     learning_rate=0.1, early_stopping_rounds=10)\n",
    "\n",
    "eval_set = [(x_train, y_train), (x_val, y_val)]\n",
    "model.fit(x_train, y_train, eval_set=eval_set)"
   ]
  },
  {
   "cell_type": "markdown",
   "metadata": {},
   "source": [
    "* 모델링 후 최적의 iteration과 그때의 검증성능 확인"
   ]
  },
  {
   "cell_type": "code",
   "execution_count": 19,
   "metadata": {},
   "outputs": [
    {
     "name": "stdout",
     "output_type": "stream",
     "text": [
      "65 1.795728762452082\n"
     ]
    }
   ],
   "source": [
    "# best iter, best score\n",
    "print(model.best_iteration, model.best_score)"
   ]
  },
  {
   "cell_type": "markdown",
   "metadata": {},
   "source": [
    "* 각 iteration의 검증 성능을 데이터프레임으로 저장하고 그래프로 확인하기 "
   ]
  },
  {
   "cell_type": "code",
   "execution_count": 20,
   "metadata": {
    "collapsed": true,
    "jupyter": {
     "outputs_hidden": true
    },
    "tags": []
   },
   "outputs": [
    {
     "data": {
      "text/html": [
       "<div>\n",
       "<style scoped>\n",
       "    .dataframe tbody tr th:only-of-type {\n",
       "        vertical-align: middle;\n",
       "    }\n",
       "\n",
       "    .dataframe tbody tr th {\n",
       "        vertical-align: top;\n",
       "    }\n",
       "\n",
       "    .dataframe thead th {\n",
       "        text-align: right;\n",
       "    }\n",
       "</style>\n",
       "<table border=\"1\" class=\"dataframe\">\n",
       "  <thead>\n",
       "    <tr style=\"text-align: right;\">\n",
       "      <th></th>\n",
       "      <th>train_err</th>\n",
       "      <th>val_err</th>\n",
       "    </tr>\n",
       "  </thead>\n",
       "  <tbody>\n",
       "    <tr>\n",
       "      <th>0</th>\n",
       "      <td>6.858129</td>\n",
       "      <td>6.830021</td>\n",
       "    </tr>\n",
       "    <tr>\n",
       "      <th>1</th>\n",
       "      <td>6.232201</td>\n",
       "      <td>6.228939</td>\n",
       "    </tr>\n",
       "    <tr>\n",
       "      <th>2</th>\n",
       "      <td>5.669022</td>\n",
       "      <td>5.701762</td>\n",
       "    </tr>\n",
       "    <tr>\n",
       "      <th>3</th>\n",
       "      <td>5.161652</td>\n",
       "      <td>5.254407</td>\n",
       "    </tr>\n",
       "    <tr>\n",
       "      <th>4</th>\n",
       "      <td>4.703032</td>\n",
       "      <td>4.834918</td>\n",
       "    </tr>\n",
       "    <tr>\n",
       "      <th>...</th>\n",
       "      <td>...</td>\n",
       "      <td>...</td>\n",
       "    </tr>\n",
       "    <tr>\n",
       "      <th>71</th>\n",
       "      <td>0.211630</td>\n",
       "      <td>1.799628</td>\n",
       "    </tr>\n",
       "    <tr>\n",
       "      <th>72</th>\n",
       "      <td>0.205383</td>\n",
       "      <td>1.800707</td>\n",
       "    </tr>\n",
       "    <tr>\n",
       "      <th>73</th>\n",
       "      <td>0.201603</td>\n",
       "      <td>1.800579</td>\n",
       "    </tr>\n",
       "    <tr>\n",
       "      <th>74</th>\n",
       "      <td>0.199709</td>\n",
       "      <td>1.800205</td>\n",
       "    </tr>\n",
       "    <tr>\n",
       "      <th>75</th>\n",
       "      <td>0.196122</td>\n",
       "      <td>1.799558</td>\n",
       "    </tr>\n",
       "  </tbody>\n",
       "</table>\n",
       "<p>76 rows × 2 columns</p>\n",
       "</div>"
      ],
      "text/plain": [
       "    train_err   val_err\n",
       "0    6.858129  6.830021\n",
       "1    6.232201  6.228939\n",
       "2    5.669022  5.701762\n",
       "3    5.161652  5.254407\n",
       "4    4.703032  4.834918\n",
       "..        ...       ...\n",
       "71   0.211630  1.799628\n",
       "72   0.205383  1.800707\n",
       "73   0.201603  1.800579\n",
       "74   0.199709  1.800205\n",
       "75   0.196122  1.799558\n",
       "\n",
       "[76 rows x 2 columns]"
      ]
     },
     "execution_count": 20,
     "metadata": {},
     "output_type": "execute_result"
    }
   ],
   "source": [
    "# iteration 수에 따른 성능\n",
    "result = pd.DataFrame({'train_err':model.evals_result_['validation_0']['rmse'],\n",
    "                       'val_err':model.evals_result_['validation_1']['rmse']}  )\n",
    "result"
   ]
  },
  {
   "cell_type": "markdown",
   "metadata": {},
   "source": [
    "* 학습곡선"
   ]
  },
  {
   "cell_type": "code",
   "execution_count": 21,
   "metadata": {},
   "outputs": [
    {
     "data": {
      "image/png": "[encoded data removed]",
      "text/plain": [
       "<Figure size 640x480 with 1 Axes>"
      ]
     },
     "metadata": {},
     "output_type": "display_data"
    }
   ],
   "source": [
    "plt.plot('train_err', data = result, marker = '.', label = 'train_err' )\n",
    "plt.plot('val_err', data = result, marker = '.', label = 'val_err' )\n",
    "plt.legend()\n",
    "plt.grid()\n",
    "plt.show()"
   ]
  },
  {
   "cell_type": "markdown",
   "metadata": {
    "tags": []
   },
   "source": [
    "### (2) autolog\n",
    "* 이제 xgb 코드를 넣고 자동 로깅을 해 봅시다."
   ]
  },
  {
   "cell_type": "code",
   "execution_count": 22,
   "metadata": {
    "tags": []
   },
   "outputs": [
    {
     "name": "stderr",
     "output_type": "stream",
     "text": [
      "2023/04/12 17:13:32 WARNING mlflow.utils.autologging_utils: You are using an unsupported version of xgboost. If you encounter errors during autologging, try upgrading / downgrading xgboost to a supported version, or try upgrading MLflow.\n"
     ]
    },
    {
     "name": "stdout",
     "output_type": "stream",
     "text": [
      "[0]\tvalidation_0-rmse:6.85813\tvalidation_1-rmse:6.83002\n",
      "[1]\tvalidation_0-rmse:6.23220\tvalidation_1-rmse:6.22894\n",
      "[2]\tvalidation_0-rmse:5.66902\tvalidation_1-rmse:5.70176\n",
      "[3]\tvalidation_0-rmse:5.16165\tvalidation_1-rmse:5.25441\n",
      "[4]\tvalidation_0-rmse:4.70303\tvalidation_1-rmse:4.83492\n",
      "[5]\tvalidation_0-rmse:4.29028\tvalidation_1-rmse:4.47706\n",
      "[6]\tvalidation_0-rmse:3.91628\tvalidation_1-rmse:4.15741\n",
      "[7]\tvalidation_0-rmse:3.57998\tvalidation_1-rmse:3.86995\n",
      "[8]\tvalidation_0-rmse:3.27359\tvalidation_1-rmse:3.61345\n",
      "[9]\tvalidation_0-rmse:2.99782\tvalidation_1-rmse:3.37225\n",
      "[10]\tvalidation_0-rmse:2.74822\tvalidation_1-rmse:3.17815\n",
      "[11]\tvalidation_0-rmse:2.52315\tvalidation_1-rmse:3.00625\n",
      "[12]\tvalidation_0-rmse:2.31932\tvalidation_1-rmse:2.84555\n",
      "[13]\tvalidation_0-rmse:2.13497\tvalidation_1-rmse:2.70712\n",
      "[14]\tvalidation_0-rmse:1.96667\tvalidation_1-rmse:2.58429\n",
      "[15]\tvalidation_0-rmse:1.81690\tvalidation_1-rmse:2.48469\n",
      "[16]\tvalidation_0-rmse:1.67716\tvalidation_1-rmse:2.40113\n",
      "[17]\tvalidation_0-rmse:1.55336\tvalidation_1-rmse:2.31965\n",
      "[18]\tvalidation_0-rmse:1.43820\tvalidation_1-rmse:2.24429\n",
      "[19]\tvalidation_0-rmse:1.33579\tvalidation_1-rmse:2.18045\n",
      "[20]\tvalidation_0-rmse:1.24506\tvalidation_1-rmse:2.12952\n",
      "[21]\tvalidation_0-rmse:1.15746\tvalidation_1-rmse:2.08693\n",
      "[22]\tvalidation_0-rmse:1.07852\tvalidation_1-rmse:2.05378\n",
      "[23]\tvalidation_0-rmse:1.00835\tvalidation_1-rmse:2.02599\n",
      "[24]\tvalidation_0-rmse:0.94265\tvalidation_1-rmse:1.99669\n",
      "[25]\tvalidation_0-rmse:0.88443\tvalidation_1-rmse:1.97224\n",
      "[26]\tvalidation_0-rmse:0.82822\tvalidation_1-rmse:1.95215\n",
      "[27]\tvalidation_0-rmse:0.77987\tvalidation_1-rmse:1.93524\n",
      "[28]\tvalidation_0-rmse:0.73307\tvalidation_1-rmse:1.91891\n",
      "[29]\tvalidation_0-rmse:0.69372\tvalidation_1-rmse:1.90582\n",
      "[30]\tvalidation_0-rmse:0.65709\tvalidation_1-rmse:1.89278\n",
      "[31]\tvalidation_0-rmse:0.62109\tvalidation_1-rmse:1.88301\n",
      "[32]\tvalidation_0-rmse:0.59173\tvalidation_1-rmse:1.87072\n",
      "[33]\tvalidation_0-rmse:0.56396\tvalidation_1-rmse:1.86531\n",
      "[34]\tvalidation_0-rmse:0.53827\tvalidation_1-rmse:1.86091\n",
      "[35]\tvalidation_0-rmse:0.51605\tvalidation_1-rmse:1.85321\n",
      "[36]\tvalidation_0-rmse:0.49527\tvalidation_1-rmse:1.84670\n",
      "[37]\tvalidation_0-rmse:0.47499\tvalidation_1-rmse:1.83804\n",
      "[38]\tvalidation_0-rmse:0.45826\tvalidation_1-rmse:1.83281\n",
      "[39]\tvalidation_0-rmse:0.44371\tvalidation_1-rmse:1.82902\n",
      "[40]\tvalidation_0-rmse:0.43001\tvalidation_1-rmse:1.82566\n",
      "[41]\tvalidation_0-rmse:0.41736\tvalidation_1-rmse:1.82173\n",
      "[42]\tvalidation_0-rmse:0.40560\tvalidation_1-rmse:1.81567\n",
      "[43]\tvalidation_0-rmse:0.39304\tvalidation_1-rmse:1.81028\n",
      "[44]\tvalidation_0-rmse:0.38026\tvalidation_1-rmse:1.81018\n",
      "[45]\tvalidation_0-rmse:0.36806\tvalidation_1-rmse:1.80776\n",
      "[46]\tvalidation_0-rmse:0.35751\tvalidation_1-rmse:1.80474\n",
      "[47]\tvalidation_0-rmse:0.34792\tvalidation_1-rmse:1.80456\n",
      "[48]\tvalidation_0-rmse:0.33844\tvalidation_1-rmse:1.80614\n",
      "[49]\tvalidation_0-rmse:0.32952\tvalidation_1-rmse:1.80340\n",
      "[50]\tvalidation_0-rmse:0.32164\tvalidation_1-rmse:1.80419\n",
      "[51]\tvalidation_0-rmse:0.31462\tvalidation_1-rmse:1.80365\n",
      "[52]\tvalidation_0-rmse:0.30668\tvalidation_1-rmse:1.80365\n",
      "[53]\tvalidation_0-rmse:0.30014\tvalidation_1-rmse:1.80423\n",
      "[54]\tvalidation_0-rmse:0.29397\tvalidation_1-rmse:1.80290\n",
      "[55]\tvalidation_0-rmse:0.28904\tvalidation_1-rmse:1.80098\n",
      "[56]\tvalidation_0-rmse:0.28472\tvalidation_1-rmse:1.79948\n",
      "[57]\tvalidation_0-rmse:0.27963\tvalidation_1-rmse:1.79858\n",
      "[58]\tvalidation_0-rmse:0.27344\tvalidation_1-rmse:1.79944\n",
      "[59]\tvalidation_0-rmse:0.26368\tvalidation_1-rmse:1.79882\n",
      "[60]\tvalidation_0-rmse:0.25729\tvalidation_1-rmse:1.79736\n",
      "[61]\tvalidation_0-rmse:0.25029\tvalidation_1-rmse:1.79715\n",
      "[62]\tvalidation_0-rmse:0.24617\tvalidation_1-rmse:1.79656\n",
      "[63]\tvalidation_0-rmse:0.24234\tvalidation_1-rmse:1.79823\n",
      "[64]\tvalidation_0-rmse:0.24064\tvalidation_1-rmse:1.79711\n",
      "[65]\tvalidation_0-rmse:0.23594\tvalidation_1-rmse:1.79573\n",
      "[66]\tvalidation_0-rmse:0.22926\tvalidation_1-rmse:1.79627\n",
      "[67]\tvalidation_0-rmse:0.22518\tvalidation_1-rmse:1.79759\n",
      "[68]\tvalidation_0-rmse:0.22319\tvalidation_1-rmse:1.79784\n",
      "[69]\tvalidation_0-rmse:0.21877\tvalidation_1-rmse:1.79853\n",
      "[70]\tvalidation_0-rmse:0.21602\tvalidation_1-rmse:1.79888\n",
      "[71]\tvalidation_0-rmse:0.21163\tvalidation_1-rmse:1.79963\n",
      "[72]\tvalidation_0-rmse:0.20538\tvalidation_1-rmse:1.80071\n",
      "[73]\tvalidation_0-rmse:0.20160\tvalidation_1-rmse:1.80058\n",
      "[74]\tvalidation_0-rmse:0.19971\tvalidation_1-rmse:1.80020\n",
      "[75]\tvalidation_0-rmse:0.19612\tvalidation_1-rmse:1.79956\n"
     ]
    },
    {
     "name": "stderr",
     "output_type": "stream",
     "text": [
      "2023/04/12 17:13:32 WARNING mlflow.utils.autologging_utils: MLflow autologging encountered a warning: \"C:\\Users\\hanky\\anaconda3\\lib\\site-packages\\mlflow\\models\\signature.py:130: UserWarning: Hint: Inferred schema contains integer column(s). Integer columns in Python cannot represent missing values. If your input data contains missing values at inference time, it will be encoded as floats and will cause a schema enforcement error. The best way to avoid this problem is to infer the model schema based on a realistic data sample (training dataset) that includes missing values. Alternatively, you can declare integer columns as doubles (float64) whenever these columns may have missing values. See `Handling Integers With Missing Values <https://www.mlflow.org/docs/latest/models.html#handling-integers-with-missing-values>`_ for more details.\"\n",
      "Successfully registered model 'XGB'.\n",
      "2023/04/12 17:13:49 INFO mlflow.tracking._model_registry.client: Waiting up to 300 seconds for model version to finish creation.                     Model name: XGB, version 1\n",
      "Created version '1' of model 'XGB'.\n"
     ]
    }
   ],
   "source": [
    "with mlflow.start_run(experiment_id=exp_id, run_name = 'xgb_autolog'):\n",
    "    \n",
    "    mlflow.xgboost.autolog()\n",
    "    model = XGBRegressor(n_estimators=100, objective=\"reg:squarederror\",\n",
    "                     learning_rate=0.1, early_stopping_rounds=10)\n",
    "\n",
    "    eval_set = [(x_train, y_train),(x_val, y_val)]\n",
    "    model.fit(x_train, y_train, eval_set = eval_set )\n",
    "    \n",
    "    mlflow.xgboost.log_model(model, \"model\", registered_model_name=\"XGB\")\n",
    "    \n",
    "    mlflow.xgboost.autolog(disable = True)"
   ]
  },
  {
   "cell_type": "markdown",
   "metadata": {},
   "source": [
    "* mlflow ui로 가서 어떤 것들이 저장되었는지 살펴 봅시다.\n",
    "* 추가로 더 저장할만한 것은 무엇이 있을까요?"
   ]
  }
 ],
 "metadata": {
  "colab": {
   "provenance": [],
   "toc_visible": true
  },
  "kernelspec": {
   "display_name": "Python 3 (ipykernel)",
   "language": "python",
   "name": "python3"
  },
  "language_info": {
   "codemirror_mode": {
    "name": "ipython",
    "version": 3
   },
   "file_extension": ".py",
   "mimetype": "text/x-python",
   "name": "python",
   "nbconvert_exporter": "python",
   "pygments_lexer": "ipython3",
   "version": "3.10.9"
  },
  "toc-autonumbering": false
 },
 "nbformat": 4,
 "nbformat_minor": 4
}
